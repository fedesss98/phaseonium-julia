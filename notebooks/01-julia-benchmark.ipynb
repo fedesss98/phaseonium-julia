{
 "cells": [
  {
   "cell_type": "code",
   "execution_count": 23,
   "id": "c0420c46-d1e5-4e27-ad24-95cb8c222435",
   "metadata": {},
   "outputs": [],
   "source": [
    "using Plots\n",
    "using LinearAlgebra  # for diagonal matrices\n",
    "using ProgressBars\n",
    "using ProgressMeter"
   ]
  },
  {
   "cell_type": "markdown",
   "id": "310b894a-dc44-4d04-9a3a-a322dcdf15d3",
   "metadata": {},
   "source": [
    "## 1) Create a thermal state"
   ]
  },
  {
   "cell_type": "code",
   "execution_count": 2,
   "id": "42e61a6d-8799-42ad-bae2-0ab1def006e1",
   "metadata": {},
   "outputs": [
    {
     "data": {
      "text/plain": [
       "thermalstate (generic function with 1 method)"
      ]
     },
     "execution_count": 2,
     "metadata": {},
     "output_type": "execute_result"
    }
   ],
   "source": [
    "function thermalstate(ndims, ω, T; plotdiag::Bool=false)\n",
    "    dimsrange = 1:ndims\n",
    "    # Create energy eigenstates\n",
    "    energies = zeros(ndims)\n",
    "    for i in dimsrange\n",
    "        energies[i] = exp(-ω*i/T)\n",
    "    end\n",
    "    energies ./= sum(energies)\n",
    "    \n",
    "    if plotdiag\n",
    "        plt = plot(dimsrange, energies)\n",
    "        display(plt)  # use display function to output \n",
    "    end\n",
    "\n",
    "    ρ = Diagonal(energies)\n",
    "end"
   ]
  },
  {
   "cell_type": "code",
   "execution_count": 3,
   "id": "e8aef003-9368-448a-9575-6a0a18c7d32d",
   "metadata": {},
   "outputs": [],
   "source": [
    "# Define the dimensions of the system's Hilbert space\n",
    "ndims = 25\n",
    "\n",
    "# Define the energy of the system and its temperature\n",
    "ω = 1.\n",
    "T = 1.0\n",
    "\n",
    "ρ1 = thermalstate(ndims, ω, T);\n",
    "ρ2 = thermalstate(ndims, ω, T);\n",
    "\n",
    "ρ = kron(ρ1, ρ2);"
   ]
  },
  {
   "cell_type": "code",
   "execution_count": 4,
   "id": "1851b2ac-dc76-4694-80b2-c312f43d131d",
   "metadata": {},
   "outputs": [
    {
     "data": {
      "text/plain": [
       "625×625 Diagonal{Float64, Vector{Float64}}:\n",
       " 0.399576   ⋅         ⋅          ⋅         …   ⋅            ⋅ \n",
       "  ⋅        0.146996   ⋅          ⋅             ⋅            ⋅ \n",
       "  ⋅         ⋅        0.0540768   ⋅             ⋅            ⋅ \n",
       "  ⋅         ⋅         ⋅         0.0198937      ⋅            ⋅ \n",
       "  ⋅         ⋅         ⋅          ⋅             ⋅            ⋅ \n",
       "  ⋅         ⋅         ⋅          ⋅         …   ⋅            ⋅ \n",
       "  ⋅         ⋅         ⋅          ⋅             ⋅            ⋅ \n",
       "  ⋅         ⋅         ⋅          ⋅             ⋅            ⋅ \n",
       "  ⋅         ⋅         ⋅          ⋅             ⋅            ⋅ \n",
       "  ⋅         ⋅         ⋅          ⋅             ⋅            ⋅ \n",
       "  ⋅         ⋅         ⋅          ⋅         …   ⋅            ⋅ \n",
       "  ⋅         ⋅         ⋅          ⋅             ⋅            ⋅ \n",
       "  ⋅         ⋅         ⋅          ⋅             ⋅            ⋅ \n",
       " ⋮                                         ⋱               \n",
       "  ⋅         ⋅         ⋅          ⋅             ⋅            ⋅ \n",
       "  ⋅         ⋅         ⋅          ⋅             ⋅            ⋅ \n",
       "  ⋅         ⋅         ⋅          ⋅         …   ⋅            ⋅ \n",
       "  ⋅         ⋅         ⋅          ⋅             ⋅            ⋅ \n",
       "  ⋅         ⋅         ⋅          ⋅             ⋅            ⋅ \n",
       "  ⋅         ⋅         ⋅          ⋅             ⋅            ⋅ \n",
       "  ⋅         ⋅         ⋅          ⋅             ⋅            ⋅ \n",
       "  ⋅         ⋅         ⋅          ⋅         …   ⋅            ⋅ \n",
       "  ⋅         ⋅         ⋅          ⋅             ⋅            ⋅ \n",
       "  ⋅         ⋅         ⋅          ⋅             ⋅            ⋅ \n",
       "  ⋅         ⋅         ⋅          ⋅            1.54796e-21   ⋅ \n",
       "  ⋅         ⋅         ⋅          ⋅             ⋅           5.69462e-22"
      ]
     },
     "metadata": {},
     "output_type": "display_data"
    },
    {
     "data": {
      "image/png": "[encoded data removed]",
      "image/svg+xml": [
       "<?xml version=\"1.0\" encoding=\"utf-8\"?>\n",
       "<svg xmlns=\"http://www.w3.org/2000/svg\" xmlns:xlink=\"http://www.w3.org/1999/xlink\" width=\"600\" height=\"400\" viewBox=\"0 0 2400 1600\">\n",
       "<defs>\n",
       "  <clipPath id=\"clip550\">\n",
       "    <rect x=\"0\" y=\"0\" width=\"2400\" height=\"1600\"/>\n",
       "  </clipPath>\n",
       "</defs>\n",
       "<path clip-path=\"url(#clip550)\" d=\"M0 1600 L2400 1600 L2400 0 L0 0  Z\" fill=\"#ffffff\" fill-rule=\"evenodd\" fill-opacity=\"1\"/>\n",
       "<defs>\n",
       "  <clipPath id=\"clip551\">\n",
       "    <rect x=\"480\" y=\"0\" width=\"1681\" height=\"1600\"/>\n",
       "  </clipPath>\n",
       "</defs>\n",
       "<path clip-path=\"url(#clip550)\" d=\"M156.598 1486.45 L2352.76 1486.45 L2352.76 47.2441 L156.598 47.2441  Z\" fill=\"#ffffff\" fill-rule=\"evenodd\" fill-opacity=\"1\"/>\n",
       "<defs>\n",
       "  <clipPath id=\"clip552\">\n",
       "    <rect x=\"156\" y=\"47\" width=\"2197\" height=\"1440\"/>\n",
       "  </clipPath>\n",
       "</defs>\n",
       "<polyline clip-path=\"url(#clip552)\" style=\"stroke:#000000; stroke-linecap:round; stroke-linejoin:round; stroke-width:2; stroke-opacity:0.1; fill:none\" points=\"215.433,1486.45 215.433,47.2441 \"/>\n",
       "<polyline clip-path=\"url(#clip552)\" style=\"stroke:#000000; stroke-linecap:round; stroke-linejoin:round; stroke-width:2; stroke-opacity:0.1; fill:none\" points=\"547.46,1486.45 547.46,47.2441 \"/>\n",
       "<polyline clip-path=\"url(#clip552)\" style=\"stroke:#000000; stroke-linecap:round; stroke-linejoin:round; stroke-width:2; stroke-opacity:0.1; fill:none\" points=\"879.487,1486.45 879.487,47.2441 \"/>\n",
       "<polyline clip-path=\"url(#clip552)\" style=\"stroke:#000000; stroke-linecap:round; stroke-linejoin:round; stroke-width:2; stroke-opacity:0.1; fill:none\" points=\"1211.51,1486.45 1211.51,47.2441 \"/>\n",
       "<polyline clip-path=\"url(#clip552)\" style=\"stroke:#000000; stroke-linecap:round; stroke-linejoin:round; stroke-width:2; stroke-opacity:0.1; fill:none\" points=\"1543.54,1486.45 1543.54,47.2441 \"/>\n",
       "<polyline clip-path=\"url(#clip552)\" style=\"stroke:#000000; stroke-linecap:round; stroke-linejoin:round; stroke-width:2; stroke-opacity:0.1; fill:none\" points=\"1875.57,1486.45 1875.57,47.2441 \"/>\n",
       "<polyline clip-path=\"url(#clip552)\" style=\"stroke:#000000; stroke-linecap:round; stroke-linejoin:round; stroke-width:2; stroke-opacity:0.1; fill:none\" points=\"2207.59,1486.45 2207.59,47.2441 \"/>\n",
       "<polyline clip-path=\"url(#clip550)\" style=\"stroke:#000000; stroke-linecap:round; stroke-linejoin:round; stroke-width:4; stroke-opacity:1; fill:none\" points=\"156.598,1486.45 2352.76,1486.45 \"/>\n",
       "<polyline clip-path=\"url(#clip550)\" style=\"stroke:#000000; stroke-linecap:round; stroke-linejoin:round; stroke-width:4; stroke-opacity:1; fill:none\" points=\"215.433,1486.45 215.433,1467.55 \"/>\n",
       "<polyline clip-path=\"url(#clip550)\" style=\"stroke:#000000; stroke-linecap:round; stroke-linejoin:round; stroke-width:4; stroke-opacity:1; fill:none\" points=\"547.46,1486.45 547.46,1467.55 \"/>\n",
       "<polyline clip-path=\"url(#clip550)\" style=\"stroke:#000000; stroke-linecap:round; stroke-linejoin:round; stroke-width:4; stroke-opacity:1; fill:none\" points=\"879.487,1486.45 879.487,1467.55 \"/>\n",
       "<polyline clip-path=\"url(#clip550)\" style=\"stroke:#000000; stroke-linecap:round; stroke-linejoin:round; stroke-width:4; stroke-opacity:1; fill:none\" points=\"1211.51,1486.45 1211.51,1467.55 \"/>\n",
       "<polyline clip-path=\"url(#clip550)\" style=\"stroke:#000000; stroke-linecap:round; stroke-linejoin:round; stroke-width:4; stroke-opacity:1; fill:none\" points=\"1543.54,1486.45 1543.54,1467.55 \"/>\n",
       "<polyline clip-path=\"url(#clip550)\" style=\"stroke:#000000; stroke-linecap:round; stroke-linejoin:round; stroke-width:4; stroke-opacity:1; fill:none\" points=\"1875.57,1486.45 1875.57,1467.55 \"/>\n",
       "<polyline clip-path=\"url(#clip550)\" style=\"stroke:#000000; stroke-linecap:round; stroke-linejoin:round; stroke-width:4; stroke-opacity:1; fill:none\" points=\"2207.59,1486.45 2207.59,1467.55 \"/>\n",
       "<path clip-path=\"url(#clip550)\" d=\"M215.433 1517.37 Q211.822 1517.37 209.994 1520.93 Q208.188 1524.47 208.188 1531.6 Q208.188 1538.71 209.994 1542.27 Q211.822 1545.82 215.433 1545.82 Q219.068 1545.82 220.873 1542.27 Q222.702 1538.71 222.702 1531.6 Q222.702 1524.47 220.873 1520.93 Q219.068 1517.37 215.433 1517.37 M215.433 1513.66 Q221.244 1513.66 224.299 1518.27 Q227.378 1522.85 227.378 1531.6 Q227.378 1540.33 224.299 1544.94 Q221.244 1549.52 215.433 1549.52 Q209.623 1549.52 206.545 1544.94 Q203.489 1540.33 203.489 1531.6 Q203.489 1522.85 206.545 1518.27 Q209.623 1513.66 215.433 1513.66 Z\" fill=\"#000000\" fill-rule=\"nonzero\" fill-opacity=\"1\" /><path clip-path=\"url(#clip550)\" d=\"M507.067 1544.91 L514.706 1544.91 L514.706 1518.55 L506.396 1520.21 L506.396 1515.95 L514.659 1514.29 L519.335 1514.29 L519.335 1544.91 L526.974 1544.91 L526.974 1548.85 L507.067 1548.85 L507.067 1544.91 Z\" fill=\"#000000\" fill-rule=\"nonzero\" fill-opacity=\"1\" /><path clip-path=\"url(#clip550)\" d=\"M546.418 1517.37 Q542.807 1517.37 540.979 1520.93 Q539.173 1524.47 539.173 1531.6 Q539.173 1538.71 540.979 1542.27 Q542.807 1545.82 546.418 1545.82 Q550.053 1545.82 551.858 1542.27 Q553.687 1538.71 553.687 1531.6 Q553.687 1524.47 551.858 1520.93 Q550.053 1517.37 546.418 1517.37 M546.418 1513.66 Q552.229 1513.66 555.284 1518.27 Q558.363 1522.85 558.363 1531.6 Q558.363 1540.33 555.284 1544.94 Q552.229 1549.52 546.418 1549.52 Q540.608 1549.52 537.53 1544.94 Q534.474 1540.33 534.474 1531.6 Q534.474 1522.85 537.53 1518.27 Q540.608 1513.66 546.418 1513.66 Z\" fill=\"#000000\" fill-rule=\"nonzero\" fill-opacity=\"1\" /><path clip-path=\"url(#clip550)\" d=\"M576.58 1517.37 Q572.969 1517.37 571.141 1520.93 Q569.335 1524.47 569.335 1531.6 Q569.335 1538.71 571.141 1542.27 Q572.969 1545.82 576.58 1545.82 Q580.215 1545.82 582.02 1542.27 Q583.849 1538.71 583.849 1531.6 Q583.849 1524.47 582.02 1520.93 Q580.215 1517.37 576.58 1517.37 M576.58 1513.66 Q582.39 1513.66 585.446 1518.27 Q588.525 1522.85 588.525 1531.6 Q588.525 1540.33 585.446 1544.94 Q582.39 1549.52 576.58 1549.52 Q570.77 1549.52 567.691 1544.94 Q564.636 1540.33 564.636 1531.6 Q564.636 1522.85 567.691 1518.27 Q570.77 1513.66 576.58 1513.66 Z\" fill=\"#000000\" fill-rule=\"nonzero\" fill-opacity=\"1\" /><path clip-path=\"url(#clip550)\" d=\"M843.179 1544.91 L859.499 1544.91 L859.499 1548.85 L837.554 1548.85 L837.554 1544.91 Q840.216 1542.16 844.8 1537.53 Q849.406 1532.88 850.587 1531.53 Q852.832 1529.01 853.712 1527.27 Q854.614 1525.51 854.614 1523.82 Q854.614 1521.07 852.67 1519.33 Q850.749 1517.6 847.647 1517.6 Q845.448 1517.6 842.994 1518.36 Q840.563 1519.13 837.786 1520.68 L837.786 1515.95 Q840.61 1514.82 843.063 1514.24 Q845.517 1513.66 847.554 1513.66 Q852.924 1513.66 856.119 1516.35 Q859.313 1519.03 859.313 1523.52 Q859.313 1525.65 858.503 1527.57 Q857.716 1529.47 855.61 1532.07 Q855.031 1532.74 851.929 1535.95 Q848.827 1539.15 843.179 1544.91 Z\" fill=\"#000000\" fill-rule=\"nonzero\" fill-opacity=\"1\" /><path clip-path=\"url(#clip550)\" d=\"M879.313 1517.37 Q875.702 1517.37 873.873 1520.93 Q872.068 1524.47 872.068 1531.6 Q872.068 1538.71 873.873 1542.27 Q875.702 1545.82 879.313 1545.82 Q882.947 1545.82 884.753 1542.27 Q886.582 1538.71 886.582 1531.6 Q886.582 1524.47 884.753 1520.93 Q882.947 1517.37 879.313 1517.37 M879.313 1513.66 Q885.123 1513.66 888.179 1518.27 Q891.258 1522.85 891.258 1531.6 Q891.258 1540.33 888.179 1544.94 Q885.123 1549.52 879.313 1549.52 Q873.503 1549.52 870.424 1544.94 Q867.369 1540.33 867.369 1531.6 Q867.369 1522.85 870.424 1518.27 Q873.503 1513.66 879.313 1513.66 Z\" fill=\"#000000\" fill-rule=\"nonzero\" fill-opacity=\"1\" /><path clip-path=\"url(#clip550)\" d=\"M909.475 1517.37 Q905.864 1517.37 904.035 1520.93 Q902.23 1524.47 902.23 1531.6 Q902.23 1538.71 904.035 1542.27 Q905.864 1545.82 909.475 1545.82 Q913.109 1545.82 914.915 1542.27 Q916.744 1538.71 916.744 1531.6 Q916.744 1524.47 914.915 1520.93 Q913.109 1517.37 909.475 1517.37 M909.475 1513.66 Q915.285 1513.66 918.341 1518.27 Q921.419 1522.85 921.419 1531.6 Q921.419 1540.33 918.341 1544.94 Q915.285 1549.52 909.475 1549.52 Q903.665 1549.52 900.586 1544.94 Q897.531 1540.33 897.531 1531.6 Q897.531 1522.85 900.586 1518.27 Q903.665 1513.66 909.475 1513.66 Z\" fill=\"#000000\" fill-rule=\"nonzero\" fill-opacity=\"1\" /><path clip-path=\"url(#clip550)\" d=\"M1185.28 1530.21 Q1188.63 1530.93 1190.51 1533.2 Q1192.4 1535.47 1192.4 1538.8 Q1192.4 1543.92 1188.89 1546.72 Q1185.37 1549.52 1178.89 1549.52 Q1176.71 1549.52 1174.4 1549.08 Q1172.1 1548.66 1169.65 1547.81 L1169.65 1543.29 Q1171.59 1544.43 1173.91 1545.01 Q1176.22 1545.58 1178.75 1545.58 Q1183.15 1545.58 1185.44 1543.85 Q1187.75 1542.11 1187.75 1538.8 Q1187.75 1535.75 1185.6 1534.03 Q1183.47 1532.3 1179.65 1532.3 L1175.62 1532.3 L1175.62 1528.45 L1179.84 1528.45 Q1183.28 1528.45 1185.11 1527.09 Q1186.94 1525.7 1186.94 1523.11 Q1186.94 1520.45 1185.04 1519.03 Q1183.17 1517.6 1179.65 1517.6 Q1177.73 1517.6 1175.53 1518.01 Q1173.33 1518.43 1170.69 1519.31 L1170.69 1515.14 Q1173.35 1514.4 1175.67 1514.03 Q1178.01 1513.66 1180.07 1513.66 Q1185.39 1513.66 1188.49 1516.09 Q1191.59 1518.5 1191.59 1522.62 Q1191.59 1525.49 1189.95 1527.48 Q1188.31 1529.45 1185.28 1530.21 Z\" fill=\"#000000\" fill-rule=\"nonzero\" fill-opacity=\"1\" /><path clip-path=\"url(#clip550)\" d=\"M1211.27 1517.37 Q1207.66 1517.37 1205.83 1520.93 Q1204.03 1524.47 1204.03 1531.6 Q1204.03 1538.71 1205.83 1542.27 Q1207.66 1545.82 1211.27 1545.82 Q1214.9 1545.82 1216.71 1542.27 Q1218.54 1538.71 1218.54 1531.6 Q1218.54 1524.47 1216.71 1520.93 Q1214.9 1517.37 1211.27 1517.37 M1211.27 1513.66 Q1217.08 1513.66 1220.14 1518.27 Q1223.21 1522.85 1223.21 1531.6 Q1223.21 1540.33 1220.14 1544.94 Q1217.08 1549.52 1211.27 1549.52 Q1205.46 1549.52 1202.38 1544.94 Q1199.33 1540.33 1199.33 1531.6 Q1199.33 1522.85 1202.38 1518.27 Q1205.46 1513.66 1211.27 1513.66 Z\" fill=\"#000000\" fill-rule=\"nonzero\" fill-opacity=\"1\" /><path clip-path=\"url(#clip550)\" d=\"M1241.43 1517.37 Q1237.82 1517.37 1235.99 1520.93 Q1234.19 1524.47 1234.19 1531.6 Q1234.19 1538.71 1235.99 1542.27 Q1237.82 1545.82 1241.43 1545.82 Q1245.07 1545.82 1246.87 1542.27 Q1248.7 1538.71 1248.7 1531.6 Q1248.7 1524.47 1246.87 1520.93 Q1245.07 1517.37 1241.43 1517.37 M1241.43 1513.66 Q1247.24 1513.66 1250.3 1518.27 Q1253.38 1522.85 1253.38 1531.6 Q1253.38 1540.33 1250.3 1544.94 Q1247.24 1549.52 1241.43 1549.52 Q1235.62 1549.52 1232.54 1544.94 Q1229.49 1540.33 1229.49 1531.6 Q1229.49 1522.85 1232.54 1518.27 Q1235.62 1513.66 1241.43 1513.66 Z\" fill=\"#000000\" fill-rule=\"nonzero\" fill-opacity=\"1\" /><path clip-path=\"url(#clip550)\" d=\"M1516.63 1518.36 L1504.83 1536.81 L1516.63 1536.81 L1516.63 1518.36 M1515.4 1514.29 L1521.28 1514.29 L1521.28 1536.81 L1526.21 1536.81 L1526.21 1540.7 L1521.28 1540.7 L1521.28 1548.85 L1516.63 1548.85 L1516.63 1540.7 L1501.03 1540.7 L1501.03 1536.19 L1515.4 1514.29 Z\" fill=\"#000000\" fill-rule=\"nonzero\" fill-opacity=\"1\" /><path clip-path=\"url(#clip550)\" d=\"M1543.95 1517.37 Q1540.33 1517.37 1538.51 1520.93 Q1536.7 1524.47 1536.7 1531.6 Q1536.7 1538.71 1538.51 1542.27 Q1540.33 1545.82 1543.95 1545.82 Q1547.58 1545.82 1549.39 1542.27 Q1551.21 1538.71 1551.21 1531.6 Q1551.21 1524.47 1549.39 1520.93 Q1547.58 1517.37 1543.95 1517.37 M1543.95 1513.66 Q1549.76 1513.66 1552.81 1518.27 Q1555.89 1522.85 1555.89 1531.6 Q1555.89 1540.33 1552.81 1544.94 Q1549.76 1549.52 1543.95 1549.52 Q1538.14 1549.52 1535.06 1544.94 Q1532 1540.33 1532 1531.6 Q1532 1522.85 1535.06 1518.27 Q1538.14 1513.66 1543.95 1513.66 Z\" fill=\"#000000\" fill-rule=\"nonzero\" fill-opacity=\"1\" /><path clip-path=\"url(#clip550)\" d=\"M1574.11 1517.37 Q1570.5 1517.37 1568.67 1520.93 Q1566.86 1524.47 1566.86 1531.6 Q1566.86 1538.71 1568.67 1542.27 Q1570.5 1545.82 1574.11 1545.82 Q1577.74 1545.82 1579.55 1542.27 Q1581.38 1538.71 1581.38 1531.6 Q1581.38 1524.47 1579.55 1520.93 Q1577.74 1517.37 1574.11 1517.37 M1574.11 1513.66 Q1579.92 1513.66 1582.97 1518.27 Q1586.05 1522.85 1586.05 1531.6 Q1586.05 1540.33 1582.97 1544.94 Q1579.92 1549.52 1574.11 1549.52 Q1568.3 1549.52 1565.22 1544.94 Q1562.16 1540.33 1562.16 1531.6 Q1562.16 1522.85 1565.22 1518.27 Q1568.3 1513.66 1574.11 1513.66 Z\" fill=\"#000000\" fill-rule=\"nonzero\" fill-opacity=\"1\" /><path clip-path=\"url(#clip550)\" d=\"M1835.19 1514.29 L1853.54 1514.29 L1853.54 1518.22 L1839.47 1518.22 L1839.47 1526.7 Q1840.49 1526.35 1841.5 1526.19 Q1842.52 1526 1843.54 1526 Q1849.33 1526 1852.71 1529.17 Q1856.09 1532.34 1856.09 1537.76 Q1856.09 1543.34 1852.62 1546.44 Q1849.14 1549.52 1842.82 1549.52 Q1840.65 1549.52 1838.38 1549.15 Q1836.13 1548.78 1833.73 1548.04 L1833.73 1543.34 Q1835.81 1544.47 1838.03 1545.03 Q1840.25 1545.58 1842.73 1545.58 Q1846.74 1545.58 1849.07 1543.48 Q1851.41 1541.37 1851.41 1537.76 Q1851.41 1534.15 1849.07 1532.04 Q1846.74 1529.94 1842.73 1529.94 Q1840.86 1529.94 1838.98 1530.35 Q1837.13 1530.77 1835.19 1531.65 L1835.19 1514.29 Z\" fill=\"#000000\" fill-rule=\"nonzero\" fill-opacity=\"1\" /><path clip-path=\"url(#clip550)\" d=\"M1875.3 1517.37 Q1871.69 1517.37 1869.86 1520.93 Q1868.06 1524.47 1868.06 1531.6 Q1868.06 1538.71 1869.86 1542.27 Q1871.69 1545.82 1875.3 1545.82 Q1878.94 1545.82 1880.74 1542.27 Q1882.57 1538.71 1882.57 1531.6 Q1882.57 1524.47 1880.74 1520.93 Q1878.94 1517.37 1875.3 1517.37 M1875.3 1513.66 Q1881.11 1513.66 1884.17 1518.27 Q1887.25 1522.85 1887.25 1531.6 Q1887.25 1540.33 1884.17 1544.94 Q1881.11 1549.52 1875.3 1549.52 Q1869.49 1549.52 1866.41 1544.94 Q1863.36 1540.33 1863.36 1531.6 Q1863.36 1522.85 1866.41 1518.27 Q1869.49 1513.66 1875.3 1513.66 Z\" fill=\"#000000\" fill-rule=\"nonzero\" fill-opacity=\"1\" /><path clip-path=\"url(#clip550)\" d=\"M1905.46 1517.37 Q1901.85 1517.37 1900.02 1520.93 Q1898.22 1524.47 1898.22 1531.6 Q1898.22 1538.71 1900.02 1542.27 Q1901.85 1545.82 1905.46 1545.82 Q1909.1 1545.82 1910.9 1542.27 Q1912.73 1538.71 1912.73 1531.6 Q1912.73 1524.47 1910.9 1520.93 Q1909.1 1517.37 1905.46 1517.37 M1905.46 1513.66 Q1911.27 1513.66 1914.33 1518.27 Q1917.41 1522.85 1917.41 1531.6 Q1917.41 1540.33 1914.33 1544.94 Q1911.27 1549.52 1905.46 1549.52 Q1899.65 1549.52 1896.57 1544.94 Q1893.52 1540.33 1893.52 1531.6 Q1893.52 1522.85 1896.57 1518.27 Q1899.65 1513.66 1905.46 1513.66 Z\" fill=\"#000000\" fill-rule=\"nonzero\" fill-opacity=\"1\" /><path clip-path=\"url(#clip550)\" d=\"M2177.92 1529.7 Q2174.77 1529.7 2172.92 1531.86 Q2171.09 1534.01 2171.09 1537.76 Q2171.09 1541.49 2172.92 1543.66 Q2174.77 1545.82 2177.92 1545.82 Q2181.07 1545.82 2182.89 1543.66 Q2184.75 1541.49 2184.75 1537.76 Q2184.75 1534.01 2182.89 1531.86 Q2181.07 1529.7 2177.92 1529.7 M2187.2 1515.05 L2187.2 1519.31 Q2185.44 1518.48 2183.64 1518.04 Q2181.85 1517.6 2180.09 1517.6 Q2175.46 1517.6 2173.01 1520.72 Q2170.58 1523.85 2170.23 1530.17 Q2171.6 1528.15 2173.66 1527.09 Q2175.72 1526 2178.2 1526 Q2183.4 1526 2186.41 1529.17 Q2189.45 1532.32 2189.45 1537.76 Q2189.45 1543.08 2186.3 1546.3 Q2183.15 1549.52 2177.92 1549.52 Q2171.92 1549.52 2168.75 1544.94 Q2165.58 1540.33 2165.58 1531.6 Q2165.58 1523.41 2169.47 1518.55 Q2173.36 1513.66 2179.91 1513.66 Q2181.67 1513.66 2183.45 1514.01 Q2185.26 1514.36 2187.2 1515.05 Z\" fill=\"#000000\" fill-rule=\"nonzero\" fill-opacity=\"1\" /><path clip-path=\"url(#clip550)\" d=\"M2207.5 1517.37 Q2203.89 1517.37 2202.06 1520.93 Q2200.26 1524.47 2200.26 1531.6 Q2200.26 1538.71 2202.06 1542.27 Q2203.89 1545.82 2207.5 1545.82 Q2211.14 1545.82 2212.94 1542.27 Q2214.77 1538.71 2214.77 1531.6 Q2214.77 1524.47 2212.94 1520.93 Q2211.14 1517.37 2207.5 1517.37 M2207.5 1513.66 Q2213.31 1513.66 2216.37 1518.27 Q2219.45 1522.85 2219.45 1531.6 Q2219.45 1540.33 2216.37 1544.94 Q2213.31 1549.52 2207.5 1549.52 Q2201.69 1549.52 2198.61 1544.94 Q2195.56 1540.33 2195.56 1531.6 Q2195.56 1522.85 2198.61 1518.27 Q2201.69 1513.66 2207.5 1513.66 Z\" fill=\"#000000\" fill-rule=\"nonzero\" fill-opacity=\"1\" /><path clip-path=\"url(#clip550)\" d=\"M2237.66 1517.37 Q2234.05 1517.37 2232.22 1520.93 Q2230.42 1524.47 2230.42 1531.6 Q2230.42 1538.71 2232.22 1542.27 Q2234.05 1545.82 2237.66 1545.82 Q2241.3 1545.82 2243.1 1542.27 Q2244.93 1538.71 2244.93 1531.6 Q2244.93 1524.47 2243.1 1520.93 Q2241.3 1517.37 2237.66 1517.37 M2237.66 1513.66 Q2243.47 1513.66 2246.53 1518.27 Q2249.61 1522.85 2249.61 1531.6 Q2249.61 1540.33 2246.53 1544.94 Q2243.47 1549.52 2237.66 1549.52 Q2231.85 1549.52 2228.77 1544.94 Q2225.72 1540.33 2225.72 1531.6 Q2225.72 1522.85 2228.77 1518.27 Q2231.85 1513.66 2237.66 1513.66 Z\" fill=\"#000000\" fill-rule=\"nonzero\" fill-opacity=\"1\" /><polyline clip-path=\"url(#clip552)\" style=\"stroke:#000000; stroke-linecap:round; stroke-linejoin:round; stroke-width:2; stroke-opacity:0.1; fill:none\" points=\"156.598,1445.72 2352.76,1445.72 \"/>\n",
       "<polyline clip-path=\"url(#clip552)\" style=\"stroke:#000000; stroke-linecap:round; stroke-linejoin:round; stroke-width:2; stroke-opacity:0.1; fill:none\" points=\"156.598,1105.92 2352.76,1105.92 \"/>\n",
       "<polyline clip-path=\"url(#clip552)\" style=\"stroke:#000000; stroke-linecap:round; stroke-linejoin:round; stroke-width:2; stroke-opacity:0.1; fill:none\" points=\"156.598,766.126 2352.76,766.126 \"/>\n",
       "<polyline clip-path=\"url(#clip552)\" style=\"stroke:#000000; stroke-linecap:round; stroke-linejoin:round; stroke-width:2; stroke-opacity:0.1; fill:none\" points=\"156.598,426.332 2352.76,426.332 \"/>\n",
       "<polyline clip-path=\"url(#clip552)\" style=\"stroke:#000000; stroke-linecap:round; stroke-linejoin:round; stroke-width:2; stroke-opacity:0.1; fill:none\" points=\"156.598,86.5369 2352.76,86.5369 \"/>\n",
       "<polyline clip-path=\"url(#clip550)\" style=\"stroke:#000000; stroke-linecap:round; stroke-linejoin:round; stroke-width:4; stroke-opacity:1; fill:none\" points=\"156.598,1486.45 156.598,47.2441 \"/>\n",
       "<polyline clip-path=\"url(#clip550)\" style=\"stroke:#000000; stroke-linecap:round; stroke-linejoin:round; stroke-width:4; stroke-opacity:1; fill:none\" points=\"156.598,1445.72 175.496,1445.72 \"/>\n",
       "<polyline clip-path=\"url(#clip550)\" style=\"stroke:#000000; stroke-linecap:round; stroke-linejoin:round; stroke-width:4; stroke-opacity:1; fill:none\" points=\"156.598,1105.92 175.496,1105.92 \"/>\n",
       "<polyline clip-path=\"url(#clip550)\" style=\"stroke:#000000; stroke-linecap:round; stroke-linejoin:round; stroke-width:4; stroke-opacity:1; fill:none\" points=\"156.598,766.126 175.496,766.126 \"/>\n",
       "<polyline clip-path=\"url(#clip550)\" style=\"stroke:#000000; stroke-linecap:round; stroke-linejoin:round; stroke-width:4; stroke-opacity:1; fill:none\" points=\"156.598,426.332 175.496,426.332 \"/>\n",
       "<polyline clip-path=\"url(#clip550)\" style=\"stroke:#000000; stroke-linecap:round; stroke-linejoin:round; stroke-width:4; stroke-opacity:1; fill:none\" points=\"156.598,86.5369 175.496,86.5369 \"/>\n",
       "<path clip-path=\"url(#clip550)\" d=\"M63.4226 1431.51 Q59.8115 1431.51 57.9828 1435.08 Q56.1773 1438.62 56.1773 1445.75 Q56.1773 1452.86 57.9828 1456.42 Q59.8115 1459.96 63.4226 1459.96 Q67.0569 1459.96 68.8624 1456.42 Q70.6911 1452.86 70.6911 1445.75 Q70.6911 1438.62 68.8624 1435.08 Q67.0569 1431.51 63.4226 1431.51 M63.4226 1427.81 Q69.2328 1427.81 72.2883 1432.42 Q75.367 1437 75.367 1445.75 Q75.367 1454.48 72.2883 1459.08 Q69.2328 1463.67 63.4226 1463.67 Q57.6125 1463.67 54.5338 1459.08 Q51.4782 1454.48 51.4782 1445.75 Q51.4782 1437 54.5338 1432.42 Q57.6125 1427.81 63.4226 1427.81 Z\" fill=\"#000000\" fill-rule=\"nonzero\" fill-opacity=\"1\" /><path clip-path=\"url(#clip550)\" d=\"M83.5845 1457.12 L88.4688 1457.12 L88.4688 1463 L83.5845 1463 L83.5845 1457.12 Z\" fill=\"#000000\" fill-rule=\"nonzero\" fill-opacity=\"1\" /><path clip-path=\"url(#clip550)\" d=\"M108.654 1431.51 Q105.043 1431.51 103.214 1435.08 Q101.409 1438.62 101.409 1445.75 Q101.409 1452.86 103.214 1456.42 Q105.043 1459.96 108.654 1459.96 Q112.288 1459.96 114.094 1456.42 Q115.922 1452.86 115.922 1445.75 Q115.922 1438.62 114.094 1435.08 Q112.288 1431.51 108.654 1431.51 M108.654 1427.81 Q114.464 1427.81 117.52 1432.42 Q120.598 1437 120.598 1445.75 Q120.598 1454.48 117.52 1459.08 Q114.464 1463.67 108.654 1463.67 Q102.844 1463.67 99.765 1459.08 Q96.7095 1454.48 96.7095 1445.75 Q96.7095 1437 99.765 1432.42 Q102.844 1427.81 108.654 1427.81 Z\" fill=\"#000000\" fill-rule=\"nonzero\" fill-opacity=\"1\" /><path clip-path=\"url(#clip550)\" d=\"M64.6495 1091.72 Q61.0384 1091.72 59.2097 1095.28 Q57.4041 1098.83 57.4041 1105.96 Q57.4041 1113.06 59.2097 1116.63 Q61.0384 1120.17 64.6495 1120.17 Q68.2837 1120.17 70.0892 1116.63 Q71.9179 1113.06 71.9179 1105.96 Q71.9179 1098.83 70.0892 1095.28 Q68.2837 1091.72 64.6495 1091.72 M64.6495 1088.02 Q70.4596 1088.02 73.5152 1092.62 Q76.5938 1097.21 76.5938 1105.96 Q76.5938 1114.68 73.5152 1119.29 Q70.4596 1123.87 64.6495 1123.87 Q58.8393 1123.87 55.7606 1119.29 Q52.7051 1114.68 52.7051 1105.96 Q52.7051 1097.21 55.7606 1092.62 Q58.8393 1088.02 64.6495 1088.02 Z\" fill=\"#000000\" fill-rule=\"nonzero\" fill-opacity=\"1\" /><path clip-path=\"url(#clip550)\" d=\"M84.8114 1117.32 L89.6956 1117.32 L89.6956 1123.2 L84.8114 1123.2 L84.8114 1117.32 Z\" fill=\"#000000\" fill-rule=\"nonzero\" fill-opacity=\"1\" /><path clip-path=\"url(#clip550)\" d=\"M100.691 1119.27 L108.33 1119.27 L108.33 1092.9 L100.02 1094.57 L100.02 1090.31 L108.283 1088.64 L112.959 1088.64 L112.959 1119.27 L120.598 1119.27 L120.598 1123.2 L100.691 1123.2 L100.691 1119.27 Z\" fill=\"#000000\" fill-rule=\"nonzero\" fill-opacity=\"1\" /><path clip-path=\"url(#clip550)\" d=\"M65.0198 751.925 Q61.4087 751.925 59.58 755.49 Q57.7745 759.031 57.7745 766.161 Q57.7745 773.267 59.58 776.832 Q61.4087 780.374 65.0198 780.374 Q68.6541 780.374 70.4596 776.832 Q72.2883 773.267 72.2883 766.161 Q72.2883 759.031 70.4596 755.49 Q68.6541 751.925 65.0198 751.925 M65.0198 748.221 Q70.83 748.221 73.8855 752.828 Q76.9642 757.411 76.9642 766.161 Q76.9642 774.888 73.8855 779.494 Q70.83 784.078 65.0198 784.078 Q59.2097 784.078 56.131 779.494 Q53.0754 774.888 53.0754 766.161 Q53.0754 757.411 56.131 752.828 Q59.2097 748.221 65.0198 748.221 Z\" fill=\"#000000\" fill-rule=\"nonzero\" fill-opacity=\"1\" /><path clip-path=\"url(#clip550)\" d=\"M85.1818 777.527 L90.066 777.527 L90.066 783.406 L85.1818 783.406 L85.1818 777.527 Z\" fill=\"#000000\" fill-rule=\"nonzero\" fill-opacity=\"1\" /><path clip-path=\"url(#clip550)\" d=\"M104.279 779.471 L120.598 779.471 L120.598 783.406 L98.6539 783.406 L98.6539 779.471 Q101.316 776.717 105.899 772.087 Q110.506 767.434 111.686 766.092 Q113.932 763.568 114.811 761.832 Q115.714 760.073 115.714 758.383 Q115.714 755.629 113.77 753.893 Q111.848 752.156 108.746 752.156 Q106.547 752.156 104.094 752.92 Q101.663 753.684 98.8854 755.235 L98.8854 750.513 Q101.709 749.379 104.163 748.8 Q106.617 748.221 108.654 748.221 Q114.024 748.221 117.219 750.906 Q120.413 753.592 120.413 758.082 Q120.413 760.212 119.603 762.133 Q118.816 764.031 116.709 766.624 Q116.131 767.295 113.029 770.513 Q109.927 773.707 104.279 779.471 Z\" fill=\"#000000\" fill-rule=\"nonzero\" fill-opacity=\"1\" /><path clip-path=\"url(#clip550)\" d=\"M64.0708 412.13 Q60.4597 412.13 58.631 415.695 Q56.8254 419.237 56.8254 426.366 Q56.8254 433.473 58.631 437.038 Q60.4597 440.579 64.0708 440.579 Q67.705 440.579 69.5105 437.038 Q71.3392 433.473 71.3392 426.366 Q71.3392 419.237 69.5105 415.695 Q67.705 412.13 64.0708 412.13 M64.0708 408.427 Q69.8809 408.427 72.9365 413.033 Q76.0151 417.616 76.0151 426.366 Q76.0151 435.093 72.9365 439.7 Q69.8809 444.283 64.0708 444.283 Q58.2606 444.283 55.1819 439.7 Q52.1264 435.093 52.1264 426.366 Q52.1264 417.616 55.1819 413.033 Q58.2606 408.427 64.0708 408.427 Z\" fill=\"#000000\" fill-rule=\"nonzero\" fill-opacity=\"1\" /><path clip-path=\"url(#clip550)\" d=\"M84.2327 437.732 L89.1169 437.732 L89.1169 443.612 L84.2327 443.612 L84.2327 437.732 Z\" fill=\"#000000\" fill-rule=\"nonzero\" fill-opacity=\"1\" /><path clip-path=\"url(#clip550)\" d=\"M113.469 424.977 Q116.825 425.695 118.7 427.964 Q120.598 430.232 120.598 433.565 Q120.598 438.681 117.08 441.482 Q113.561 444.283 107.08 444.283 Q104.904 444.283 102.589 443.843 Q100.297 443.426 97.8437 442.57 L97.8437 438.056 Q99.7882 439.19 102.103 439.769 Q104.418 440.348 106.941 440.348 Q111.339 440.348 113.631 438.612 Q115.945 436.876 115.945 433.565 Q115.945 430.51 113.793 428.797 Q111.663 427.061 107.844 427.061 L103.816 427.061 L103.816 423.218 L108.029 423.218 Q111.478 423.218 113.307 421.852 Q115.135 420.464 115.135 417.871 Q115.135 415.209 113.237 413.797 Q111.362 412.362 107.844 412.362 Q105.922 412.362 103.723 412.778 Q101.524 413.195 98.8854 414.075 L98.8854 409.908 Q101.547 409.167 103.862 408.797 Q106.2 408.427 108.26 408.427 Q113.584 408.427 116.686 410.857 Q119.788 413.265 119.788 417.385 Q119.788 420.255 118.145 422.246 Q116.501 424.214 113.469 424.977 Z\" fill=\"#000000\" fill-rule=\"nonzero\" fill-opacity=\"1\" /><path clip-path=\"url(#clip550)\" d=\"M62.9365 72.3356 Q59.3254 72.3356 57.4967 75.9004 Q55.6912 79.442 55.6912 86.5716 Q55.6912 93.6781 57.4967 97.2429 Q59.3254 100.785 62.9365 100.785 Q66.5707 100.785 68.3763 97.2429 Q70.205 93.6781 70.205 86.5716 Q70.205 79.442 68.3763 75.9004 Q66.5707 72.3356 62.9365 72.3356 M62.9365 68.6319 Q68.7467 68.6319 71.8022 73.2384 Q74.8809 77.8217 74.8809 86.5716 Q74.8809 95.2984 71.8022 99.9049 Q68.7467 104.488 62.9365 104.488 Q57.1264 104.488 54.0477 99.9049 Q50.9921 95.2984 50.9921 86.5716 Q50.9921 77.8217 54.0477 73.2384 Q57.1264 68.6319 62.9365 68.6319 Z\" fill=\"#000000\" fill-rule=\"nonzero\" fill-opacity=\"1\" /><path clip-path=\"url(#clip550)\" d=\"M83.0984 97.9373 L87.9827 97.9373 L87.9827 103.817 L83.0984 103.817 L83.0984 97.9373 Z\" fill=\"#000000\" fill-rule=\"nonzero\" fill-opacity=\"1\" /><path clip-path=\"url(#clip550)\" d=\"M111.015 73.331 L99.2095 91.7799 L111.015 91.7799 L111.015 73.331 M109.788 69.2569 L115.668 69.2569 L115.668 91.7799 L120.598 91.7799 L120.598 95.6688 L115.668 95.6688 L115.668 103.817 L111.015 103.817 L111.015 95.6688 L95.4132 95.6688 L95.4132 91.1549 L109.788 69.2569 Z\" fill=\"#000000\" fill-rule=\"nonzero\" fill-opacity=\"1\" /><polyline clip-path=\"url(#clip552)\" style=\"stroke:#009af9; stroke-linecap:round; stroke-linejoin:round; stroke-width:4; stroke-opacity:1; fill:none\" points=\"218.754,87.9763 222.074,946.231 225.394,1261.97 228.714,1378.12 232.035,1420.85 235.355,1436.57 238.675,1442.35 241.996,1444.48 245.316,1445.26 248.636,1445.55 251.956,1445.65 255.277,1445.69 258.597,1445.71 261.917,1445.71 265.237,1445.71 268.558,1445.72 271.878,1445.72 275.198,1445.72 278.518,1445.72 281.839,1445.72 285.159,1445.72 288.479,1445.72 291.8,1445.72 295.12,1445.72 298.44,1445.72 301.76,946.231 305.081,1261.97 308.401,1378.12 311.721,1420.85 315.041,1436.57 318.362,1442.35 321.682,1444.48 325.002,1445.26 328.322,1445.55 331.643,1445.65 334.963,1445.69 338.283,1445.71 341.604,1445.71 344.924,1445.71 348.244,1445.72 351.564,1445.72 354.885,1445.72 358.205,1445.72 361.525,1445.72 364.845,1445.72 368.166,1445.72 371.486,1445.72 374.806,1445.72 378.126,1445.72 381.447,1445.72 384.767,1261.97 388.087,1378.12 391.408,1420.85 394.728,1436.57 398.048,1442.35 401.368,1444.48 404.689,1445.26 408.009,1445.55 411.329,1445.65 414.649,1445.69 417.97,1445.71 421.29,1445.71 424.61,1445.71 427.93,1445.72 431.251,1445.72 434.571,1445.72 437.891,1445.72 441.212,1445.72 444.532,1445.72 447.852,1445.72 451.172,1445.72 454.493,1445.72 457.813,1445.72 461.133,1445.72 464.453,1445.72 467.774,1378.12 471.094,1420.85 474.414,1436.57 477.734,1442.35 481.055,1444.48 484.375,1445.26 487.695,1445.55 491.016,1445.65 494.336,1445.69 497.656,1445.71 500.976,1445.71 504.297,1445.71 507.617,1445.72 510.937,1445.72 514.257,1445.72 517.578,1445.72 520.898,1445.72 524.218,1445.72 527.539,1445.72 530.859,1445.72 534.179,1445.72 537.499,1445.72 540.82,1445.72 544.14,1445.72 547.46,1445.72 550.78,1420.85 554.101,1436.57 557.421,1442.35 560.741,1444.48 564.061,1445.26 567.382,1445.55 570.702,1445.65 574.022,1445.69 577.343,1445.71 580.663,1445.71 583.983,1445.71 587.303,1445.72 590.624,1445.72 593.944,1445.72 597.264,1445.72 600.584,1445.72 603.905,1445.72 607.225,1445.72 610.545,1445.72 613.865,1445.72 617.186,1445.72 620.506,1445.72 623.826,1445.72 627.147,1445.72 630.467,1445.72 633.787,1436.57 637.107,1442.35 640.428,1444.48 643.748,1445.26 647.068,1445.55 650.388,1445.65 653.709,1445.69 657.029,1445.71 660.349,1445.71 663.669,1445.71 666.99,1445.72 670.31,1445.72 673.63,1445.72 676.951,1445.72 680.271,1445.72 683.591,1445.72 686.911,1445.72 690.232,1445.72 693.552,1445.72 696.872,1445.72 700.192,1445.72 703.513,1445.72 706.833,1445.72 710.153,1445.72 713.473,1445.72 716.794,1442.35 720.114,1444.48 723.434,1445.26 726.755,1445.55 730.075,1445.65 733.395,1445.69 736.715,1445.71 740.036,1445.71 743.356,1445.71 746.676,1445.72 749.996,1445.72 753.317,1445.72 756.637,1445.72 759.957,1445.72 763.277,1445.72 766.598,1445.72 769.918,1445.72 773.238,1445.72 776.559,1445.72 779.879,1445.72 783.199,1445.72 786.519,1445.72 789.84,1445.72 793.16,1445.72 796.48,1445.72 799.8,1444.48 803.121,1445.26 806.441,1445.55 809.761,1445.65 813.082,1445.69 816.402,1445.71 819.722,1445.71 823.042,1445.71 826.363,1445.72 829.683,1445.72 833.003,1445.72 836.323,1445.72 839.644,1445.72 842.964,1445.72 846.284,1445.72 849.604,1445.72 852.925,1445.72 856.245,1445.72 859.565,1445.72 862.886,1445.72 866.206,1445.72 869.526,1445.72 872.846,1445.72 876.167,1445.72 879.487,1445.72 882.807,1445.26 886.127,1445.55 889.448,1445.65 892.768,1445.69 896.088,1445.71 899.408,1445.71 902.729,1445.71 906.049,1445.72 909.369,1445.72 912.69,1445.72 916.01,1445.72 919.33,1445.72 922.65,1445.72 925.971,1445.72 929.291,1445.72 932.611,1445.72 935.931,1445.72 939.252,1445.72 942.572,1445.72 945.892,1445.72 949.212,1445.72 952.533,1445.72 955.853,1445.72 959.173,1445.72 962.494,1445.72 965.814,1445.55 969.134,1445.65 972.454,1445.69 975.775,1445.71 979.095,1445.71 982.415,1445.71 985.735,1445.72 989.056,1445.72 992.376,1445.72 995.696,1445.72 999.016,1445.72 1002.34,1445.72 1005.66,1445.72 1008.98,1445.72 1012.3,1445.72 1015.62,1445.72 1018.94,1445.72 1022.26,1445.72 1025.58,1445.72 1028.9,1445.72 1032.22,1445.72 1035.54,1445.72 1038.86,1445.72 1042.18,1445.72 1045.5,1445.72 1048.82,1445.65 1052.14,1445.69 1055.46,1445.71 1058.78,1445.71 1062.1,1445.71 1065.42,1445.72 1068.74,1445.72 1072.06,1445.72 1075.38,1445.72 1078.7,1445.72 1082.02,1445.72 1085.34,1445.72 1088.66,1445.72 1091.98,1445.72 1095.3,1445.72 1098.62,1445.72 1101.94,1445.72 1105.27,1445.72 1108.59,1445.72 1111.91,1445.72 1115.23,1445.72 1118.55,1445.72 1121.87,1445.72 1125.19,1445.72 1128.51,1445.72 1131.83,1445.69 1135.15,1445.71 1138.47,1445.71 1141.79,1445.71 1145.11,1445.72 1148.43,1445.72 1151.75,1445.72 1155.07,1445.72 1158.39,1445.72 1161.71,1445.72 1165.03,1445.72 1168.35,1445.72 1171.67,1445.72 1174.99,1445.72 1178.31,1445.72 1181.63,1445.72 1184.95,1445.72 1188.27,1445.72 1191.59,1445.72 1194.91,1445.72 1198.23,1445.72 1201.55,1445.72 1204.87,1445.72 1208.19,1445.72 1211.51,1445.72 1214.83,1445.71 1218.15,1445.71 1221.47,1445.71 1224.79,1445.72 1228.11,1445.72 1231.44,1445.72 1234.76,1445.72 1238.08,1445.72 1241.4,1445.72 1244.72,1445.72 1248.04,1445.72 1251.36,1445.72 1254.68,1445.72 1258,1445.72 1261.32,1445.72 1264.64,1445.72 1267.96,1445.72 1271.28,1445.72 1274.6,1445.72 1277.92,1445.72 1281.24,1445.72 1284.56,1445.72 1287.88,1445.72 1291.2,1445.72 1294.52,1445.72 1297.84,1445.71 1301.16,1445.71 1304.48,1445.72 1307.8,1445.72 1311.12,1445.72 1314.44,1445.72 1317.76,1445.72 1321.08,1445.72 1324.4,1445.72 1327.72,1445.72 1331.04,1445.72 1334.36,1445.72 1337.68,1445.72 1341,1445.72 1344.32,1445.72 1347.64,1445.72 1350.96,1445.72 1354.29,1445.72 1357.61,1445.72 1360.93,1445.72 1364.25,1445.72 1367.57,1445.72 1370.89,1445.72 1374.21,1445.72 1377.53,1445.72 1380.85,1445.71 1384.17,1445.72 1387.49,1445.72 1390.81,1445.72 1394.13,1445.72 1397.45,1445.72 1400.77,1445.72 1404.09,1445.72 1407.41,1445.72 1410.73,1445.72 1414.05,1445.72 1417.37,1445.72 1420.69,1445.72 1424.01,1445.72 1427.33,1445.72 1430.65,1445.72 1433.97,1445.72 1437.29,1445.72 1440.61,1445.72 1443.93,1445.72 1447.25,1445.72 1450.57,1445.72 1453.89,1445.72 1457.21,1445.72 1460.53,1445.72 1463.85,1445.72 1467.17,1445.72 1470.49,1445.72 1473.81,1445.72 1477.13,1445.72 1480.46,1445.72 1483.78,1445.72 1487.1,1445.72 1490.42,1445.72 1493.74,1445.72 1497.06,1445.72 1500.38,1445.72 1503.7,1445.72 1507.02,1445.72 1510.34,1445.72 1513.66,1445.72 1516.98,1445.72 1520.3,1445.72 1523.62,1445.72 1526.94,1445.72 1530.26,1445.72 1533.58,1445.72 1536.9,1445.72 1540.22,1445.72 1543.54,1445.72 1546.86,1445.72 1550.18,1445.72 1553.5,1445.72 1556.82,1445.72 1560.14,1445.72 1563.46,1445.72 1566.78,1445.72 1570.1,1445.72 1573.42,1445.72 1576.74,1445.72 1580.06,1445.72 1583.38,1445.72 1586.7,1445.72 1590.02,1445.72 1593.34,1445.72 1596.66,1445.72 1599.98,1445.72 1603.31,1445.72 1606.63,1445.72 1609.95,1445.72 1613.27,1445.72 1616.59,1445.72 1619.91,1445.72 1623.23,1445.72 1626.55,1445.72 1629.87,1445.72 1633.19,1445.72 1636.51,1445.72 1639.83,1445.72 1643.15,1445.72 1646.47,1445.72 1649.79,1445.72 1653.11,1445.72 1656.43,1445.72 1659.75,1445.72 1663.07,1445.72 1666.39,1445.72 1669.71,1445.72 1673.03,1445.72 1676.35,1445.72 1679.67,1445.72 1682.99,1445.72 1686.31,1445.72 1689.63,1445.72 1692.95,1445.72 1696.27,1445.72 1699.59,1445.72 1702.91,1445.72 1706.23,1445.72 1709.55,1445.72 1712.87,1445.72 1716.19,1445.72 1719.51,1445.72 1722.83,1445.72 1726.16,1445.72 1729.48,1445.72 1732.8,1445.72 1736.12,1445.72 1739.44,1445.72 1742.76,1445.72 1746.08,1445.72 1749.4,1445.72 1752.72,1445.72 1756.04,1445.72 1759.36,1445.72 1762.68,1445.72 1766,1445.72 1769.32,1445.72 1772.64,1445.72 1775.96,1445.72 1779.28,1445.72 1782.6,1445.72 1785.92,1445.72 1789.24,1445.72 1792.56,1445.72 1795.88,1445.72 1799.2,1445.72 1802.52,1445.72 1805.84,1445.72 1809.16,1445.72 1812.48,1445.72 1815.8,1445.72 1819.12,1445.72 1822.44,1445.72 1825.76,1445.72 1829.08,1445.72 1832.4,1445.72 1835.72,1445.72 1839.04,1445.72 1842.36,1445.72 1845.68,1445.72 1849,1445.72 1852.33,1445.72 1855.65,1445.72 1858.97,1445.72 1862.29,1445.72 1865.61,1445.72 1868.93,1445.72 1872.25,1445.72 1875.57,1445.72 1878.89,1445.72 1882.21,1445.72 1885.53,1445.72 1888.85,1445.72 1892.17,1445.72 1895.49,1445.72 1898.81,1445.72 1902.13,1445.72 1905.45,1445.72 1908.77,1445.72 1912.09,1445.72 1915.41,1445.72 1918.73,1445.72 1922.05,1445.72 1925.37,1445.72 1928.69,1445.72 1932.01,1445.72 1935.33,1445.72 1938.65,1445.72 1941.97,1445.72 1945.29,1445.72 1948.61,1445.72 1951.93,1445.72 1955.25,1445.72 1958.57,1445.72 1961.89,1445.72 1965.21,1445.72 1968.53,1445.72 1971.85,1445.72 1975.18,1445.72 1978.5,1445.72 1981.82,1445.72 1985.14,1445.72 1988.46,1445.72 1991.78,1445.72 1995.1,1445.72 1998.42,1445.72 2001.74,1445.72 2005.06,1445.72 2008.38,1445.72 2011.7,1445.72 2015.02,1445.72 2018.34,1445.72 2021.66,1445.72 2024.98,1445.72 2028.3,1445.72 2031.62,1445.72 2034.94,1445.72 2038.26,1445.72 2041.58,1445.72 2044.9,1445.72 2048.22,1445.72 2051.54,1445.72 2054.86,1445.72 2058.18,1445.72 2061.5,1445.72 2064.82,1445.72 2068.14,1445.72 2071.46,1445.72 2074.78,1445.72 2078.1,1445.72 2081.42,1445.72 2084.74,1445.72 2088.06,1445.72 2091.38,1445.72 2094.7,1445.72 2098.02,1445.72 2101.35,1445.72 2104.67,1445.72 2107.99,1445.72 2111.31,1445.72 2114.63,1445.72 2117.95,1445.72 2121.27,1445.72 2124.59,1445.72 2127.91,1445.72 2131.23,1445.72 2134.55,1445.72 2137.87,1445.72 2141.19,1445.72 2144.51,1445.72 2147.83,1445.72 2151.15,1445.72 2154.47,1445.72 2157.79,1445.72 2161.11,1445.72 2164.43,1445.72 2167.75,1445.72 2171.07,1445.72 2174.39,1445.72 2177.71,1445.72 2181.03,1445.72 2184.35,1445.72 2187.67,1445.72 2190.99,1445.72 2194.31,1445.72 2197.63,1445.72 2200.95,1445.72 2204.27,1445.72 2207.59,1445.72 2210.91,1445.72 2214.23,1445.72 2217.55,1445.72 2220.87,1445.72 2224.2,1445.72 2227.52,1445.72 2230.84,1445.72 2234.16,1445.72 2237.48,1445.72 2240.8,1445.72 2244.12,1445.72 2247.44,1445.72 2250.76,1445.72 2254.08,1445.72 2257.4,1445.72 2260.72,1445.72 2264.04,1445.72 2267.36,1445.72 2270.68,1445.72 2274,1445.72 2277.32,1445.72 2280.64,1445.72 2283.96,1445.72 2287.28,1445.72 2290.6,1445.72 \"/>\n",
       "<path clip-path=\"url(#clip550)\" d=\"M2007.5 198.898 L2279.55 198.898 L2279.55 95.2176 L2007.5 95.2176  Z\" fill=\"#ffffff\" fill-rule=\"evenodd\" fill-opacity=\"1\"/>\n",
       "<polyline clip-path=\"url(#clip550)\" style=\"stroke:#000000; stroke-linecap:round; stroke-linejoin:round; stroke-width:4; stroke-opacity:1; fill:none\" points=\"2007.5,198.898 2279.55,198.898 2279.55,95.2176 2007.5,95.2176 2007.5,198.898 \"/>\n",
       "<polyline clip-path=\"url(#clip550)\" style=\"stroke:#009af9; stroke-linecap:round; stroke-linejoin:round; stroke-width:4; stroke-opacity:1; fill:none\" points=\"2031.91,147.058 2178.32,147.058 \"/>\n",
       "<path clip-path=\"url(#clip550)\" d=\"M2216.56 166.745 Q2214.76 171.375 2213.04 172.787 Q2211.33 174.199 2208.46 174.199 L2205.06 174.199 L2205.06 170.634 L2207.56 170.634 Q2209.32 170.634 2210.29 169.8 Q2211.26 168.967 2212.44 165.865 L2213.2 163.921 L2202.72 138.412 L2207.23 138.412 L2215.33 158.689 L2223.44 138.412 L2227.95 138.412 L2216.56 166.745 Z\" fill=\"#000000\" fill-rule=\"nonzero\" fill-opacity=\"1\" /><path clip-path=\"url(#clip550)\" d=\"M2235.24 160.402 L2242.88 160.402 L2242.88 134.037 L2234.57 135.703 L2234.57 131.444 L2242.83 129.778 L2247.51 129.778 L2247.51 160.402 L2255.15 160.402 L2255.15 164.338 L2235.24 164.338 L2235.24 160.402 Z\" fill=\"#000000\" fill-rule=\"nonzero\" fill-opacity=\"1\" /></svg>\n"
      ],
      "text/html": [
       "<?xml version=\"1.0\" encoding=\"utf-8\"?>\n",
       "<svg xmlns=\"http://www.w3.org/2000/svg\" xmlns:xlink=\"http://www.w3.org/1999/xlink\" width=\"600\" height=\"400\" viewBox=\"0 0 2400 1600\">\n",
       "<defs>\n",
       "  <clipPath id=\"clip600\">\n",
       "    <rect x=\"0\" y=\"0\" width=\"2400\" height=\"1600\"/>\n",
       "  </clipPath>\n",
       "</defs>\n",
       "<path clip-path=\"url(#clip600)\" d=\"M0 1600 L2400 1600 L2400 0 L0 0  Z\" fill=\"#ffffff\" fill-rule=\"evenodd\" fill-opacity=\"1\"/>\n",
       "<defs>\n",
       "  <clipPath id=\"clip601\">\n",
       "    <rect x=\"480\" y=\"0\" width=\"1681\" height=\"1600\"/>\n",
       "  </clipPath>\n",
       "</defs>\n",
       "<path clip-path=\"url(#clip600)\" d=\"M156.598 1486.45 L2352.76 1486.45 L2352.76 47.2441 L156.598 47.2441  Z\" fill=\"#ffffff\" fill-rule=\"evenodd\" fill-opacity=\"1\"/>\n",
       "<defs>\n",
       "  <clipPath id=\"clip602\">\n",
       "    <rect x=\"156\" y=\"47\" width=\"2197\" height=\"1440\"/>\n",
       "  </clipPath>\n",
       "</defs>\n",
       "<polyline clip-path=\"url(#clip602)\" style=\"stroke:#000000; stroke-linecap:round; stroke-linejoin:round; stroke-width:2; stroke-opacity:0.1; fill:none\" points=\"215.433,1486.45 215.433,47.2441 \"/>\n",
       "<polyline clip-path=\"url(#clip602)\" style=\"stroke:#000000; stroke-linecap:round; stroke-linejoin:round; stroke-width:2; stroke-opacity:0.1; fill:none\" points=\"547.46,1486.45 547.46,47.2441 \"/>\n",
       "<polyline clip-path=\"url(#clip602)\" style=\"stroke:#000000; stroke-linecap:round; stroke-linejoin:round; stroke-width:2; stroke-opacity:0.1; fill:none\" points=\"879.487,1486.45 879.487,47.2441 \"/>\n",
       "<polyline clip-path=\"url(#clip602)\" style=\"stroke:#000000; stroke-linecap:round; stroke-linejoin:round; stroke-width:2; stroke-opacity:0.1; fill:none\" points=\"1211.51,1486.45 1211.51,47.2441 \"/>\n",
       "<polyline clip-path=\"url(#clip602)\" style=\"stroke:#000000; stroke-linecap:round; stroke-linejoin:round; stroke-width:2; stroke-opacity:0.1; fill:none\" points=\"1543.54,1486.45 1543.54,47.2441 \"/>\n",
       "<polyline clip-path=\"url(#clip602)\" style=\"stroke:#000000; stroke-linecap:round; stroke-linejoin:round; stroke-width:2; stroke-opacity:0.1; fill:none\" points=\"1875.57,1486.45 1875.57,47.2441 \"/>\n",
       "<polyline clip-path=\"url(#clip602)\" style=\"stroke:#000000; stroke-linecap:round; stroke-linejoin:round; stroke-width:2; stroke-opacity:0.1; fill:none\" points=\"2207.59,1486.45 2207.59,47.2441 \"/>\n",
       "<polyline clip-path=\"url(#clip600)\" style=\"stroke:#000000; stroke-linecap:round; stroke-linejoin:round; stroke-width:4; stroke-opacity:1; fill:none\" points=\"156.598,1486.45 2352.76,1486.45 \"/>\n",
       "<polyline clip-path=\"url(#clip600)\" style=\"stroke:#000000; stroke-linecap:round; stroke-linejoin:round; stroke-width:4; stroke-opacity:1; fill:none\" points=\"215.433,1486.45 215.433,1467.55 \"/>\n",
       "<polyline clip-path=\"url(#clip600)\" style=\"stroke:#000000; stroke-linecap:round; stroke-linejoin:round; stroke-width:4; stroke-opacity:1; fill:none\" points=\"547.46,1486.45 547.46,1467.55 \"/>\n",
       "<polyline clip-path=\"url(#clip600)\" style=\"stroke:#000000; stroke-linecap:round; stroke-linejoin:round; stroke-width:4; stroke-opacity:1; fill:none\" points=\"879.487,1486.45 879.487,1467.55 \"/>\n",
       "<polyline clip-path=\"url(#clip600)\" style=\"stroke:#000000; stroke-linecap:round; stroke-linejoin:round; stroke-width:4; stroke-opacity:1; fill:none\" points=\"1211.51,1486.45 1211.51,1467.55 \"/>\n",
       "<polyline clip-path=\"url(#clip600)\" style=\"stroke:#000000; stroke-linecap:round; stroke-linejoin:round; stroke-width:4; stroke-opacity:1; fill:none\" points=\"1543.54,1486.45 1543.54,1467.55 \"/>\n",
       "<polyline clip-path=\"url(#clip600)\" style=\"stroke:#000000; stroke-linecap:round; stroke-linejoin:round; stroke-width:4; stroke-opacity:1; fill:none\" points=\"1875.57,1486.45 1875.57,1467.55 \"/>\n",
       "<polyline clip-path=\"url(#clip600)\" style=\"stroke:#000000; stroke-linecap:round; stroke-linejoin:round; stroke-width:4; stroke-opacity:1; fill:none\" points=\"2207.59,1486.45 2207.59,1467.55 \"/>\n",
       "<path clip-path=\"url(#clip600)\" d=\"M215.433 1517.37 Q211.822 1517.37 209.994 1520.93 Q208.188 1524.47 208.188 1531.6 Q208.188 1538.71 209.994 1542.27 Q211.822 1545.82 215.433 1545.82 Q219.068 1545.82 220.873 1542.27 Q222.702 1538.71 222.702 1531.6 Q222.702 1524.47 220.873 1520.93 Q219.068 1517.37 215.433 1517.37 M215.433 1513.66 Q221.244 1513.66 224.299 1518.27 Q227.378 1522.85 227.378 1531.6 Q227.378 1540.33 224.299 1544.94 Q221.244 1549.52 215.433 1549.52 Q209.623 1549.52 206.545 1544.94 Q203.489 1540.33 203.489 1531.6 Q203.489 1522.85 206.545 1518.27 Q209.623 1513.66 215.433 1513.66 Z\" fill=\"#000000\" fill-rule=\"nonzero\" fill-opacity=\"1\" /><path clip-path=\"url(#clip600)\" d=\"M507.067 1544.91 L514.706 1544.91 L514.706 1518.55 L506.396 1520.21 L506.396 1515.95 L514.659 1514.29 L519.335 1514.29 L519.335 1544.91 L526.974 1544.91 L526.974 1548.85 L507.067 1548.85 L507.067 1544.91 Z\" fill=\"#000000\" fill-rule=\"nonzero\" fill-opacity=\"1\" /><path clip-path=\"url(#clip600)\" d=\"M546.418 1517.37 Q542.807 1517.37 540.979 1520.93 Q539.173 1524.47 539.173 1531.6 Q539.173 1538.71 540.979 1542.27 Q542.807 1545.82 546.418 1545.82 Q550.053 1545.82 551.858 1542.27 Q553.687 1538.71 553.687 1531.6 Q553.687 1524.47 551.858 1520.93 Q550.053 1517.37 546.418 1517.37 M546.418 1513.66 Q552.229 1513.66 555.284 1518.27 Q558.363 1522.85 558.363 1531.6 Q558.363 1540.33 555.284 1544.94 Q552.229 1549.52 546.418 1549.52 Q540.608 1549.52 537.53 1544.94 Q534.474 1540.33 534.474 1531.6 Q534.474 1522.85 537.53 1518.27 Q540.608 1513.66 546.418 1513.66 Z\" fill=\"#000000\" fill-rule=\"nonzero\" fill-opacity=\"1\" /><path clip-path=\"url(#clip600)\" d=\"M576.58 1517.37 Q572.969 1517.37 571.141 1520.93 Q569.335 1524.47 569.335 1531.6 Q569.335 1538.71 571.141 1542.27 Q572.969 1545.82 576.58 1545.82 Q580.215 1545.82 582.02 1542.27 Q583.849 1538.71 583.849 1531.6 Q583.849 1524.47 582.02 1520.93 Q580.215 1517.37 576.58 1517.37 M576.58 1513.66 Q582.39 1513.66 585.446 1518.27 Q588.525 1522.85 588.525 1531.6 Q588.525 1540.33 585.446 1544.94 Q582.39 1549.52 576.58 1549.52 Q570.77 1549.52 567.691 1544.94 Q564.636 1540.33 564.636 1531.6 Q564.636 1522.85 567.691 1518.27 Q570.77 1513.66 576.58 1513.66 Z\" fill=\"#000000\" fill-rule=\"nonzero\" fill-opacity=\"1\" /><path clip-path=\"url(#clip600)\" d=\"M843.179 1544.91 L859.499 1544.91 L859.499 1548.85 L837.554 1548.85 L837.554 1544.91 Q840.216 1542.16 844.8 1537.53 Q849.406 1532.88 850.587 1531.53 Q852.832 1529.01 853.712 1527.27 Q854.614 1525.51 854.614 1523.82 Q854.614 1521.07 852.67 1519.33 Q850.749 1517.6 847.647 1517.6 Q845.448 1517.6 842.994 1518.36 Q840.563 1519.13 837.786 1520.68 L837.786 1515.95 Q840.61 1514.82 843.063 1514.24 Q845.517 1513.66 847.554 1513.66 Q852.924 1513.66 856.119 1516.35 Q859.313 1519.03 859.313 1523.52 Q859.313 1525.65 858.503 1527.57 Q857.716 1529.47 855.61 1532.07 Q855.031 1532.74 851.929 1535.95 Q848.827 1539.15 843.179 1544.91 Z\" fill=\"#000000\" fill-rule=\"nonzero\" fill-opacity=\"1\" /><path clip-path=\"url(#clip600)\" d=\"M879.313 1517.37 Q875.702 1517.37 873.873 1520.93 Q872.068 1524.47 872.068 1531.6 Q872.068 1538.71 873.873 1542.27 Q875.702 1545.82 879.313 1545.82 Q882.947 1545.82 884.753 1542.27 Q886.582 1538.71 886.582 1531.6 Q886.582 1524.47 884.753 1520.93 Q882.947 1517.37 879.313 1517.37 M879.313 1513.66 Q885.123 1513.66 888.179 1518.27 Q891.258 1522.85 891.258 1531.6 Q891.258 1540.33 888.179 1544.94 Q885.123 1549.52 879.313 1549.52 Q873.503 1549.52 870.424 1544.94 Q867.369 1540.33 867.369 1531.6 Q867.369 1522.85 870.424 1518.27 Q873.503 1513.66 879.313 1513.66 Z\" fill=\"#000000\" fill-rule=\"nonzero\" fill-opacity=\"1\" /><path clip-path=\"url(#clip600)\" d=\"M909.475 1517.37 Q905.864 1517.37 904.035 1520.93 Q902.23 1524.47 902.23 1531.6 Q902.23 1538.71 904.035 1542.27 Q905.864 1545.82 909.475 1545.82 Q913.109 1545.82 914.915 1542.27 Q916.744 1538.71 916.744 1531.6 Q916.744 1524.47 914.915 1520.93 Q913.109 1517.37 909.475 1517.37 M909.475 1513.66 Q915.285 1513.66 918.341 1518.27 Q921.419 1522.85 921.419 1531.6 Q921.419 1540.33 918.341 1544.94 Q915.285 1549.52 909.475 1549.52 Q903.665 1549.52 900.586 1544.94 Q897.531 1540.33 897.531 1531.6 Q897.531 1522.85 900.586 1518.27 Q903.665 1513.66 909.475 1513.66 Z\" fill=\"#000000\" fill-rule=\"nonzero\" fill-opacity=\"1\" /><path clip-path=\"url(#clip600)\" d=\"M1185.28 1530.21 Q1188.63 1530.93 1190.51 1533.2 Q1192.4 1535.47 1192.4 1538.8 Q1192.4 1543.92 1188.89 1546.72 Q1185.37 1549.52 1178.89 1549.52 Q1176.71 1549.52 1174.4 1549.08 Q1172.1 1548.66 1169.65 1547.81 L1169.65 1543.29 Q1171.59 1544.43 1173.91 1545.01 Q1176.22 1545.58 1178.75 1545.58 Q1183.15 1545.58 1185.44 1543.85 Q1187.75 1542.11 1187.75 1538.8 Q1187.75 1535.75 1185.6 1534.03 Q1183.47 1532.3 1179.65 1532.3 L1175.62 1532.3 L1175.62 1528.45 L1179.84 1528.45 Q1183.28 1528.45 1185.11 1527.09 Q1186.94 1525.7 1186.94 1523.11 Q1186.94 1520.45 1185.04 1519.03 Q1183.17 1517.6 1179.65 1517.6 Q1177.73 1517.6 1175.53 1518.01 Q1173.33 1518.43 1170.69 1519.31 L1170.69 1515.14 Q1173.35 1514.4 1175.67 1514.03 Q1178.01 1513.66 1180.07 1513.66 Q1185.39 1513.66 1188.49 1516.09 Q1191.59 1518.5 1191.59 1522.62 Q1191.59 1525.49 1189.95 1527.48 Q1188.31 1529.45 1185.28 1530.21 Z\" fill=\"#000000\" fill-rule=\"nonzero\" fill-opacity=\"1\" /><path clip-path=\"url(#clip600)\" d=\"M1211.27 1517.37 Q1207.66 1517.37 1205.83 1520.93 Q1204.03 1524.47 1204.03 1531.6 Q1204.03 1538.71 1205.83 1542.27 Q1207.66 1545.82 1211.27 1545.82 Q1214.9 1545.82 1216.71 1542.27 Q1218.54 1538.71 1218.54 1531.6 Q1218.54 1524.47 1216.71 1520.93 Q1214.9 1517.37 1211.27 1517.37 M1211.27 1513.66 Q1217.08 1513.66 1220.14 1518.27 Q1223.21 1522.85 1223.21 1531.6 Q1223.21 1540.33 1220.14 1544.94 Q1217.08 1549.52 1211.27 1549.52 Q1205.46 1549.52 1202.38 1544.94 Q1199.33 1540.33 1199.33 1531.6 Q1199.33 1522.85 1202.38 1518.27 Q1205.46 1513.66 1211.27 1513.66 Z\" fill=\"#000000\" fill-rule=\"nonzero\" fill-opacity=\"1\" /><path clip-path=\"url(#clip600)\" d=\"M1241.43 1517.37 Q1237.82 1517.37 1235.99 1520.93 Q1234.19 1524.47 1234.19 1531.6 Q1234.19 1538.71 1235.99 1542.27 Q1237.82 1545.82 1241.43 1545.82 Q1245.07 1545.82 1246.87 1542.27 Q1248.7 1538.71 1248.7 1531.6 Q1248.7 1524.47 1246.87 1520.93 Q1245.07 1517.37 1241.43 1517.37 M1241.43 1513.66 Q1247.24 1513.66 1250.3 1518.27 Q1253.38 1522.85 1253.38 1531.6 Q1253.38 1540.33 1250.3 1544.94 Q1247.24 1549.52 1241.43 1549.52 Q1235.62 1549.52 1232.54 1544.94 Q1229.49 1540.33 1229.49 1531.6 Q1229.49 1522.85 1232.54 1518.27 Q1235.62 1513.66 1241.43 1513.66 Z\" fill=\"#000000\" fill-rule=\"nonzero\" fill-opacity=\"1\" /><path clip-path=\"url(#clip600)\" d=\"M1516.63 1518.36 L1504.83 1536.81 L1516.63 1536.81 L1516.63 1518.36 M1515.4 1514.29 L1521.28 1514.29 L1521.28 1536.81 L1526.21 1536.81 L1526.21 1540.7 L1521.28 1540.7 L1521.28 1548.85 L1516.63 1548.85 L1516.63 1540.7 L1501.03 1540.7 L1501.03 1536.19 L1515.4 1514.29 Z\" fill=\"#000000\" fill-rule=\"nonzero\" fill-opacity=\"1\" /><path clip-path=\"url(#clip600)\" d=\"M1543.95 1517.37 Q1540.33 1517.37 1538.51 1520.93 Q1536.7 1524.47 1536.7 1531.6 Q1536.7 1538.71 1538.51 1542.27 Q1540.33 1545.82 1543.95 1545.82 Q1547.58 1545.82 1549.39 1542.27 Q1551.21 1538.71 1551.21 1531.6 Q1551.21 1524.47 1549.39 1520.93 Q1547.58 1517.37 1543.95 1517.37 M1543.95 1513.66 Q1549.76 1513.66 1552.81 1518.27 Q1555.89 1522.85 1555.89 1531.6 Q1555.89 1540.33 1552.81 1544.94 Q1549.76 1549.52 1543.95 1549.52 Q1538.14 1549.52 1535.06 1544.94 Q1532 1540.33 1532 1531.6 Q1532 1522.85 1535.06 1518.27 Q1538.14 1513.66 1543.95 1513.66 Z\" fill=\"#000000\" fill-rule=\"nonzero\" fill-opacity=\"1\" /><path clip-path=\"url(#clip600)\" d=\"M1574.11 1517.37 Q1570.5 1517.37 1568.67 1520.93 Q1566.86 1524.47 1566.86 1531.6 Q1566.86 1538.71 1568.67 1542.27 Q1570.5 1545.82 1574.11 1545.82 Q1577.74 1545.82 1579.55 1542.27 Q1581.38 1538.71 1581.38 1531.6 Q1581.38 1524.47 1579.55 1520.93 Q1577.74 1517.37 1574.11 1517.37 M1574.11 1513.66 Q1579.92 1513.66 1582.97 1518.27 Q1586.05 1522.85 1586.05 1531.6 Q1586.05 1540.33 1582.97 1544.94 Q1579.92 1549.52 1574.11 1549.52 Q1568.3 1549.52 1565.22 1544.94 Q1562.16 1540.33 1562.16 1531.6 Q1562.16 1522.85 1565.22 1518.27 Q1568.3 1513.66 1574.11 1513.66 Z\" fill=\"#000000\" fill-rule=\"nonzero\" fill-opacity=\"1\" /><path clip-path=\"url(#clip600)\" d=\"M1835.19 1514.29 L1853.54 1514.29 L1853.54 1518.22 L1839.47 1518.22 L1839.47 1526.7 Q1840.49 1526.35 1841.5 1526.19 Q1842.52 1526 1843.54 1526 Q1849.33 1526 1852.71 1529.17 Q1856.09 1532.34 1856.09 1537.76 Q1856.09 1543.34 1852.62 1546.44 Q1849.14 1549.52 1842.82 1549.52 Q1840.65 1549.52 1838.38 1549.15 Q1836.13 1548.78 1833.73 1548.04 L1833.73 1543.34 Q1835.81 1544.47 1838.03 1545.03 Q1840.25 1545.58 1842.73 1545.58 Q1846.74 1545.58 1849.07 1543.48 Q1851.41 1541.37 1851.41 1537.76 Q1851.41 1534.15 1849.07 1532.04 Q1846.74 1529.94 1842.73 1529.94 Q1840.86 1529.94 1838.98 1530.35 Q1837.13 1530.77 1835.19 1531.65 L1835.19 1514.29 Z\" fill=\"#000000\" fill-rule=\"nonzero\" fill-opacity=\"1\" /><path clip-path=\"url(#clip600)\" d=\"M1875.3 1517.37 Q1871.69 1517.37 1869.86 1520.93 Q1868.06 1524.47 1868.06 1531.6 Q1868.06 1538.71 1869.86 1542.27 Q1871.69 1545.82 1875.3 1545.82 Q1878.94 1545.82 1880.74 1542.27 Q1882.57 1538.71 1882.57 1531.6 Q1882.57 1524.47 1880.74 1520.93 Q1878.94 1517.37 1875.3 1517.37 M1875.3 1513.66 Q1881.11 1513.66 1884.17 1518.27 Q1887.25 1522.85 1887.25 1531.6 Q1887.25 1540.33 1884.17 1544.94 Q1881.11 1549.52 1875.3 1549.52 Q1869.49 1549.52 1866.41 1544.94 Q1863.36 1540.33 1863.36 1531.6 Q1863.36 1522.85 1866.41 1518.27 Q1869.49 1513.66 1875.3 1513.66 Z\" fill=\"#000000\" fill-rule=\"nonzero\" fill-opacity=\"1\" /><path clip-path=\"url(#clip600)\" d=\"M1905.46 1517.37 Q1901.85 1517.37 1900.02 1520.93 Q1898.22 1524.47 1898.22 1531.6 Q1898.22 1538.71 1900.02 1542.27 Q1901.85 1545.82 1905.46 1545.82 Q1909.1 1545.82 1910.9 1542.27 Q1912.73 1538.71 1912.73 1531.6 Q1912.73 1524.47 1910.9 1520.93 Q1909.1 1517.37 1905.46 1517.37 M1905.46 1513.66 Q1911.27 1513.66 1914.33 1518.27 Q1917.41 1522.85 1917.41 1531.6 Q1917.41 1540.33 1914.33 1544.94 Q1911.27 1549.52 1905.46 1549.52 Q1899.65 1549.52 1896.57 1544.94 Q1893.52 1540.33 1893.52 1531.6 Q1893.52 1522.85 1896.57 1518.27 Q1899.65 1513.66 1905.46 1513.66 Z\" fill=\"#000000\" fill-rule=\"nonzero\" fill-opacity=\"1\" /><path clip-path=\"url(#clip600)\" d=\"M2177.92 1529.7 Q2174.77 1529.7 2172.92 1531.86 Q2171.09 1534.01 2171.09 1537.76 Q2171.09 1541.49 2172.92 1543.66 Q2174.77 1545.82 2177.92 1545.82 Q2181.07 1545.82 2182.89 1543.66 Q2184.75 1541.49 2184.75 1537.76 Q2184.75 1534.01 2182.89 1531.86 Q2181.07 1529.7 2177.92 1529.7 M2187.2 1515.05 L2187.2 1519.31 Q2185.44 1518.48 2183.64 1518.04 Q2181.85 1517.6 2180.09 1517.6 Q2175.46 1517.6 2173.01 1520.72 Q2170.58 1523.85 2170.23 1530.17 Q2171.6 1528.15 2173.66 1527.09 Q2175.72 1526 2178.2 1526 Q2183.4 1526 2186.41 1529.17 Q2189.45 1532.32 2189.45 1537.76 Q2189.45 1543.08 2186.3 1546.3 Q2183.15 1549.52 2177.92 1549.52 Q2171.92 1549.52 2168.75 1544.94 Q2165.58 1540.33 2165.58 1531.6 Q2165.58 1523.41 2169.47 1518.55 Q2173.36 1513.66 2179.91 1513.66 Q2181.67 1513.66 2183.45 1514.01 Q2185.26 1514.36 2187.2 1515.05 Z\" fill=\"#000000\" fill-rule=\"nonzero\" fill-opacity=\"1\" /><path clip-path=\"url(#clip600)\" d=\"M2207.5 1517.37 Q2203.89 1517.37 2202.06 1520.93 Q2200.26 1524.47 2200.26 1531.6 Q2200.26 1538.71 2202.06 1542.27 Q2203.89 1545.82 2207.5 1545.82 Q2211.14 1545.82 2212.94 1542.27 Q2214.77 1538.71 2214.77 1531.6 Q2214.77 1524.47 2212.94 1520.93 Q2211.14 1517.37 2207.5 1517.37 M2207.5 1513.66 Q2213.31 1513.66 2216.37 1518.27 Q2219.45 1522.85 2219.45 1531.6 Q2219.45 1540.33 2216.37 1544.94 Q2213.31 1549.52 2207.5 1549.52 Q2201.69 1549.52 2198.61 1544.94 Q2195.56 1540.33 2195.56 1531.6 Q2195.56 1522.85 2198.61 1518.27 Q2201.69 1513.66 2207.5 1513.66 Z\" fill=\"#000000\" fill-rule=\"nonzero\" fill-opacity=\"1\" /><path clip-path=\"url(#clip600)\" d=\"M2237.66 1517.37 Q2234.05 1517.37 2232.22 1520.93 Q2230.42 1524.47 2230.42 1531.6 Q2230.42 1538.71 2232.22 1542.27 Q2234.05 1545.82 2237.66 1545.82 Q2241.3 1545.82 2243.1 1542.27 Q2244.93 1538.71 2244.93 1531.6 Q2244.93 1524.47 2243.1 1520.93 Q2241.3 1517.37 2237.66 1517.37 M2237.66 1513.66 Q2243.47 1513.66 2246.53 1518.27 Q2249.61 1522.85 2249.61 1531.6 Q2249.61 1540.33 2246.53 1544.94 Q2243.47 1549.52 2237.66 1549.52 Q2231.85 1549.52 2228.77 1544.94 Q2225.72 1540.33 2225.72 1531.6 Q2225.72 1522.85 2228.77 1518.27 Q2231.85 1513.66 2237.66 1513.66 Z\" fill=\"#000000\" fill-rule=\"nonzero\" fill-opacity=\"1\" /><polyline clip-path=\"url(#clip602)\" style=\"stroke:#000000; stroke-linecap:round; stroke-linejoin:round; stroke-width:2; stroke-opacity:0.1; fill:none\" points=\"156.598,1445.72 2352.76,1445.72 \"/>\n",
       "<polyline clip-path=\"url(#clip602)\" style=\"stroke:#000000; stroke-linecap:round; stroke-linejoin:round; stroke-width:2; stroke-opacity:0.1; fill:none\" points=\"156.598,1105.92 2352.76,1105.92 \"/>\n",
       "<polyline clip-path=\"url(#clip602)\" style=\"stroke:#000000; stroke-linecap:round; stroke-linejoin:round; stroke-width:2; stroke-opacity:0.1; fill:none\" points=\"156.598,766.126 2352.76,766.126 \"/>\n",
       "<polyline clip-path=\"url(#clip602)\" style=\"stroke:#000000; stroke-linecap:round; stroke-linejoin:round; stroke-width:2; stroke-opacity:0.1; fill:none\" points=\"156.598,426.332 2352.76,426.332 \"/>\n",
       "<polyline clip-path=\"url(#clip602)\" style=\"stroke:#000000; stroke-linecap:round; stroke-linejoin:round; stroke-width:2; stroke-opacity:0.1; fill:none\" points=\"156.598,86.5369 2352.76,86.5369 \"/>\n",
       "<polyline clip-path=\"url(#clip600)\" style=\"stroke:#000000; stroke-linecap:round; stroke-linejoin:round; stroke-width:4; stroke-opacity:1; fill:none\" points=\"156.598,1486.45 156.598,47.2441 \"/>\n",
       "<polyline clip-path=\"url(#clip600)\" style=\"stroke:#000000; stroke-linecap:round; stroke-linejoin:round; stroke-width:4; stroke-opacity:1; fill:none\" points=\"156.598,1445.72 175.496,1445.72 \"/>\n",
       "<polyline clip-path=\"url(#clip600)\" style=\"stroke:#000000; stroke-linecap:round; stroke-linejoin:round; stroke-width:4; stroke-opacity:1; fill:none\" points=\"156.598,1105.92 175.496,1105.92 \"/>\n",
       "<polyline clip-path=\"url(#clip600)\" style=\"stroke:#000000; stroke-linecap:round; stroke-linejoin:round; stroke-width:4; stroke-opacity:1; fill:none\" points=\"156.598,766.126 175.496,766.126 \"/>\n",
       "<polyline clip-path=\"url(#clip600)\" style=\"stroke:#000000; stroke-linecap:round; stroke-linejoin:round; stroke-width:4; stroke-opacity:1; fill:none\" points=\"156.598,426.332 175.496,426.332 \"/>\n",
       "<polyline clip-path=\"url(#clip600)\" style=\"stroke:#000000; stroke-linecap:round; stroke-linejoin:round; stroke-width:4; stroke-opacity:1; fill:none\" points=\"156.598,86.5369 175.496,86.5369 \"/>\n",
       "<path clip-path=\"url(#clip600)\" d=\"M63.4226 1431.51 Q59.8115 1431.51 57.9828 1435.08 Q56.1773 1438.62 56.1773 1445.75 Q56.1773 1452.86 57.9828 1456.42 Q59.8115 1459.96 63.4226 1459.96 Q67.0569 1459.96 68.8624 1456.42 Q70.6911 1452.86 70.6911 1445.75 Q70.6911 1438.62 68.8624 1435.08 Q67.0569 1431.51 63.4226 1431.51 M63.4226 1427.81 Q69.2328 1427.81 72.2883 1432.42 Q75.367 1437 75.367 1445.75 Q75.367 1454.48 72.2883 1459.08 Q69.2328 1463.67 63.4226 1463.67 Q57.6125 1463.67 54.5338 1459.08 Q51.4782 1454.48 51.4782 1445.75 Q51.4782 1437 54.5338 1432.42 Q57.6125 1427.81 63.4226 1427.81 Z\" fill=\"#000000\" fill-rule=\"nonzero\" fill-opacity=\"1\" /><path clip-path=\"url(#clip600)\" d=\"M83.5845 1457.12 L88.4688 1457.12 L88.4688 1463 L83.5845 1463 L83.5845 1457.12 Z\" fill=\"#000000\" fill-rule=\"nonzero\" fill-opacity=\"1\" /><path clip-path=\"url(#clip600)\" d=\"M108.654 1431.51 Q105.043 1431.51 103.214 1435.08 Q101.409 1438.62 101.409 1445.75 Q101.409 1452.86 103.214 1456.42 Q105.043 1459.96 108.654 1459.96 Q112.288 1459.96 114.094 1456.42 Q115.922 1452.86 115.922 1445.75 Q115.922 1438.62 114.094 1435.08 Q112.288 1431.51 108.654 1431.51 M108.654 1427.81 Q114.464 1427.81 117.52 1432.42 Q120.598 1437 120.598 1445.75 Q120.598 1454.48 117.52 1459.08 Q114.464 1463.67 108.654 1463.67 Q102.844 1463.67 99.765 1459.08 Q96.7095 1454.48 96.7095 1445.75 Q96.7095 1437 99.765 1432.42 Q102.844 1427.81 108.654 1427.81 Z\" fill=\"#000000\" fill-rule=\"nonzero\" fill-opacity=\"1\" /><path clip-path=\"url(#clip600)\" d=\"M64.6495 1091.72 Q61.0384 1091.72 59.2097 1095.28 Q57.4041 1098.83 57.4041 1105.96 Q57.4041 1113.06 59.2097 1116.63 Q61.0384 1120.17 64.6495 1120.17 Q68.2837 1120.17 70.0892 1116.63 Q71.9179 1113.06 71.9179 1105.96 Q71.9179 1098.83 70.0892 1095.28 Q68.2837 1091.72 64.6495 1091.72 M64.6495 1088.02 Q70.4596 1088.02 73.5152 1092.62 Q76.5938 1097.21 76.5938 1105.96 Q76.5938 1114.68 73.5152 1119.29 Q70.4596 1123.87 64.6495 1123.87 Q58.8393 1123.87 55.7606 1119.29 Q52.7051 1114.68 52.7051 1105.96 Q52.7051 1097.21 55.7606 1092.62 Q58.8393 1088.02 64.6495 1088.02 Z\" fill=\"#000000\" fill-rule=\"nonzero\" fill-opacity=\"1\" /><path clip-path=\"url(#clip600)\" d=\"M84.8114 1117.32 L89.6956 1117.32 L89.6956 1123.2 L84.8114 1123.2 L84.8114 1117.32 Z\" fill=\"#000000\" fill-rule=\"nonzero\" fill-opacity=\"1\" /><path clip-path=\"url(#clip600)\" d=\"M100.691 1119.27 L108.33 1119.27 L108.33 1092.9 L100.02 1094.57 L100.02 1090.31 L108.283 1088.64 L112.959 1088.64 L112.959 1119.27 L120.598 1119.27 L120.598 1123.2 L100.691 1123.2 L100.691 1119.27 Z\" fill=\"#000000\" fill-rule=\"nonzero\" fill-opacity=\"1\" /><path clip-path=\"url(#clip600)\" d=\"M65.0198 751.925 Q61.4087 751.925 59.58 755.49 Q57.7745 759.031 57.7745 766.161 Q57.7745 773.267 59.58 776.832 Q61.4087 780.374 65.0198 780.374 Q68.6541 780.374 70.4596 776.832 Q72.2883 773.267 72.2883 766.161 Q72.2883 759.031 70.4596 755.49 Q68.6541 751.925 65.0198 751.925 M65.0198 748.221 Q70.83 748.221 73.8855 752.828 Q76.9642 757.411 76.9642 766.161 Q76.9642 774.888 73.8855 779.494 Q70.83 784.078 65.0198 784.078 Q59.2097 784.078 56.131 779.494 Q53.0754 774.888 53.0754 766.161 Q53.0754 757.411 56.131 752.828 Q59.2097 748.221 65.0198 748.221 Z\" fill=\"#000000\" fill-rule=\"nonzero\" fill-opacity=\"1\" /><path clip-path=\"url(#clip600)\" d=\"M85.1818 777.527 L90.066 777.527 L90.066 783.406 L85.1818 783.406 L85.1818 777.527 Z\" fill=\"#000000\" fill-rule=\"nonzero\" fill-opacity=\"1\" /><path clip-path=\"url(#clip600)\" d=\"M104.279 779.471 L120.598 779.471 L120.598 783.406 L98.6539 783.406 L98.6539 779.471 Q101.316 776.717 105.899 772.087 Q110.506 767.434 111.686 766.092 Q113.932 763.568 114.811 761.832 Q115.714 760.073 115.714 758.383 Q115.714 755.629 113.77 753.893 Q111.848 752.156 108.746 752.156 Q106.547 752.156 104.094 752.92 Q101.663 753.684 98.8854 755.235 L98.8854 750.513 Q101.709 749.379 104.163 748.8 Q106.617 748.221 108.654 748.221 Q114.024 748.221 117.219 750.906 Q120.413 753.592 120.413 758.082 Q120.413 760.212 119.603 762.133 Q118.816 764.031 116.709 766.624 Q116.131 767.295 113.029 770.513 Q109.927 773.707 104.279 779.471 Z\" fill=\"#000000\" fill-rule=\"nonzero\" fill-opacity=\"1\" /><path clip-path=\"url(#clip600)\" d=\"M64.0708 412.13 Q60.4597 412.13 58.631 415.695 Q56.8254 419.237 56.8254 426.366 Q56.8254 433.473 58.631 437.038 Q60.4597 440.579 64.0708 440.579 Q67.705 440.579 69.5105 437.038 Q71.3392 433.473 71.3392 426.366 Q71.3392 419.237 69.5105 415.695 Q67.705 412.13 64.0708 412.13 M64.0708 408.427 Q69.8809 408.427 72.9365 413.033 Q76.0151 417.616 76.0151 426.366 Q76.0151 435.093 72.9365 439.7 Q69.8809 444.283 64.0708 444.283 Q58.2606 444.283 55.1819 439.7 Q52.1264 435.093 52.1264 426.366 Q52.1264 417.616 55.1819 413.033 Q58.2606 408.427 64.0708 408.427 Z\" fill=\"#000000\" fill-rule=\"nonzero\" fill-opacity=\"1\" /><path clip-path=\"url(#clip600)\" d=\"M84.2327 437.732 L89.1169 437.732 L89.1169 443.612 L84.2327 443.612 L84.2327 437.732 Z\" fill=\"#000000\" fill-rule=\"nonzero\" fill-opacity=\"1\" /><path clip-path=\"url(#clip600)\" d=\"M113.469 424.977 Q116.825 425.695 118.7 427.964 Q120.598 430.232 120.598 433.565 Q120.598 438.681 117.08 441.482 Q113.561 444.283 107.08 444.283 Q104.904 444.283 102.589 443.843 Q100.297 443.426 97.8437 442.57 L97.8437 438.056 Q99.7882 439.19 102.103 439.769 Q104.418 440.348 106.941 440.348 Q111.339 440.348 113.631 438.612 Q115.945 436.876 115.945 433.565 Q115.945 430.51 113.793 428.797 Q111.663 427.061 107.844 427.061 L103.816 427.061 L103.816 423.218 L108.029 423.218 Q111.478 423.218 113.307 421.852 Q115.135 420.464 115.135 417.871 Q115.135 415.209 113.237 413.797 Q111.362 412.362 107.844 412.362 Q105.922 412.362 103.723 412.778 Q101.524 413.195 98.8854 414.075 L98.8854 409.908 Q101.547 409.167 103.862 408.797 Q106.2 408.427 108.26 408.427 Q113.584 408.427 116.686 410.857 Q119.788 413.265 119.788 417.385 Q119.788 420.255 118.145 422.246 Q116.501 424.214 113.469 424.977 Z\" fill=\"#000000\" fill-rule=\"nonzero\" fill-opacity=\"1\" /><path clip-path=\"url(#clip600)\" d=\"M62.9365 72.3356 Q59.3254 72.3356 57.4967 75.9004 Q55.6912 79.442 55.6912 86.5716 Q55.6912 93.6781 57.4967 97.2429 Q59.3254 100.785 62.9365 100.785 Q66.5707 100.785 68.3763 97.2429 Q70.205 93.6781 70.205 86.5716 Q70.205 79.442 68.3763 75.9004 Q66.5707 72.3356 62.9365 72.3356 M62.9365 68.6319 Q68.7467 68.6319 71.8022 73.2384 Q74.8809 77.8217 74.8809 86.5716 Q74.8809 95.2984 71.8022 99.9049 Q68.7467 104.488 62.9365 104.488 Q57.1264 104.488 54.0477 99.9049 Q50.9921 95.2984 50.9921 86.5716 Q50.9921 77.8217 54.0477 73.2384 Q57.1264 68.6319 62.9365 68.6319 Z\" fill=\"#000000\" fill-rule=\"nonzero\" fill-opacity=\"1\" /><path clip-path=\"url(#clip600)\" d=\"M83.0984 97.9373 L87.9827 97.9373 L87.9827 103.817 L83.0984 103.817 L83.0984 97.9373 Z\" fill=\"#000000\" fill-rule=\"nonzero\" fill-opacity=\"1\" /><path clip-path=\"url(#clip600)\" d=\"M111.015 73.331 L99.2095 91.7799 L111.015 91.7799 L111.015 73.331 M109.788 69.2569 L115.668 69.2569 L115.668 91.7799 L120.598 91.7799 L120.598 95.6688 L115.668 95.6688 L115.668 103.817 L111.015 103.817 L111.015 95.6688 L95.4132 95.6688 L95.4132 91.1549 L109.788 69.2569 Z\" fill=\"#000000\" fill-rule=\"nonzero\" fill-opacity=\"1\" /><polyline clip-path=\"url(#clip602)\" style=\"stroke:#009af9; stroke-linecap:round; stroke-linejoin:round; stroke-width:4; stroke-opacity:1; fill:none\" points=\"218.754,87.9763 222.074,946.231 225.394,1261.97 228.714,1378.12 232.035,1420.85 235.355,1436.57 238.675,1442.35 241.996,1444.48 245.316,1445.26 248.636,1445.55 251.956,1445.65 255.277,1445.69 258.597,1445.71 261.917,1445.71 265.237,1445.71 268.558,1445.72 271.878,1445.72 275.198,1445.72 278.518,1445.72 281.839,1445.72 285.159,1445.72 288.479,1445.72 291.8,1445.72 295.12,1445.72 298.44,1445.72 301.76,946.231 305.081,1261.97 308.401,1378.12 311.721,1420.85 315.041,1436.57 318.362,1442.35 321.682,1444.48 325.002,1445.26 328.322,1445.55 331.643,1445.65 334.963,1445.69 338.283,1445.71 341.604,1445.71 344.924,1445.71 348.244,1445.72 351.564,1445.72 354.885,1445.72 358.205,1445.72 361.525,1445.72 364.845,1445.72 368.166,1445.72 371.486,1445.72 374.806,1445.72 378.126,1445.72 381.447,1445.72 384.767,1261.97 388.087,1378.12 391.408,1420.85 394.728,1436.57 398.048,1442.35 401.368,1444.48 404.689,1445.26 408.009,1445.55 411.329,1445.65 414.649,1445.69 417.97,1445.71 421.29,1445.71 424.61,1445.71 427.93,1445.72 431.251,1445.72 434.571,1445.72 437.891,1445.72 441.212,1445.72 444.532,1445.72 447.852,1445.72 451.172,1445.72 454.493,1445.72 457.813,1445.72 461.133,1445.72 464.453,1445.72 467.774,1378.12 471.094,1420.85 474.414,1436.57 477.734,1442.35 481.055,1444.48 484.375,1445.26 487.695,1445.55 491.016,1445.65 494.336,1445.69 497.656,1445.71 500.976,1445.71 504.297,1445.71 507.617,1445.72 510.937,1445.72 514.257,1445.72 517.578,1445.72 520.898,1445.72 524.218,1445.72 527.539,1445.72 530.859,1445.72 534.179,1445.72 537.499,1445.72 540.82,1445.72 544.14,1445.72 547.46,1445.72 550.78,1420.85 554.101,1436.57 557.421,1442.35 560.741,1444.48 564.061,1445.26 567.382,1445.55 570.702,1445.65 574.022,1445.69 577.343,1445.71 580.663,1445.71 583.983,1445.71 587.303,1445.72 590.624,1445.72 593.944,1445.72 597.264,1445.72 600.584,1445.72 603.905,1445.72 607.225,1445.72 610.545,1445.72 613.865,1445.72 617.186,1445.72 620.506,1445.72 623.826,1445.72 627.147,1445.72 630.467,1445.72 633.787,1436.57 637.107,1442.35 640.428,1444.48 643.748,1445.26 647.068,1445.55 650.388,1445.65 653.709,1445.69 657.029,1445.71 660.349,1445.71 663.669,1445.71 666.99,1445.72 670.31,1445.72 673.63,1445.72 676.951,1445.72 680.271,1445.72 683.591,1445.72 686.911,1445.72 690.232,1445.72 693.552,1445.72 696.872,1445.72 700.192,1445.72 703.513,1445.72 706.833,1445.72 710.153,1445.72 713.473,1445.72 716.794,1442.35 720.114,1444.48 723.434,1445.26 726.755,1445.55 730.075,1445.65 733.395,1445.69 736.715,1445.71 740.036,1445.71 743.356,1445.71 746.676,1445.72 749.996,1445.72 753.317,1445.72 756.637,1445.72 759.957,1445.72 763.277,1445.72 766.598,1445.72 769.918,1445.72 773.238,1445.72 776.559,1445.72 779.879,1445.72 783.199,1445.72 786.519,1445.72 789.84,1445.72 793.16,1445.72 796.48,1445.72 799.8,1444.48 803.121,1445.26 806.441,1445.55 809.761,1445.65 813.082,1445.69 816.402,1445.71 819.722,1445.71 823.042,1445.71 826.363,1445.72 829.683,1445.72 833.003,1445.72 836.323,1445.72 839.644,1445.72 842.964,1445.72 846.284,1445.72 849.604,1445.72 852.925,1445.72 856.245,1445.72 859.565,1445.72 862.886,1445.72 866.206,1445.72 869.526,1445.72 872.846,1445.72 876.167,1445.72 879.487,1445.72 882.807,1445.26 886.127,1445.55 889.448,1445.65 892.768,1445.69 896.088,1445.71 899.408,1445.71 902.729,1445.71 906.049,1445.72 909.369,1445.72 912.69,1445.72 916.01,1445.72 919.33,1445.72 922.65,1445.72 925.971,1445.72 929.291,1445.72 932.611,1445.72 935.931,1445.72 939.252,1445.72 942.572,1445.72 945.892,1445.72 949.212,1445.72 952.533,1445.72 955.853,1445.72 959.173,1445.72 962.494,1445.72 965.814,1445.55 969.134,1445.65 972.454,1445.69 975.775,1445.71 979.095,1445.71 982.415,1445.71 985.735,1445.72 989.056,1445.72 992.376,1445.72 995.696,1445.72 999.016,1445.72 1002.34,1445.72 1005.66,1445.72 1008.98,1445.72 1012.3,1445.72 1015.62,1445.72 1018.94,1445.72 1022.26,1445.72 1025.58,1445.72 1028.9,1445.72 1032.22,1445.72 1035.54,1445.72 1038.86,1445.72 1042.18,1445.72 1045.5,1445.72 1048.82,1445.65 1052.14,1445.69 1055.46,1445.71 1058.78,1445.71 1062.1,1445.71 1065.42,1445.72 1068.74,1445.72 1072.06,1445.72 1075.38,1445.72 1078.7,1445.72 1082.02,1445.72 1085.34,1445.72 1088.66,1445.72 1091.98,1445.72 1095.3,1445.72 1098.62,1445.72 1101.94,1445.72 1105.27,1445.72 1108.59,1445.72 1111.91,1445.72 1115.23,1445.72 1118.55,1445.72 1121.87,1445.72 1125.19,1445.72 1128.51,1445.72 1131.83,1445.69 1135.15,1445.71 1138.47,1445.71 1141.79,1445.71 1145.11,1445.72 1148.43,1445.72 1151.75,1445.72 1155.07,1445.72 1158.39,1445.72 1161.71,1445.72 1165.03,1445.72 1168.35,1445.72 1171.67,1445.72 1174.99,1445.72 1178.31,1445.72 1181.63,1445.72 1184.95,1445.72 1188.27,1445.72 1191.59,1445.72 1194.91,1445.72 1198.23,1445.72 1201.55,1445.72 1204.87,1445.72 1208.19,1445.72 1211.51,1445.72 1214.83,1445.71 1218.15,1445.71 1221.47,1445.71 1224.79,1445.72 1228.11,1445.72 1231.44,1445.72 1234.76,1445.72 1238.08,1445.72 1241.4,1445.72 1244.72,1445.72 1248.04,1445.72 1251.36,1445.72 1254.68,1445.72 1258,1445.72 1261.32,1445.72 1264.64,1445.72 1267.96,1445.72 1271.28,1445.72 1274.6,1445.72 1277.92,1445.72 1281.24,1445.72 1284.56,1445.72 1287.88,1445.72 1291.2,1445.72 1294.52,1445.72 1297.84,1445.71 1301.16,1445.71 1304.48,1445.72 1307.8,1445.72 1311.12,1445.72 1314.44,1445.72 1317.76,1445.72 1321.08,1445.72 1324.4,1445.72 1327.72,1445.72 1331.04,1445.72 1334.36,1445.72 1337.68,1445.72 1341,1445.72 1344.32,1445.72 1347.64,1445.72 1350.96,1445.72 1354.29,1445.72 1357.61,1445.72 1360.93,1445.72 1364.25,1445.72 1367.57,1445.72 1370.89,1445.72 1374.21,1445.72 1377.53,1445.72 1380.85,1445.71 1384.17,1445.72 1387.49,1445.72 1390.81,1445.72 1394.13,1445.72 1397.45,1445.72 1400.77,1445.72 1404.09,1445.72 1407.41,1445.72 1410.73,1445.72 1414.05,1445.72 1417.37,1445.72 1420.69,1445.72 1424.01,1445.72 1427.33,1445.72 1430.65,1445.72 1433.97,1445.72 1437.29,1445.72 1440.61,1445.72 1443.93,1445.72 1447.25,1445.72 1450.57,1445.72 1453.89,1445.72 1457.21,1445.72 1460.53,1445.72 1463.85,1445.72 1467.17,1445.72 1470.49,1445.72 1473.81,1445.72 1477.13,1445.72 1480.46,1445.72 1483.78,1445.72 1487.1,1445.72 1490.42,1445.72 1493.74,1445.72 1497.06,1445.72 1500.38,1445.72 1503.7,1445.72 1507.02,1445.72 1510.34,1445.72 1513.66,1445.72 1516.98,1445.72 1520.3,1445.72 1523.62,1445.72 1526.94,1445.72 1530.26,1445.72 1533.58,1445.72 1536.9,1445.72 1540.22,1445.72 1543.54,1445.72 1546.86,1445.72 1550.18,1445.72 1553.5,1445.72 1556.82,1445.72 1560.14,1445.72 1563.46,1445.72 1566.78,1445.72 1570.1,1445.72 1573.42,1445.72 1576.74,1445.72 1580.06,1445.72 1583.38,1445.72 1586.7,1445.72 1590.02,1445.72 1593.34,1445.72 1596.66,1445.72 1599.98,1445.72 1603.31,1445.72 1606.63,1445.72 1609.95,1445.72 1613.27,1445.72 1616.59,1445.72 1619.91,1445.72 1623.23,1445.72 1626.55,1445.72 1629.87,1445.72 1633.19,1445.72 1636.51,1445.72 1639.83,1445.72 1643.15,1445.72 1646.47,1445.72 1649.79,1445.72 1653.11,1445.72 1656.43,1445.72 1659.75,1445.72 1663.07,1445.72 1666.39,1445.72 1669.71,1445.72 1673.03,1445.72 1676.35,1445.72 1679.67,1445.72 1682.99,1445.72 1686.31,1445.72 1689.63,1445.72 1692.95,1445.72 1696.27,1445.72 1699.59,1445.72 1702.91,1445.72 1706.23,1445.72 1709.55,1445.72 1712.87,1445.72 1716.19,1445.72 1719.51,1445.72 1722.83,1445.72 1726.16,1445.72 1729.48,1445.72 1732.8,1445.72 1736.12,1445.72 1739.44,1445.72 1742.76,1445.72 1746.08,1445.72 1749.4,1445.72 1752.72,1445.72 1756.04,1445.72 1759.36,1445.72 1762.68,1445.72 1766,1445.72 1769.32,1445.72 1772.64,1445.72 1775.96,1445.72 1779.28,1445.72 1782.6,1445.72 1785.92,1445.72 1789.24,1445.72 1792.56,1445.72 1795.88,1445.72 1799.2,1445.72 1802.52,1445.72 1805.84,1445.72 1809.16,1445.72 1812.48,1445.72 1815.8,1445.72 1819.12,1445.72 1822.44,1445.72 1825.76,1445.72 1829.08,1445.72 1832.4,1445.72 1835.72,1445.72 1839.04,1445.72 1842.36,1445.72 1845.68,1445.72 1849,1445.72 1852.33,1445.72 1855.65,1445.72 1858.97,1445.72 1862.29,1445.72 1865.61,1445.72 1868.93,1445.72 1872.25,1445.72 1875.57,1445.72 1878.89,1445.72 1882.21,1445.72 1885.53,1445.72 1888.85,1445.72 1892.17,1445.72 1895.49,1445.72 1898.81,1445.72 1902.13,1445.72 1905.45,1445.72 1908.77,1445.72 1912.09,1445.72 1915.41,1445.72 1918.73,1445.72 1922.05,1445.72 1925.37,1445.72 1928.69,1445.72 1932.01,1445.72 1935.33,1445.72 1938.65,1445.72 1941.97,1445.72 1945.29,1445.72 1948.61,1445.72 1951.93,1445.72 1955.25,1445.72 1958.57,1445.72 1961.89,1445.72 1965.21,1445.72 1968.53,1445.72 1971.85,1445.72 1975.18,1445.72 1978.5,1445.72 1981.82,1445.72 1985.14,1445.72 1988.46,1445.72 1991.78,1445.72 1995.1,1445.72 1998.42,1445.72 2001.74,1445.72 2005.06,1445.72 2008.38,1445.72 2011.7,1445.72 2015.02,1445.72 2018.34,1445.72 2021.66,1445.72 2024.98,1445.72 2028.3,1445.72 2031.62,1445.72 2034.94,1445.72 2038.26,1445.72 2041.58,1445.72 2044.9,1445.72 2048.22,1445.72 2051.54,1445.72 2054.86,1445.72 2058.18,1445.72 2061.5,1445.72 2064.82,1445.72 2068.14,1445.72 2071.46,1445.72 2074.78,1445.72 2078.1,1445.72 2081.42,1445.72 2084.74,1445.72 2088.06,1445.72 2091.38,1445.72 2094.7,1445.72 2098.02,1445.72 2101.35,1445.72 2104.67,1445.72 2107.99,1445.72 2111.31,1445.72 2114.63,1445.72 2117.95,1445.72 2121.27,1445.72 2124.59,1445.72 2127.91,1445.72 2131.23,1445.72 2134.55,1445.72 2137.87,1445.72 2141.19,1445.72 2144.51,1445.72 2147.83,1445.72 2151.15,1445.72 2154.47,1445.72 2157.79,1445.72 2161.11,1445.72 2164.43,1445.72 2167.75,1445.72 2171.07,1445.72 2174.39,1445.72 2177.71,1445.72 2181.03,1445.72 2184.35,1445.72 2187.67,1445.72 2190.99,1445.72 2194.31,1445.72 2197.63,1445.72 2200.95,1445.72 2204.27,1445.72 2207.59,1445.72 2210.91,1445.72 2214.23,1445.72 2217.55,1445.72 2220.87,1445.72 2224.2,1445.72 2227.52,1445.72 2230.84,1445.72 2234.16,1445.72 2237.48,1445.72 2240.8,1445.72 2244.12,1445.72 2247.44,1445.72 2250.76,1445.72 2254.08,1445.72 2257.4,1445.72 2260.72,1445.72 2264.04,1445.72 2267.36,1445.72 2270.68,1445.72 2274,1445.72 2277.32,1445.72 2280.64,1445.72 2283.96,1445.72 2287.28,1445.72 2290.6,1445.72 \"/>\n",
       "<path clip-path=\"url(#clip600)\" d=\"M2007.5 198.898 L2279.55 198.898 L2279.55 95.2176 L2007.5 95.2176  Z\" fill=\"#ffffff\" fill-rule=\"evenodd\" fill-opacity=\"1\"/>\n",
       "<polyline clip-path=\"url(#clip600)\" style=\"stroke:#000000; stroke-linecap:round; stroke-linejoin:round; stroke-width:4; stroke-opacity:1; fill:none\" points=\"2007.5,198.898 2279.55,198.898 2279.55,95.2176 2007.5,95.2176 2007.5,198.898 \"/>\n",
       "<polyline clip-path=\"url(#clip600)\" style=\"stroke:#009af9; stroke-linecap:round; stroke-linejoin:round; stroke-width:4; stroke-opacity:1; fill:none\" points=\"2031.91,147.058 2178.32,147.058 \"/>\n",
       "<path clip-path=\"url(#clip600)\" d=\"M2216.56 166.745 Q2214.76 171.375 2213.04 172.787 Q2211.33 174.199 2208.46 174.199 L2205.06 174.199 L2205.06 170.634 L2207.56 170.634 Q2209.32 170.634 2210.29 169.8 Q2211.26 168.967 2212.44 165.865 L2213.2 163.921 L2202.72 138.412 L2207.23 138.412 L2215.33 158.689 L2223.44 138.412 L2227.95 138.412 L2216.56 166.745 Z\" fill=\"#000000\" fill-rule=\"nonzero\" fill-opacity=\"1\" /><path clip-path=\"url(#clip600)\" d=\"M2235.24 160.402 L2242.88 160.402 L2242.88 134.037 L2234.57 135.703 L2234.57 131.444 L2242.83 129.778 L2247.51 129.778 L2247.51 160.402 L2255.15 160.402 L2255.15 164.338 L2235.24 164.338 L2235.24 160.402 Z\" fill=\"#000000\" fill-rule=\"nonzero\" fill-opacity=\"1\" /></svg>\n"
      ]
     },
     "execution_count": 4,
     "metadata": {},
     "output_type": "execute_result"
    }
   ],
   "source": [
    "display(ρ)\n",
    "plot(diag(ρ))"
   ]
  },
  {
   "cell_type": "markdown",
   "id": "e16c63d5-3840-4f2b-9e2f-8ee6ef4357c2",
   "metadata": {},
   "source": [
    "## 2) Create Phaseonium Ancillas   "
   ]
  },
  {
   "cell_type": "code",
   "execution_count": 5,
   "id": "db57cf34-92d6-4e4f-84bd-ab66ef2d238d",
   "metadata": {},
   "outputs": [
    {
     "data": {
      "text/plain": [
       "finaltemperature (generic function with 1 method)"
      ]
     },
     "execution_count": 5,
     "metadata": {},
     "output_type": "execute_result"
    }
   ],
   "source": [
    "function phaseonium(α, ϕ)\n",
    "    [\n",
    "        α^2 0 0;\n",
    "        0 (1 - α^2)/2 (1 - α^2)/2 * exp(ϕ*im);\n",
    "        0 (1 - α^2)/2 * exp(-ϕ*im) (1 - α^2)/2\n",
    "    ]\n",
    "end\n",
    "\n",
    "function dissipationrates(α, ϕ)\n",
    "    ga = 2*α^2\n",
    "    gb = (1 + cos(ϕ))*(1 - α^2)\n",
    "    return real(ga), real(gb)\n",
    "end\n",
    "\n",
    "function finaltemperature(γα, γβ)\n",
    "    return - 1 / log(γα/γβ)\n",
    "end"
   ]
  },
  {
   "cell_type": "code",
   "execution_count": 6,
   "id": "0ef5913e-eb2f-47f6-959e-ceb86d6cb6ed",
   "metadata": {},
   "outputs": [
    {
     "name": "stdout",
     "output_type": "stream",
     "text": [
      "Prepared Phaseonium has:\n",
      "γα = 0.125,\n",
      "γβ = 0.9236320128073691.\n",
      "\n",
      "It will thermalize at temperature T = 0.49999999988062405\n"
     ]
    }
   ],
   "source": [
    "# Define excited-state population of phaseonium atoms\n",
    "α = 1 / 4\n",
    "ϕ = 1.585589386\n",
    "\n",
    "# Define the interaction strength\n",
    "Ω = 1\n",
    "\n",
    "# Create phaseonium density matrices\n",
    "η = phaseonium(α, ϕ)\n",
    "\n",
    "# And get dissipation rates\n",
    "γα, γβ = dissipationrates(α, ϕ)\n",
    "\n",
    "# See the final stable temperature\n",
    "Tf = finaltemperature(γα, γβ)\n",
    "\n",
    "println(\"Prepared Phaseonium has:\\nγα = $γα,\\nγβ = $γβ.\\n\\nIt will thermalize at temperature T = $Tf\")"
   ]
  },
  {
   "cell_type": "markdown",
   "id": "8f6bde62-b39a-4e42-bee7-77a6d44df8df",
   "metadata": {},
   "source": [
    "## 3) Create Bosonic Operators"
   ]
  },
  {
   "cell_type": "markdown",
   "id": "34ef7411-5ce7-4556-9c62-e5f2541929d5",
   "metadata": {},
   "source": [
    "Exp, cosine and sine functions are already well-defined for matrices (they give the same results as QuTiP in Python)"
   ]
  },
  {
   "cell_type": "code",
   "execution_count": 7,
   "id": "c72774bc-dec2-4ad2-87b1-f8ebeef7972a",
   "metadata": {},
   "outputs": [
    {
     "data": {
      "text/plain": [
       "create (generic function with 2 methods)"
      ]
     },
     "execution_count": 7,
     "metadata": {},
     "output_type": "execute_result"
    }
   ],
   "source": [
    "using SparseArrays\n",
    "\n",
    "function matrixdistance(M1, M2)\n",
    "    \"\"\"Calculates the Frobenius distance between two matrices\n",
    "    see: https://mathworld.wolfram.com/FrobeniusNorm.html\"\"\"\n",
    "    return sqrt(tr((M1-M2)*(M1-M2)'))\n",
    "end\n",
    "\n",
    "function destroy(ndims, sparseform=false)\n",
    "    \"\"\"Bosonic Annihilation operator\"\"\"\n",
    "    elements = [sqrt(i) for i in 1:(ndims-1)]\n",
    "    a = diagm(1 => elements)\n",
    "    return sparseform ? sparse(a) : a\n",
    "end\n",
    "\n",
    "function create(ndims, sparseform=false)\n",
    "    \"\"\"Bosonic Creation operator\"\"\"\n",
    "    a = destroy(ndims, sparseform)\n",
    "    return a' \n",
    "end"
   ]
  },
  {
   "cell_type": "code",
   "execution_count": 16,
   "id": "a096a776-446a-4f06-ab42-5ed5b03b5127",
   "metadata": {},
   "outputs": [
    {
     "data": {
      "text/plain": [
       "Sd (generic function with 2 methods)"
      ]
     },
     "execution_count": 16,
     "metadata": {},
     "output_type": "execute_result"
    }
   ],
   "source": [
    "function C(θ, ndims, sparseform=true)\n",
    "    a = destroy(ndims)\n",
    "    argument = 2 * a * a'\n",
    "    operator = cos(θ * sqrt(argument))\n",
    "    return sparseform ? sparse(operator) : operator\n",
    "end\n",
    "\n",
    "function Cp(θ, ndims, sparseform=true)\n",
    "    a = destroy(ndims)\n",
    "    argument = 2 * a' * a\n",
    "    operator = cos(θ * sqrt(argument))\n",
    "    return sparseform ? sparse(operator) : operator\n",
    "end\n",
    "\n",
    "function S(θ, ndims, sparseform=true)\n",
    "    a = destroy(ndims)\n",
    "    argument = 2 * a * a'\n",
    "    sineop = sin(θ * sqrt(argument))\n",
    "    dividend = pinv(sqrt(argument))  # pseudoinverse\n",
    "    operator = a' * sineop * dividend\n",
    "    return sparseform ? sparse(operator) : operator\n",
    "end\n",
    "\n",
    "function Sd(θ, ndims, sparseform=true)\n",
    "    s = S(θ, ndims)\n",
    "    operator = s'\n",
    "    return sparseform ? sparse(operator) : operator\n",
    "end"
   ]
  },
  {
   "cell_type": "markdown",
   "id": "8bfa7511-8c52-4316-bceb-66f7957989a2",
   "metadata": {},
   "source": [
    "## 4) System Evolution"
   ]
  },
  {
   "cell_type": "markdown",
   "id": "3f8adfd7-269b-4ed0-b72c-025f235c5de5",
   "metadata": {},
   "source": [
    "### 4.1) Define Evolution Parameters"
   ]
  },
  {
   "cell_type": "code",
   "execution_count": 18,
   "id": "2ca89bc8-44fc-4555-81b4-ce9f6172a33f",
   "metadata": {},
   "outputs": [],
   "source": [
    "dt = 1.0  # Interaction time\n",
    "θ = Ω * dt  # Rabi phase\n",
    "\n",
    "timesteps = 100;"
   ]
  },
  {
   "cell_type": "markdown",
   "id": "23268c68-c3bb-4b88-b1cc-e230d8e774d8",
   "metadata": {},
   "source": [
    "### 4.2) Define Kraus Operators"
   ]
  },
  {
   "cell_type": "code",
   "execution_count": 19,
   "id": "ab28b4fd-366a-4e1d-8fe8-f7777ae43739",
   "metadata": {},
   "outputs": [],
   "source": [
    "E0 = sqrt(1 - γα/2 - γβ/2) * kron(I(ndims), I(ndims))\n",
    "E1 = sqrt(γα/2) * ( kron(C(θ, ndims), C(θ, ndims)) -2 * kron(S(θ, ndims), Sd(θ, ndims)) )\n",
    "E2 = sqrt(γα) * ( kron(S(θ, ndims), Cp(θ, ndims)) + kron(C(θ, ndims), S(θ, ndims)) )\n",
    "E3 = sqrt(γβ) * ( kron(Sd(θ, ndims), C(θ, ndims)) + kron(Cp(θ, ndims), Sd(θ, ndims)) )\n",
    "E4 = sqrt(γβ/2) * ( kron(Cp(θ, ndims), Cp(θ, ndims)) -2 * kron(Sd(θ, ndims), S(θ, ndims)) )\n",
    "kraus = (E0, E1, E2, E3, E4);"
   ]
  },
  {
   "cell_type": "code",
   "execution_count": 20,
   "id": "7a89ac5b-62e3-4b88-8ce9-1cfe8b035e77",
   "metadata": {},
   "outputs": [
    {
     "name": "stdout",
     "output_type": "stream",
     "text": [
      "Percentage of zeros in Kraus Operators\n",
      "- 0.9984\n",
      "- 0.99692544\n",
      "- 0.996928\n",
      "- 0.996928\n",
      "- 0.99692544\n"
     ]
    }
   ],
   "source": [
    "println(\"Percentage of zeros in Kraus Operators\")\n",
    "for ek in kraus\n",
    "    num_zeros = count(iszero, ek)\n",
    "    sparsity = num_zeros / length(ek)\n",
    "    println(\"- $sparsity\")\n",
    "end"
   ]
  },
  {
   "cell_type": "markdown",
   "id": "65084742-3274-44d4-9db9-c6f57e2433d2",
   "metadata": {},
   "source": [
    "### 4.3) Write Equations of Motion"
   ]
  },
  {
   "cell_type": "code",
   "execution_count": 134,
   "id": "5a2de2aa-ad92-4872-b1cc-44f49c361b16",
   "metadata": {},
   "outputs": [
    {
     "data": {
      "text/plain": [
       "krausevolve (generic function with 1 method)"
      ]
     },
     "execution_count": 134,
     "metadata": {},
     "output_type": "execute_result"
    }
   ],
   "source": [
    "using CUDA\n",
    "\n",
    "function D(M, ρ)\n",
    "    \"\"\"Dissipator Operator appearing in the Master Equation\"\"\"\n",
    "    sandwich = M * ρ * M'\n",
    "    commutator = M' * M * ρ + ρ * M' * M\n",
    "    return sandwich - 1/2 * commutator    \n",
    "end\n",
    "\n",
    "function meqevolve(ρ, kraus, timesteps)\n",
    "    Δρ = zeros(size(ρ))\n",
    "    for t in 1:timesteps\n",
    "        for Ek in kraus[2:length(kraus)]\n",
    "            Δρ += D(Ek, ρ)\n",
    "        end\n",
    "        ρ += Δρ\n",
    "    end\n",
    "    return ρ\n",
    "end\n",
    "\n",
    "function krausevolve(ρ, kraus, timesteps)\n",
    "    old = ρ\n",
    "    dimensions = size(ρ)\n",
    "    temp1 = zeros(dimensions)\n",
    "    temp2 = zeros(dimensions)\n",
    "    @showprogress for i in 1:timesteps\n",
    "        # Reset the new density operator\n",
    "        new = zeros(dimensions)\n",
    "        for ek in kraus\n",
    "            mul!(temp1, ek, old)  # left multiplication\n",
    "            mul!(temp2, temp1, ek')  # right multiplication\n",
    "            new .+= temp2\n",
    "        end\n",
    "        old = new  # updates the old density operator\n",
    "    end\n",
    "    return old\n",
    "end"
   ]
  },
  {
   "cell_type": "code",
   "execution_count": 74,
   "id": "f0e92dad-dfd5-442a-b327-bba0971abd24",
   "metadata": {},
   "outputs": [
    {
     "name": "stdout",
     "output_type": "stream",
     "text": [
      "a\n",
      "c\n",
      "e\n"
     ]
    },
    {
     "data": {
      "text/plain": [
       "3-element Vector{Vector{String}}:\n",
       " [\"a\", \"b\"]\n",
       " [\"c\", \"d\"]\n",
       " [\"e\", \"f\"]"
      ]
     },
     "execution_count": 74,
     "metadata": {},
     "output_type": "execute_result"
    }
   ],
   "source": [
    "a = [[\"a\",\"b\"], [\"c\",\"d\"], [\"e\",\"f\"]]\n",
    "for (i, (l, r)) in zip(1:5, a)\n",
    "    println(l)\n",
    "end\n",
    "a"
   ]
  },
  {
   "cell_type": "markdown",
   "id": "d6ccb96f-1976-4381-946d-7c362f7aba30",
   "metadata": {},
   "source": [
    "### 4.4) Do some Benchmark"
   ]
  },
  {
   "cell_type": "code",
   "execution_count": 13,
   "id": "326bc723-d0b7-4a3c-94d2-1d6d6d00fef0",
   "metadata": {},
   "outputs": [],
   "source": [
    "using BenchmarkTools\n",
    "\n",
    "ρt = ρ;"
   ]
  },
  {
   "cell_type": "code",
   "execution_count": 15,
   "id": "cdd14834-a4c0-4640-8b46-7e03d3cf59b2",
   "metadata": {},
   "outputs": [
    {
     "data": {
      "text/plain": [
       "BenchmarkTools.Trial: 1 sample with 1 evaluation.\n",
       " Single result which took \u001b[34m568.947 s\u001b[39m (0.35% GC) to evaluate,\n",
       " with a memory estimate of \u001b[33m29.11 GiB\u001b[39m, over \u001b[33m70005\u001b[39m allocations."
      ]
     },
     "execution_count": 15,
     "metadata": {},
     "output_type": "execute_result"
    }
   ],
   "source": [
    "b1 = @benchmarkable krausevolve(ρt, kraus, 10000)\n",
    "tune!(b1)\n",
    "run(b1)"
   ]
  },
  {
   "cell_type": "code",
   "execution_count": 135,
   "id": "d6f8f497-3944-4f85-83d1-29f323dce17e",
   "metadata": {},
   "outputs": [
    {
     "name": "stderr",
     "output_type": "stream",
     "text": [
      "\u001b[32mProgress: 100%|█████████████████████████████████████████| Time: 0:00:56\u001b[39m\n"
     ]
    }
   ],
   "source": [
    "ρt = ρ;\n",
    "ρt = krausevolve(ρt, kraus, 5000);"
   ]
  },
  {
   "cell_type": "markdown",
   "id": "02708ab6-6bb8-4e80-87ef-9bb6eb2e3dde",
   "metadata": {},
   "source": [
    "## 5) Results"
   ]
  },
  {
   "cell_type": "code",
   "execution_count": 28,
   "id": "93cc467f-9224-4919-a38b-27a9d56187af",
   "metadata": {},
   "outputs": [],
   "source": [
    "function chop!(matrix, threshold = 1e-8)\n",
    "    \"\"\"Set small elements to zero\"\"\"\n",
    "    matrix[abs.(matrix) .< threshold] .= 0\n",
    "end\n",
    "\n",
    "chop!(ρt);"
   ]
  },
  {
   "cell_type": "code",
   "execution_count": 29,
   "id": "1ff07390-1fd1-49c4-879f-75fac56f88fc",
   "metadata": {},
   "outputs": [
    {
     "name": "stdout",
     "output_type": "stream",
     "text": [
      "Diagonal: false\n",
      "Positive: false\n",
      "Normal: true\n",
      "Truncatable: true\n",
      "\n"
     ]
    },
    {
     "data": {
      "text/plain": [
       "false"
      ]
     },
     "execution_count": 29,
     "metadata": {},
     "output_type": "execute_result"
    }
   ],
   "source": [
    "function isdiagonal(mat::Matrix)\n",
    "    return mat == Diagonal(diag(mat))\n",
    "end\n",
    "\n",
    "\n",
    "function ispositive(mat::Matrix)\n",
    "    return all(mat .>= 0)\n",
    "end\n",
    "\n",
    "\n",
    "function isnormal(mat::Matrix; threshold = 1e-5)\n",
    "    return tr(mat) - 1 < threshold\n",
    "end\n",
    "\n",
    "\n",
    "function canbecut(mat::Matrix, threshold = 1e-5)\n",
    "    \"\"\"Check if the last element of the matrix is really small so we can truncate the hilbert space\"\"\"\n",
    "    return last(diag(mat)) < threshold\n",
    "end\n",
    "\n",
    "\n",
    "function checkdensity(mat::Matrix)\n",
    "    println(\"\"\"\n",
    "        Diagonal: $(isdiagonal(mat))\n",
    "        Positive: $(ispositive(mat))\n",
    "        Normal: $(isnormal(mat))\n",
    "        Truncatable: $(canbecut(mat))\n",
    "        \"\"\")\n",
    "    return ispositive(mat) && isnormal(mat) && canbecut(mat)\n",
    "end\n",
    "\n",
    "checkdensity(ρt)"
   ]
  },
  {
   "cell_type": "code",
   "execution_count": 30,
   "id": "d1f2b69b-25ff-4d9e-891b-5cc5bbbeec1f",
   "metadata": {},
   "outputs": [
    {
     "name": "stdout",
     "output_type": "stream",
     "text": [
      "100\n"
     ]
    },
    {
     "data": {
      "text/plain": [
       "-2.1476123464570522e-8"
      ]
     },
     "execution_count": 30,
     "metadata": {},
     "output_type": "execute_result"
    }
   ],
   "source": [
    "indices = findall(x -> x <0, ρt)\n",
    "println(length(indices))\n",
    "ρt[indices[100]]"
   ]
  },
  {
   "cell_type": "code",
   "execution_count": 31,
   "id": "a0d703e6-6818-48a0-a098-ba4e9ee52612",
   "metadata": {},
   "outputs": [
    {
     "name": "stdout",
     "output_type": "stream",
     "text": [
      "Diagonal: true\n",
      "Positive: true\n",
      "Normal: true\n",
      "Truncatable: true\n",
      "\n"
     ]
    },
    {
     "data": {
      "text/plain": [
       "true"
      ]
     },
     "execution_count": 31,
     "metadata": {},
     "output_type": "execute_result"
    }
   ],
   "source": [
    "function partial_trace(ρ, ndims, subsystem)\n",
    "    # Reshape the density matrix into a 4D tensor\n",
    "    rho_tensor = reshape(ρ, (ndims, ndims, ndims, ndims))\n",
    "\n",
    "    if subsystem == 1\n",
    "        # Take the partial trace over s2\n",
    "        rho_subsystem = [tr(rho_tensor[i, :, j, :]) for i in 1:ndims, j in 1:ndims]\n",
    "    elseif subsystem == 2\n",
    "        # Take the partial trace over s1\n",
    "        rho_subsystem = [tr(rho_tensor[:, i, :, j]) for i in 1:ndims, j in 1:ndims]\n",
    "    else\n",
    "        error(\"Invalid subsystem. Choose either '1' or '2'.\")\n",
    "    end\n",
    "\n",
    "    return rho_subsystem\n",
    "end\n",
    "\n",
    "ρ1 = partial_trace(ρt, ndims, 1)\n",
    "ρ2 = partial_trace(ρt, ndims, 2)\n",
    "checkdensity(ρ1)"
   ]
  },
  {
   "cell_type": "code",
   "execution_count": 33,
   "id": "07f53b36-ec45-4500-b2e9-3f133a8f9699",
   "metadata": {},
   "outputs": [
    {
     "data": {
      "text/plain": [
       "0.5000117241941292"
      ]
     },
     "metadata": {},
     "output_type": "display_data"
    },
    {
     "data": {
      "image/png": "[encoded data removed]",
      "image/svg+xml": [
       "<?xml version=\"1.0\" encoding=\"utf-8\"?>\n",
       "<svg xmlns=\"http://www.w3.org/2000/svg\" xmlns:xlink=\"http://www.w3.org/1999/xlink\" width=\"600\" height=\"400\" viewBox=\"0 0 2400 1600\">\n",
       "<defs>\n",
       "  <clipPath id=\"clip730\">\n",
       "    <rect x=\"0\" y=\"0\" width=\"2400\" height=\"1600\"/>\n",
       "  </clipPath>\n",
       "</defs>\n",
       "<path clip-path=\"url(#clip730)\" d=\"M0 1600 L2400 1600 L2400 0 L0 0  Z\" fill=\"#ffffff\" fill-rule=\"evenodd\" fill-opacity=\"1\"/>\n",
       "<defs>\n",
       "  <clipPath id=\"clip731\">\n",
       "    <rect x=\"480\" y=\"0\" width=\"1681\" height=\"1600\"/>\n",
       "  </clipPath>\n",
       "</defs>\n",
       "<path clip-path=\"url(#clip730)\" d=\"M156.598 1486.45 L2352.76 1486.45 L2352.76 47.2441 L156.598 47.2441  Z\" fill=\"#ffffff\" fill-rule=\"evenodd\" fill-opacity=\"1\"/>\n",
       "<defs>\n",
       "  <clipPath id=\"clip732\">\n",
       "    <rect x=\"156\" y=\"47\" width=\"2197\" height=\"1440\"/>\n",
       "  </clipPath>\n",
       "</defs>\n",
       "<polyline clip-path=\"url(#clip732)\" style=\"stroke:#000000; stroke-linecap:round; stroke-linejoin:round; stroke-width:2; stroke-opacity:0.1; fill:none\" points=\"564.061,1486.45 564.061,47.2441 \"/>\n",
       "<polyline clip-path=\"url(#clip732)\" style=\"stroke:#000000; stroke-linecap:round; stroke-linejoin:round; stroke-width:2; stroke-opacity:0.1; fill:none\" points=\"995.696,1486.45 995.696,47.2441 \"/>\n",
       "<polyline clip-path=\"url(#clip732)\" style=\"stroke:#000000; stroke-linecap:round; stroke-linejoin:round; stroke-width:2; stroke-opacity:0.1; fill:none\" points=\"1427.33,1486.45 1427.33,47.2441 \"/>\n",
       "<polyline clip-path=\"url(#clip732)\" style=\"stroke:#000000; stroke-linecap:round; stroke-linejoin:round; stroke-width:2; stroke-opacity:0.1; fill:none\" points=\"1858.97,1486.45 1858.97,47.2441 \"/>\n",
       "<polyline clip-path=\"url(#clip732)\" style=\"stroke:#000000; stroke-linecap:round; stroke-linejoin:round; stroke-width:2; stroke-opacity:0.1; fill:none\" points=\"2290.6,1486.45 2290.6,47.2441 \"/>\n",
       "<polyline clip-path=\"url(#clip730)\" style=\"stroke:#000000; stroke-linecap:round; stroke-linejoin:round; stroke-width:4; stroke-opacity:1; fill:none\" points=\"156.598,1486.45 2352.76,1486.45 \"/>\n",
       "<polyline clip-path=\"url(#clip730)\" style=\"stroke:#000000; stroke-linecap:round; stroke-linejoin:round; stroke-width:4; stroke-opacity:1; fill:none\" points=\"564.061,1486.45 564.061,1467.55 \"/>\n",
       "<polyline clip-path=\"url(#clip730)\" style=\"stroke:#000000; stroke-linecap:round; stroke-linejoin:round; stroke-width:4; stroke-opacity:1; fill:none\" points=\"995.696,1486.45 995.696,1467.55 \"/>\n",
       "<polyline clip-path=\"url(#clip730)\" style=\"stroke:#000000; stroke-linecap:round; stroke-linejoin:round; stroke-width:4; stroke-opacity:1; fill:none\" points=\"1427.33,1486.45 1427.33,1467.55 \"/>\n",
       "<polyline clip-path=\"url(#clip730)\" style=\"stroke:#000000; stroke-linecap:round; stroke-linejoin:round; stroke-width:4; stroke-opacity:1; fill:none\" points=\"1858.97,1486.45 1858.97,1467.55 \"/>\n",
       "<polyline clip-path=\"url(#clip730)\" style=\"stroke:#000000; stroke-linecap:round; stroke-linejoin:round; stroke-width:4; stroke-opacity:1; fill:none\" points=\"2290.6,1486.45 2290.6,1467.55 \"/>\n",
       "<path clip-path=\"url(#clip730)\" d=\"M554.339 1514.29 L572.696 1514.29 L572.696 1518.22 L558.622 1518.22 L558.622 1526.7 Q559.64 1526.35 560.659 1526.19 Q561.677 1526 562.696 1526 Q568.483 1526 571.862 1529.17 Q575.242 1532.34 575.242 1537.76 Q575.242 1543.34 571.77 1546.44 Q568.298 1549.52 561.978 1549.52 Q559.802 1549.52 557.534 1549.15 Q555.288 1548.78 552.881 1548.04 L552.881 1543.34 Q554.964 1544.47 557.186 1545.03 Q559.409 1545.58 561.886 1545.58 Q565.89 1545.58 568.228 1543.48 Q570.566 1541.37 570.566 1537.76 Q570.566 1534.15 568.228 1532.04 Q565.89 1529.94 561.886 1529.94 Q560.011 1529.94 558.136 1530.35 Q556.284 1530.77 554.339 1531.65 L554.339 1514.29 Z\" fill=\"#000000\" fill-rule=\"nonzero\" fill-opacity=\"1\" /><path clip-path=\"url(#clip730)\" d=\"M970.384 1544.91 L978.023 1544.91 L978.023 1518.55 L969.713 1520.21 L969.713 1515.95 L977.976 1514.29 L982.652 1514.29 L982.652 1544.91 L990.291 1544.91 L990.291 1548.85 L970.384 1548.85 L970.384 1544.91 Z\" fill=\"#000000\" fill-rule=\"nonzero\" fill-opacity=\"1\" /><path clip-path=\"url(#clip730)\" d=\"M1009.74 1517.37 Q1006.12 1517.37 1004.3 1520.93 Q1002.49 1524.47 1002.49 1531.6 Q1002.49 1538.71 1004.3 1542.27 Q1006.12 1545.82 1009.74 1545.82 Q1013.37 1545.82 1015.18 1542.27 Q1017 1538.71 1017 1531.6 Q1017 1524.47 1015.18 1520.93 Q1013.37 1517.37 1009.74 1517.37 M1009.74 1513.66 Q1015.55 1513.66 1018.6 1518.27 Q1021.68 1522.85 1021.68 1531.6 Q1021.68 1540.33 1018.6 1544.94 Q1015.55 1549.52 1009.74 1549.52 Q1003.93 1549.52 1000.85 1544.94 Q997.791 1540.33 997.791 1531.6 Q997.791 1522.85 1000.85 1518.27 Q1003.93 1513.66 1009.74 1513.66 Z\" fill=\"#000000\" fill-rule=\"nonzero\" fill-opacity=\"1\" /><path clip-path=\"url(#clip730)\" d=\"M1402.52 1544.91 L1410.16 1544.91 L1410.16 1518.55 L1401.85 1520.21 L1401.85 1515.95 L1410.11 1514.29 L1414.78 1514.29 L1414.78 1544.91 L1422.42 1544.91 L1422.42 1548.85 L1402.52 1548.85 L1402.52 1544.91 Z\" fill=\"#000000\" fill-rule=\"nonzero\" fill-opacity=\"1\" /><path clip-path=\"url(#clip730)\" d=\"M1431.91 1514.29 L1450.27 1514.29 L1450.27 1518.22 L1436.2 1518.22 L1436.2 1526.7 Q1437.22 1526.35 1438.23 1526.19 Q1439.25 1526 1440.27 1526 Q1446.06 1526 1449.44 1529.17 Q1452.82 1532.34 1452.82 1537.76 Q1452.82 1543.34 1449.34 1546.44 Q1445.87 1549.52 1439.55 1549.52 Q1437.38 1549.52 1435.11 1549.15 Q1432.86 1548.78 1430.46 1548.04 L1430.46 1543.34 Q1432.54 1544.47 1434.76 1545.03 Q1436.98 1545.58 1439.46 1545.58 Q1443.47 1545.58 1445.8 1543.48 Q1448.14 1541.37 1448.14 1537.76 Q1448.14 1534.15 1445.8 1532.04 Q1443.47 1529.94 1439.46 1529.94 Q1437.59 1529.94 1435.71 1530.35 Q1433.86 1530.77 1431.91 1531.65 L1431.91 1514.29 Z\" fill=\"#000000\" fill-rule=\"nonzero\" fill-opacity=\"1\" /><path clip-path=\"url(#clip730)\" d=\"M1837.74 1544.91 L1854.06 1544.91 L1854.06 1548.85 L1832.11 1548.85 L1832.11 1544.91 Q1834.78 1542.16 1839.36 1537.53 Q1843.97 1532.88 1845.15 1531.53 Q1847.39 1529.01 1848.27 1527.27 Q1849.17 1525.51 1849.17 1523.82 Q1849.17 1521.07 1847.23 1519.33 Q1845.31 1517.6 1842.21 1517.6 Q1840.01 1517.6 1837.55 1518.36 Q1835.12 1519.13 1832.35 1520.68 L1832.35 1515.95 Q1835.17 1514.82 1837.62 1514.24 Q1840.08 1513.66 1842.11 1513.66 Q1847.48 1513.66 1850.68 1516.35 Q1853.87 1519.03 1853.87 1523.52 Q1853.87 1525.65 1853.06 1527.57 Q1852.28 1529.47 1850.17 1532.07 Q1849.59 1532.74 1846.49 1535.95 Q1843.39 1539.15 1837.74 1544.91 Z\" fill=\"#000000\" fill-rule=\"nonzero\" fill-opacity=\"1\" /><path clip-path=\"url(#clip730)\" d=\"M1873.87 1517.37 Q1870.26 1517.37 1868.43 1520.93 Q1866.63 1524.47 1866.63 1531.6 Q1866.63 1538.71 1868.43 1542.27 Q1870.26 1545.82 1873.87 1545.82 Q1877.51 1545.82 1879.31 1542.27 Q1881.14 1538.71 1881.14 1531.6 Q1881.14 1524.47 1879.31 1520.93 Q1877.51 1517.37 1873.87 1517.37 M1873.87 1513.66 Q1879.68 1513.66 1882.74 1518.27 Q1885.82 1522.85 1885.82 1531.6 Q1885.82 1540.33 1882.74 1544.94 Q1879.68 1549.52 1873.87 1549.52 Q1868.06 1549.52 1864.98 1544.94 Q1861.93 1540.33 1861.93 1531.6 Q1861.93 1522.85 1864.98 1518.27 Q1868.06 1513.66 1873.87 1513.66 Z\" fill=\"#000000\" fill-rule=\"nonzero\" fill-opacity=\"1\" /><path clip-path=\"url(#clip730)\" d=\"M2269.87 1544.91 L2286.19 1544.91 L2286.19 1548.85 L2264.25 1548.85 L2264.25 1544.91 Q2266.91 1542.16 2271.49 1537.53 Q2276.1 1532.88 2277.28 1531.53 Q2279.52 1529.01 2280.4 1527.27 Q2281.31 1525.51 2281.31 1523.82 Q2281.31 1521.07 2279.36 1519.33 Q2277.44 1517.6 2274.34 1517.6 Q2272.14 1517.6 2269.69 1518.36 Q2267.26 1519.13 2264.48 1520.68 L2264.48 1515.95 Q2267.3 1514.82 2269.76 1514.24 Q2272.21 1513.66 2274.25 1513.66 Q2279.62 1513.66 2282.81 1516.35 Q2286.01 1519.03 2286.01 1523.52 Q2286.01 1525.65 2285.2 1527.57 Q2284.41 1529.47 2282.3 1532.07 Q2281.72 1532.74 2278.62 1535.95 Q2275.52 1539.15 2269.87 1544.91 Z\" fill=\"#000000\" fill-rule=\"nonzero\" fill-opacity=\"1\" /><path clip-path=\"url(#clip730)\" d=\"M2296.05 1514.29 L2314.41 1514.29 L2314.41 1518.22 L2300.33 1518.22 L2300.33 1526.7 Q2301.35 1526.35 2302.37 1526.19 Q2303.39 1526 2304.41 1526 Q2310.2 1526 2313.57 1529.17 Q2316.95 1532.34 2316.95 1537.76 Q2316.95 1543.34 2313.48 1546.44 Q2310.01 1549.52 2303.69 1549.52 Q2301.51 1549.52 2299.25 1549.15 Q2297 1548.78 2294.59 1548.04 L2294.59 1543.34 Q2296.68 1544.47 2298.9 1545.03 Q2301.12 1545.58 2303.6 1545.58 Q2307.6 1545.58 2309.94 1543.48 Q2312.28 1541.37 2312.28 1537.76 Q2312.28 1534.15 2309.94 1532.04 Q2307.6 1529.94 2303.6 1529.94 Q2301.72 1529.94 2299.85 1530.35 Q2298 1530.77 2296.05 1531.65 L2296.05 1514.29 Z\" fill=\"#000000\" fill-rule=\"nonzero\" fill-opacity=\"1\" /><polyline clip-path=\"url(#clip732)\" style=\"stroke:#000000; stroke-linecap:round; stroke-linejoin:round; stroke-width:2; stroke-opacity:0.1; fill:none\" points=\"156.598,1445.72 2352.76,1445.72 \"/>\n",
       "<polyline clip-path=\"url(#clip732)\" style=\"stroke:#000000; stroke-linecap:round; stroke-linejoin:round; stroke-width:2; stroke-opacity:0.1; fill:none\" points=\"156.598,1130.76 2352.76,1130.76 \"/>\n",
       "<polyline clip-path=\"url(#clip732)\" style=\"stroke:#000000; stroke-linecap:round; stroke-linejoin:round; stroke-width:2; stroke-opacity:0.1; fill:none\" points=\"156.598,815.805 2352.76,815.805 \"/>\n",
       "<polyline clip-path=\"url(#clip732)\" style=\"stroke:#000000; stroke-linecap:round; stroke-linejoin:round; stroke-width:2; stroke-opacity:0.1; fill:none\" points=\"156.598,500.85 2352.76,500.85 \"/>\n",
       "<polyline clip-path=\"url(#clip732)\" style=\"stroke:#000000; stroke-linecap:round; stroke-linejoin:round; stroke-width:2; stroke-opacity:0.1; fill:none\" points=\"156.598,185.894 2352.76,185.894 \"/>\n",
       "<polyline clip-path=\"url(#clip730)\" style=\"stroke:#000000; stroke-linecap:round; stroke-linejoin:round; stroke-width:4; stroke-opacity:1; fill:none\" points=\"156.598,1486.45 156.598,47.2441 \"/>\n",
       "<polyline clip-path=\"url(#clip730)\" style=\"stroke:#000000; stroke-linecap:round; stroke-linejoin:round; stroke-width:4; stroke-opacity:1; fill:none\" points=\"156.598,1445.72 175.496,1445.72 \"/>\n",
       "<polyline clip-path=\"url(#clip730)\" style=\"stroke:#000000; stroke-linecap:round; stroke-linejoin:round; stroke-width:4; stroke-opacity:1; fill:none\" points=\"156.598,1130.76 175.496,1130.76 \"/>\n",
       "<polyline clip-path=\"url(#clip730)\" style=\"stroke:#000000; stroke-linecap:round; stroke-linejoin:round; stroke-width:4; stroke-opacity:1; fill:none\" points=\"156.598,815.805 175.496,815.805 \"/>\n",
       "<polyline clip-path=\"url(#clip730)\" style=\"stroke:#000000; stroke-linecap:round; stroke-linejoin:round; stroke-width:4; stroke-opacity:1; fill:none\" points=\"156.598,500.85 175.496,500.85 \"/>\n",
       "<polyline clip-path=\"url(#clip730)\" style=\"stroke:#000000; stroke-linecap:round; stroke-linejoin:round; stroke-width:4; stroke-opacity:1; fill:none\" points=\"156.598,185.894 175.496,185.894 \"/>\n",
       "<path clip-path=\"url(#clip730)\" d=\"M63.4226 1431.51 Q59.8115 1431.51 57.9828 1435.08 Q56.1773 1438.62 56.1773 1445.75 Q56.1773 1452.86 57.9828 1456.42 Q59.8115 1459.96 63.4226 1459.96 Q67.0569 1459.96 68.8624 1456.42 Q70.6911 1452.86 70.6911 1445.75 Q70.6911 1438.62 68.8624 1435.08 Q67.0569 1431.51 63.4226 1431.51 M63.4226 1427.81 Q69.2328 1427.81 72.2883 1432.42 Q75.367 1437 75.367 1445.75 Q75.367 1454.48 72.2883 1459.08 Q69.2328 1463.67 63.4226 1463.67 Q57.6125 1463.67 54.5338 1459.08 Q51.4782 1454.48 51.4782 1445.75 Q51.4782 1437 54.5338 1432.42 Q57.6125 1427.81 63.4226 1427.81 Z\" fill=\"#000000\" fill-rule=\"nonzero\" fill-opacity=\"1\" /><path clip-path=\"url(#clip730)\" d=\"M83.5845 1457.12 L88.4688 1457.12 L88.4688 1463 L83.5845 1463 L83.5845 1457.12 Z\" fill=\"#000000\" fill-rule=\"nonzero\" fill-opacity=\"1\" /><path clip-path=\"url(#clip730)\" d=\"M108.654 1431.51 Q105.043 1431.51 103.214 1435.08 Q101.409 1438.62 101.409 1445.75 Q101.409 1452.86 103.214 1456.42 Q105.043 1459.96 108.654 1459.96 Q112.288 1459.96 114.094 1456.42 Q115.922 1452.86 115.922 1445.75 Q115.922 1438.62 114.094 1435.08 Q112.288 1431.51 108.654 1431.51 M108.654 1427.81 Q114.464 1427.81 117.52 1432.42 Q120.598 1437 120.598 1445.75 Q120.598 1454.48 117.52 1459.08 Q114.464 1463.67 108.654 1463.67 Q102.844 1463.67 99.765 1459.08 Q96.7095 1454.48 96.7095 1445.75 Q96.7095 1437 99.765 1432.42 Q102.844 1427.81 108.654 1427.81 Z\" fill=\"#000000\" fill-rule=\"nonzero\" fill-opacity=\"1\" /><path clip-path=\"url(#clip730)\" d=\"M65.0198 1116.56 Q61.4087 1116.56 59.58 1120.12 Q57.7745 1123.67 57.7745 1130.8 Q57.7745 1137.9 59.58 1141.47 Q61.4087 1145.01 65.0198 1145.01 Q68.6541 1145.01 70.4596 1141.47 Q72.2883 1137.9 72.2883 1130.8 Q72.2883 1123.67 70.4596 1120.12 Q68.6541 1116.56 65.0198 1116.56 M65.0198 1112.86 Q70.83 1112.86 73.8855 1117.46 Q76.9642 1122.05 76.9642 1130.8 Q76.9642 1139.52 73.8855 1144.13 Q70.83 1148.71 65.0198 1148.71 Q59.2097 1148.71 56.131 1144.13 Q53.0754 1139.52 53.0754 1130.8 Q53.0754 1122.05 56.131 1117.46 Q59.2097 1112.86 65.0198 1112.86 Z\" fill=\"#000000\" fill-rule=\"nonzero\" fill-opacity=\"1\" /><path clip-path=\"url(#clip730)\" d=\"M85.1818 1142.16 L90.066 1142.16 L90.066 1148.04 L85.1818 1148.04 L85.1818 1142.16 Z\" fill=\"#000000\" fill-rule=\"nonzero\" fill-opacity=\"1\" /><path clip-path=\"url(#clip730)\" d=\"M104.279 1144.11 L120.598 1144.11 L120.598 1148.04 L98.6539 1148.04 L98.6539 1144.11 Q101.316 1141.35 105.899 1136.72 Q110.506 1132.07 111.686 1130.73 Q113.932 1128.2 114.811 1126.47 Q115.714 1124.71 115.714 1123.02 Q115.714 1120.26 113.77 1118.53 Q111.848 1116.79 108.746 1116.79 Q106.547 1116.79 104.094 1117.55 Q101.663 1118.32 98.8854 1119.87 L98.8854 1115.15 Q101.709 1114.01 104.163 1113.43 Q106.617 1112.86 108.654 1112.86 Q114.024 1112.86 117.219 1115.54 Q120.413 1118.23 120.413 1122.72 Q120.413 1124.85 119.603 1126.77 Q118.816 1128.67 116.709 1131.26 Q116.131 1131.93 113.029 1135.15 Q109.927 1138.34 104.279 1144.11 Z\" fill=\"#000000\" fill-rule=\"nonzero\" fill-opacity=\"1\" /><path clip-path=\"url(#clip730)\" d=\"M62.9365 801.604 Q59.3254 801.604 57.4967 805.168 Q55.6912 808.71 55.6912 815.84 Q55.6912 822.946 57.4967 826.511 Q59.3254 830.053 62.9365 830.053 Q66.5707 830.053 68.3763 826.511 Q70.205 822.946 70.205 815.84 Q70.205 808.71 68.3763 805.168 Q66.5707 801.604 62.9365 801.604 M62.9365 797.9 Q68.7467 797.9 71.8022 802.506 Q74.8809 807.09 74.8809 815.84 Q74.8809 824.566 71.8022 829.173 Q68.7467 833.756 62.9365 833.756 Q57.1264 833.756 54.0477 829.173 Q50.9921 824.566 50.9921 815.84 Q50.9921 807.09 54.0477 802.506 Q57.1264 797.9 62.9365 797.9 Z\" fill=\"#000000\" fill-rule=\"nonzero\" fill-opacity=\"1\" /><path clip-path=\"url(#clip730)\" d=\"M83.0984 827.205 L87.9827 827.205 L87.9827 833.085 L83.0984 833.085 L83.0984 827.205 Z\" fill=\"#000000\" fill-rule=\"nonzero\" fill-opacity=\"1\" /><path clip-path=\"url(#clip730)\" d=\"M111.015 802.599 L99.2095 821.048 L111.015 821.048 L111.015 802.599 M109.788 798.525 L115.668 798.525 L115.668 821.048 L120.598 821.048 L120.598 824.937 L115.668 824.937 L115.668 833.085 L111.015 833.085 L111.015 824.937 L95.4132 824.937 L95.4132 820.423 L109.788 798.525 Z\" fill=\"#000000\" fill-rule=\"nonzero\" fill-opacity=\"1\" /><path clip-path=\"url(#clip730)\" d=\"M63.2606 486.648 Q59.6495 486.648 57.8208 490.213 Q56.0152 493.755 56.0152 500.884 Q56.0152 507.991 57.8208 511.556 Q59.6495 515.097 63.2606 515.097 Q66.8948 515.097 68.7004 511.556 Q70.5291 507.991 70.5291 500.884 Q70.5291 493.755 68.7004 490.213 Q66.8948 486.648 63.2606 486.648 M63.2606 482.945 Q69.0707 482.945 72.1263 487.551 Q75.205 492.134 75.205 500.884 Q75.205 509.611 72.1263 514.218 Q69.0707 518.801 63.2606 518.801 Q57.4504 518.801 54.3717 514.218 Q51.3162 509.611 51.3162 500.884 Q51.3162 492.134 54.3717 487.551 Q57.4504 482.945 63.2606 482.945 Z\" fill=\"#000000\" fill-rule=\"nonzero\" fill-opacity=\"1\" /><path clip-path=\"url(#clip730)\" d=\"M83.4225 512.25 L88.3067 512.25 L88.3067 518.13 L83.4225 518.13 L83.4225 512.25 Z\" fill=\"#000000\" fill-rule=\"nonzero\" fill-opacity=\"1\" /><path clip-path=\"url(#clip730)\" d=\"M109.071 498.986 Q105.922 498.986 104.071 501.139 Q102.242 503.292 102.242 507.042 Q102.242 510.768 104.071 512.944 Q105.922 515.097 109.071 515.097 Q112.219 515.097 114.047 512.944 Q115.899 510.768 115.899 507.042 Q115.899 503.292 114.047 501.139 Q112.219 498.986 109.071 498.986 M118.353 484.333 L118.353 488.593 Q116.594 487.759 114.788 487.32 Q113.006 486.88 111.246 486.88 Q106.617 486.88 104.163 490.005 Q101.733 493.13 101.385 499.449 Q102.751 497.435 104.811 496.37 Q106.871 495.282 109.348 495.282 Q114.557 495.282 117.566 498.454 Q120.598 501.602 120.598 507.042 Q120.598 512.366 117.45 515.583 Q114.302 518.801 109.071 518.801 Q103.075 518.801 99.9039 514.218 Q96.7326 509.611 96.7326 500.884 Q96.7326 492.69 100.621 487.829 Q104.51 482.945 111.061 482.945 Q112.82 482.945 114.603 483.292 Q116.408 483.639 118.353 484.333 Z\" fill=\"#000000\" fill-rule=\"nonzero\" fill-opacity=\"1\" /><path clip-path=\"url(#clip730)\" d=\"M63.5152 171.693 Q59.9041 171.693 58.0754 175.258 Q56.2699 178.799 56.2699 185.929 Q56.2699 193.035 58.0754 196.6 Q59.9041 200.142 63.5152 200.142 Q67.1494 200.142 68.955 196.6 Q70.7837 193.035 70.7837 185.929 Q70.7837 178.799 68.955 175.258 Q67.1494 171.693 63.5152 171.693 M63.5152 167.989 Q69.3254 167.989 72.3809 172.596 Q75.4596 177.179 75.4596 185.929 Q75.4596 194.656 72.3809 199.262 Q69.3254 203.845 63.5152 203.845 Q57.7051 203.845 54.6264 199.262 Q51.5708 194.656 51.5708 185.929 Q51.5708 177.179 54.6264 172.596 Q57.7051 167.989 63.5152 167.989 Z\" fill=\"#000000\" fill-rule=\"nonzero\" fill-opacity=\"1\" /><path clip-path=\"url(#clip730)\" d=\"M83.6771 197.295 L88.5614 197.295 L88.5614 203.174 L83.6771 203.174 L83.6771 197.295 Z\" fill=\"#000000\" fill-rule=\"nonzero\" fill-opacity=\"1\" /><path clip-path=\"url(#clip730)\" d=\"M108.746 186.762 Q105.413 186.762 103.492 188.545 Q101.594 190.327 101.594 193.452 Q101.594 196.577 103.492 198.359 Q105.413 200.142 108.746 200.142 Q112.08 200.142 114.001 198.359 Q115.922 196.554 115.922 193.452 Q115.922 190.327 114.001 188.545 Q112.103 186.762 108.746 186.762 M104.071 184.771 Q101.061 184.031 99.3715 181.971 Q97.7048 179.91 97.7048 176.947 Q97.7048 172.804 100.645 170.397 Q103.608 167.989 108.746 167.989 Q113.908 167.989 116.848 170.397 Q119.788 172.804 119.788 176.947 Q119.788 179.91 118.098 181.971 Q116.432 184.031 113.445 184.771 Q116.825 185.559 118.7 187.85 Q120.598 190.142 120.598 193.452 Q120.598 198.475 117.52 201.16 Q114.464 203.845 108.746 203.845 Q103.029 203.845 99.9502 201.16 Q96.8947 198.475 96.8947 193.452 Q96.8947 190.142 98.7928 187.85 Q100.691 185.559 104.071 184.771 M102.358 177.387 Q102.358 180.072 104.024 181.577 Q105.714 183.082 108.746 183.082 Q111.756 183.082 113.445 181.577 Q115.158 180.072 115.158 177.387 Q115.158 174.702 113.445 173.197 Q111.756 171.693 108.746 171.693 Q105.714 171.693 104.024 173.197 Q102.358 174.702 102.358 177.387 Z\" fill=\"#000000\" fill-rule=\"nonzero\" fill-opacity=\"1\" /><polyline clip-path=\"url(#clip732)\" style=\"stroke:#009af9; stroke-linecap:round; stroke-linejoin:round; stroke-width:4; stroke-opacity:1; fill:none\" points=\"218.754,87.9763 305.081,1261.96 391.408,1420.85 477.734,1442.35 564.061,1445.24 650.388,1441.76 736.715,1445.18 823.042,1445.64 909.369,1445.71 995.696,1445.71 1082.02,1445.72 1168.35,1445.72 1254.68,1445.72 1341,1445.72 1427.33,1445.72 1513.66,1445.72 1599.98,1445.72 1686.31,1445.72 1772.64,1445.72 1858.97,1445.72 1945.29,1445.72 2031.62,1445.72 2117.95,1445.72 2204.27,1445.72 2290.6,1445.72 \"/>\n",
       "<path clip-path=\"url(#clip730)\" d=\"M2007.5 198.898 L2279.55 198.898 L2279.55 95.2176 L2007.5 95.2176  Z\" fill=\"#ffffff\" fill-rule=\"evenodd\" fill-opacity=\"1\"/>\n",
       "<polyline clip-path=\"url(#clip730)\" style=\"stroke:#000000; stroke-linecap:round; stroke-linejoin:round; stroke-width:4; stroke-opacity:1; fill:none\" points=\"2007.5,198.898 2279.55,198.898 2279.55,95.2176 2007.5,95.2176 2007.5,198.898 \"/>\n",
       "<polyline clip-path=\"url(#clip730)\" style=\"stroke:#009af9; stroke-linecap:round; stroke-linejoin:round; stroke-width:4; stroke-opacity:1; fill:none\" points=\"2031.91,147.058 2178.32,147.058 \"/>\n",
       "<path clip-path=\"url(#clip730)\" d=\"M2216.56 166.745 Q2214.76 171.375 2213.04 172.787 Q2211.33 174.199 2208.46 174.199 L2205.06 174.199 L2205.06 170.634 L2207.56 170.634 Q2209.32 170.634 2210.29 169.8 Q2211.26 168.967 2212.44 165.865 L2213.2 163.921 L2202.72 138.412 L2207.23 138.412 L2215.33 158.689 L2223.44 138.412 L2227.95 138.412 L2216.56 166.745 Z\" fill=\"#000000\" fill-rule=\"nonzero\" fill-opacity=\"1\" /><path clip-path=\"url(#clip730)\" d=\"M2235.24 160.402 L2242.88 160.402 L2242.88 134.037 L2234.57 135.703 L2234.57 131.444 L2242.83 129.778 L2247.51 129.778 L2247.51 160.402 L2255.15 160.402 L2255.15 164.338 L2235.24 164.338 L2235.24 160.402 Z\" fill=\"#000000\" fill-rule=\"nonzero\" fill-opacity=\"1\" /></svg>\n"
      ],
      "text/html": [
       "<?xml version=\"1.0\" encoding=\"utf-8\"?>\n",
       "<svg xmlns=\"http://www.w3.org/2000/svg\" xmlns:xlink=\"http://www.w3.org/1999/xlink\" width=\"600\" height=\"400\" viewBox=\"0 0 2400 1600\">\n",
       "<defs>\n",
       "  <clipPath id=\"clip780\">\n",
       "    <rect x=\"0\" y=\"0\" width=\"2400\" height=\"1600\"/>\n",
       "  </clipPath>\n",
       "</defs>\n",
       "<path clip-path=\"url(#clip780)\" d=\"M0 1600 L2400 1600 L2400 0 L0 0  Z\" fill=\"#ffffff\" fill-rule=\"evenodd\" fill-opacity=\"1\"/>\n",
       "<defs>\n",
       "  <clipPath id=\"clip781\">\n",
       "    <rect x=\"480\" y=\"0\" width=\"1681\" height=\"1600\"/>\n",
       "  </clipPath>\n",
       "</defs>\n",
       "<path clip-path=\"url(#clip780)\" d=\"M156.598 1486.45 L2352.76 1486.45 L2352.76 47.2441 L156.598 47.2441  Z\" fill=\"#ffffff\" fill-rule=\"evenodd\" fill-opacity=\"1\"/>\n",
       "<defs>\n",
       "  <clipPath id=\"clip782\">\n",
       "    <rect x=\"156\" y=\"47\" width=\"2197\" height=\"1440\"/>\n",
       "  </clipPath>\n",
       "</defs>\n",
       "<polyline clip-path=\"url(#clip782)\" style=\"stroke:#000000; stroke-linecap:round; stroke-linejoin:round; stroke-width:2; stroke-opacity:0.1; fill:none\" points=\"564.061,1486.45 564.061,47.2441 \"/>\n",
       "<polyline clip-path=\"url(#clip782)\" style=\"stroke:#000000; stroke-linecap:round; stroke-linejoin:round; stroke-width:2; stroke-opacity:0.1; fill:none\" points=\"995.696,1486.45 995.696,47.2441 \"/>\n",
       "<polyline clip-path=\"url(#clip782)\" style=\"stroke:#000000; stroke-linecap:round; stroke-linejoin:round; stroke-width:2; stroke-opacity:0.1; fill:none\" points=\"1427.33,1486.45 1427.33,47.2441 \"/>\n",
       "<polyline clip-path=\"url(#clip782)\" style=\"stroke:#000000; stroke-linecap:round; stroke-linejoin:round; stroke-width:2; stroke-opacity:0.1; fill:none\" points=\"1858.97,1486.45 1858.97,47.2441 \"/>\n",
       "<polyline clip-path=\"url(#clip782)\" style=\"stroke:#000000; stroke-linecap:round; stroke-linejoin:round; stroke-width:2; stroke-opacity:0.1; fill:none\" points=\"2290.6,1486.45 2290.6,47.2441 \"/>\n",
       "<polyline clip-path=\"url(#clip780)\" style=\"stroke:#000000; stroke-linecap:round; stroke-linejoin:round; stroke-width:4; stroke-opacity:1; fill:none\" points=\"156.598,1486.45 2352.76,1486.45 \"/>\n",
       "<polyline clip-path=\"url(#clip780)\" style=\"stroke:#000000; stroke-linecap:round; stroke-linejoin:round; stroke-width:4; stroke-opacity:1; fill:none\" points=\"564.061,1486.45 564.061,1467.55 \"/>\n",
       "<polyline clip-path=\"url(#clip780)\" style=\"stroke:#000000; stroke-linecap:round; stroke-linejoin:round; stroke-width:4; stroke-opacity:1; fill:none\" points=\"995.696,1486.45 995.696,1467.55 \"/>\n",
       "<polyline clip-path=\"url(#clip780)\" style=\"stroke:#000000; stroke-linecap:round; stroke-linejoin:round; stroke-width:4; stroke-opacity:1; fill:none\" points=\"1427.33,1486.45 1427.33,1467.55 \"/>\n",
       "<polyline clip-path=\"url(#clip780)\" style=\"stroke:#000000; stroke-linecap:round; stroke-linejoin:round; stroke-width:4; stroke-opacity:1; fill:none\" points=\"1858.97,1486.45 1858.97,1467.55 \"/>\n",
       "<polyline clip-path=\"url(#clip780)\" style=\"stroke:#000000; stroke-linecap:round; stroke-linejoin:round; stroke-width:4; stroke-opacity:1; fill:none\" points=\"2290.6,1486.45 2290.6,1467.55 \"/>\n",
       "<path clip-path=\"url(#clip780)\" d=\"M554.339 1514.29 L572.696 1514.29 L572.696 1518.22 L558.622 1518.22 L558.622 1526.7 Q559.64 1526.35 560.659 1526.19 Q561.677 1526 562.696 1526 Q568.483 1526 571.862 1529.17 Q575.242 1532.34 575.242 1537.76 Q575.242 1543.34 571.77 1546.44 Q568.298 1549.52 561.978 1549.52 Q559.802 1549.52 557.534 1549.15 Q555.288 1548.78 552.881 1548.04 L552.881 1543.34 Q554.964 1544.47 557.186 1545.03 Q559.409 1545.58 561.886 1545.58 Q565.89 1545.58 568.228 1543.48 Q570.566 1541.37 570.566 1537.76 Q570.566 1534.15 568.228 1532.04 Q565.89 1529.94 561.886 1529.94 Q560.011 1529.94 558.136 1530.35 Q556.284 1530.77 554.339 1531.65 L554.339 1514.29 Z\" fill=\"#000000\" fill-rule=\"nonzero\" fill-opacity=\"1\" /><path clip-path=\"url(#clip780)\" d=\"M970.384 1544.91 L978.023 1544.91 L978.023 1518.55 L969.713 1520.21 L969.713 1515.95 L977.976 1514.29 L982.652 1514.29 L982.652 1544.91 L990.291 1544.91 L990.291 1548.85 L970.384 1548.85 L970.384 1544.91 Z\" fill=\"#000000\" fill-rule=\"nonzero\" fill-opacity=\"1\" /><path clip-path=\"url(#clip780)\" d=\"M1009.74 1517.37 Q1006.12 1517.37 1004.3 1520.93 Q1002.49 1524.47 1002.49 1531.6 Q1002.49 1538.71 1004.3 1542.27 Q1006.12 1545.82 1009.74 1545.82 Q1013.37 1545.82 1015.18 1542.27 Q1017 1538.71 1017 1531.6 Q1017 1524.47 1015.18 1520.93 Q1013.37 1517.37 1009.74 1517.37 M1009.74 1513.66 Q1015.55 1513.66 1018.6 1518.27 Q1021.68 1522.85 1021.68 1531.6 Q1021.68 1540.33 1018.6 1544.94 Q1015.55 1549.52 1009.74 1549.52 Q1003.93 1549.52 1000.85 1544.94 Q997.791 1540.33 997.791 1531.6 Q997.791 1522.85 1000.85 1518.27 Q1003.93 1513.66 1009.74 1513.66 Z\" fill=\"#000000\" fill-rule=\"nonzero\" fill-opacity=\"1\" /><path clip-path=\"url(#clip780)\" d=\"M1402.52 1544.91 L1410.16 1544.91 L1410.16 1518.55 L1401.85 1520.21 L1401.85 1515.95 L1410.11 1514.29 L1414.78 1514.29 L1414.78 1544.91 L1422.42 1544.91 L1422.42 1548.85 L1402.52 1548.85 L1402.52 1544.91 Z\" fill=\"#000000\" fill-rule=\"nonzero\" fill-opacity=\"1\" /><path clip-path=\"url(#clip780)\" d=\"M1431.91 1514.29 L1450.27 1514.29 L1450.27 1518.22 L1436.2 1518.22 L1436.2 1526.7 Q1437.22 1526.35 1438.23 1526.19 Q1439.25 1526 1440.27 1526 Q1446.06 1526 1449.44 1529.17 Q1452.82 1532.34 1452.82 1537.76 Q1452.82 1543.34 1449.34 1546.44 Q1445.87 1549.52 1439.55 1549.52 Q1437.38 1549.52 1435.11 1549.15 Q1432.86 1548.78 1430.46 1548.04 L1430.46 1543.34 Q1432.54 1544.47 1434.76 1545.03 Q1436.98 1545.58 1439.46 1545.58 Q1443.47 1545.58 1445.8 1543.48 Q1448.14 1541.37 1448.14 1537.76 Q1448.14 1534.15 1445.8 1532.04 Q1443.47 1529.94 1439.46 1529.94 Q1437.59 1529.94 1435.71 1530.35 Q1433.86 1530.77 1431.91 1531.65 L1431.91 1514.29 Z\" fill=\"#000000\" fill-rule=\"nonzero\" fill-opacity=\"1\" /><path clip-path=\"url(#clip780)\" d=\"M1837.74 1544.91 L1854.06 1544.91 L1854.06 1548.85 L1832.11 1548.85 L1832.11 1544.91 Q1834.78 1542.16 1839.36 1537.53 Q1843.97 1532.88 1845.15 1531.53 Q1847.39 1529.01 1848.27 1527.27 Q1849.17 1525.51 1849.17 1523.82 Q1849.17 1521.07 1847.23 1519.33 Q1845.31 1517.6 1842.21 1517.6 Q1840.01 1517.6 1837.55 1518.36 Q1835.12 1519.13 1832.35 1520.68 L1832.35 1515.95 Q1835.17 1514.82 1837.62 1514.24 Q1840.08 1513.66 1842.11 1513.66 Q1847.48 1513.66 1850.68 1516.35 Q1853.87 1519.03 1853.87 1523.52 Q1853.87 1525.65 1853.06 1527.57 Q1852.28 1529.47 1850.17 1532.07 Q1849.59 1532.74 1846.49 1535.95 Q1843.39 1539.15 1837.74 1544.91 Z\" fill=\"#000000\" fill-rule=\"nonzero\" fill-opacity=\"1\" /><path clip-path=\"url(#clip780)\" d=\"M1873.87 1517.37 Q1870.26 1517.37 1868.43 1520.93 Q1866.63 1524.47 1866.63 1531.6 Q1866.63 1538.71 1868.43 1542.27 Q1870.26 1545.82 1873.87 1545.82 Q1877.51 1545.82 1879.31 1542.27 Q1881.14 1538.71 1881.14 1531.6 Q1881.14 1524.47 1879.31 1520.93 Q1877.51 1517.37 1873.87 1517.37 M1873.87 1513.66 Q1879.68 1513.66 1882.74 1518.27 Q1885.82 1522.85 1885.82 1531.6 Q1885.82 1540.33 1882.74 1544.94 Q1879.68 1549.52 1873.87 1549.52 Q1868.06 1549.52 1864.98 1544.94 Q1861.93 1540.33 1861.93 1531.6 Q1861.93 1522.85 1864.98 1518.27 Q1868.06 1513.66 1873.87 1513.66 Z\" fill=\"#000000\" fill-rule=\"nonzero\" fill-opacity=\"1\" /><path clip-path=\"url(#clip780)\" d=\"M2269.87 1544.91 L2286.19 1544.91 L2286.19 1548.85 L2264.25 1548.85 L2264.25 1544.91 Q2266.91 1542.16 2271.49 1537.53 Q2276.1 1532.88 2277.28 1531.53 Q2279.52 1529.01 2280.4 1527.27 Q2281.31 1525.51 2281.31 1523.82 Q2281.31 1521.07 2279.36 1519.33 Q2277.44 1517.6 2274.34 1517.6 Q2272.14 1517.6 2269.69 1518.36 Q2267.26 1519.13 2264.48 1520.68 L2264.48 1515.95 Q2267.3 1514.82 2269.76 1514.24 Q2272.21 1513.66 2274.25 1513.66 Q2279.62 1513.66 2282.81 1516.35 Q2286.01 1519.03 2286.01 1523.52 Q2286.01 1525.65 2285.2 1527.57 Q2284.41 1529.47 2282.3 1532.07 Q2281.72 1532.74 2278.62 1535.95 Q2275.52 1539.15 2269.87 1544.91 Z\" fill=\"#000000\" fill-rule=\"nonzero\" fill-opacity=\"1\" /><path clip-path=\"url(#clip780)\" d=\"M2296.05 1514.29 L2314.41 1514.29 L2314.41 1518.22 L2300.33 1518.22 L2300.33 1526.7 Q2301.35 1526.35 2302.37 1526.19 Q2303.39 1526 2304.41 1526 Q2310.2 1526 2313.57 1529.17 Q2316.95 1532.34 2316.95 1537.76 Q2316.95 1543.34 2313.48 1546.44 Q2310.01 1549.52 2303.69 1549.52 Q2301.51 1549.52 2299.25 1549.15 Q2297 1548.78 2294.59 1548.04 L2294.59 1543.34 Q2296.68 1544.47 2298.9 1545.03 Q2301.12 1545.58 2303.6 1545.58 Q2307.6 1545.58 2309.94 1543.48 Q2312.28 1541.37 2312.28 1537.76 Q2312.28 1534.15 2309.94 1532.04 Q2307.6 1529.94 2303.6 1529.94 Q2301.72 1529.94 2299.85 1530.35 Q2298 1530.77 2296.05 1531.65 L2296.05 1514.29 Z\" fill=\"#000000\" fill-rule=\"nonzero\" fill-opacity=\"1\" /><polyline clip-path=\"url(#clip782)\" style=\"stroke:#000000; stroke-linecap:round; stroke-linejoin:round; stroke-width:2; stroke-opacity:0.1; fill:none\" points=\"156.598,1445.72 2352.76,1445.72 \"/>\n",
       "<polyline clip-path=\"url(#clip782)\" style=\"stroke:#000000; stroke-linecap:round; stroke-linejoin:round; stroke-width:2; stroke-opacity:0.1; fill:none\" points=\"156.598,1130.76 2352.76,1130.76 \"/>\n",
       "<polyline clip-path=\"url(#clip782)\" style=\"stroke:#000000; stroke-linecap:round; stroke-linejoin:round; stroke-width:2; stroke-opacity:0.1; fill:none\" points=\"156.598,815.805 2352.76,815.805 \"/>\n",
       "<polyline clip-path=\"url(#clip782)\" style=\"stroke:#000000; stroke-linecap:round; stroke-linejoin:round; stroke-width:2; stroke-opacity:0.1; fill:none\" points=\"156.598,500.85 2352.76,500.85 \"/>\n",
       "<polyline clip-path=\"url(#clip782)\" style=\"stroke:#000000; stroke-linecap:round; stroke-linejoin:round; stroke-width:2; stroke-opacity:0.1; fill:none\" points=\"156.598,185.894 2352.76,185.894 \"/>\n",
       "<polyline clip-path=\"url(#clip780)\" style=\"stroke:#000000; stroke-linecap:round; stroke-linejoin:round; stroke-width:4; stroke-opacity:1; fill:none\" points=\"156.598,1486.45 156.598,47.2441 \"/>\n",
       "<polyline clip-path=\"url(#clip780)\" style=\"stroke:#000000; stroke-linecap:round; stroke-linejoin:round; stroke-width:4; stroke-opacity:1; fill:none\" points=\"156.598,1445.72 175.496,1445.72 \"/>\n",
       "<polyline clip-path=\"url(#clip780)\" style=\"stroke:#000000; stroke-linecap:round; stroke-linejoin:round; stroke-width:4; stroke-opacity:1; fill:none\" points=\"156.598,1130.76 175.496,1130.76 \"/>\n",
       "<polyline clip-path=\"url(#clip780)\" style=\"stroke:#000000; stroke-linecap:round; stroke-linejoin:round; stroke-width:4; stroke-opacity:1; fill:none\" points=\"156.598,815.805 175.496,815.805 \"/>\n",
       "<polyline clip-path=\"url(#clip780)\" style=\"stroke:#000000; stroke-linecap:round; stroke-linejoin:round; stroke-width:4; stroke-opacity:1; fill:none\" points=\"156.598,500.85 175.496,500.85 \"/>\n",
       "<polyline clip-path=\"url(#clip780)\" style=\"stroke:#000000; stroke-linecap:round; stroke-linejoin:round; stroke-width:4; stroke-opacity:1; fill:none\" points=\"156.598,185.894 175.496,185.894 \"/>\n",
       "<path clip-path=\"url(#clip780)\" d=\"M63.4226 1431.51 Q59.8115 1431.51 57.9828 1435.08 Q56.1773 1438.62 56.1773 1445.75 Q56.1773 1452.86 57.9828 1456.42 Q59.8115 1459.96 63.4226 1459.96 Q67.0569 1459.96 68.8624 1456.42 Q70.6911 1452.86 70.6911 1445.75 Q70.6911 1438.62 68.8624 1435.08 Q67.0569 1431.51 63.4226 1431.51 M63.4226 1427.81 Q69.2328 1427.81 72.2883 1432.42 Q75.367 1437 75.367 1445.75 Q75.367 1454.48 72.2883 1459.08 Q69.2328 1463.67 63.4226 1463.67 Q57.6125 1463.67 54.5338 1459.08 Q51.4782 1454.48 51.4782 1445.75 Q51.4782 1437 54.5338 1432.42 Q57.6125 1427.81 63.4226 1427.81 Z\" fill=\"#000000\" fill-rule=\"nonzero\" fill-opacity=\"1\" /><path clip-path=\"url(#clip780)\" d=\"M83.5845 1457.12 L88.4688 1457.12 L88.4688 1463 L83.5845 1463 L83.5845 1457.12 Z\" fill=\"#000000\" fill-rule=\"nonzero\" fill-opacity=\"1\" /><path clip-path=\"url(#clip780)\" d=\"M108.654 1431.51 Q105.043 1431.51 103.214 1435.08 Q101.409 1438.62 101.409 1445.75 Q101.409 1452.86 103.214 1456.42 Q105.043 1459.96 108.654 1459.96 Q112.288 1459.96 114.094 1456.42 Q115.922 1452.86 115.922 1445.75 Q115.922 1438.62 114.094 1435.08 Q112.288 1431.51 108.654 1431.51 M108.654 1427.81 Q114.464 1427.81 117.52 1432.42 Q120.598 1437 120.598 1445.75 Q120.598 1454.48 117.52 1459.08 Q114.464 1463.67 108.654 1463.67 Q102.844 1463.67 99.765 1459.08 Q96.7095 1454.48 96.7095 1445.75 Q96.7095 1437 99.765 1432.42 Q102.844 1427.81 108.654 1427.81 Z\" fill=\"#000000\" fill-rule=\"nonzero\" fill-opacity=\"1\" /><path clip-path=\"url(#clip780)\" d=\"M65.0198 1116.56 Q61.4087 1116.56 59.58 1120.12 Q57.7745 1123.67 57.7745 1130.8 Q57.7745 1137.9 59.58 1141.47 Q61.4087 1145.01 65.0198 1145.01 Q68.6541 1145.01 70.4596 1141.47 Q72.2883 1137.9 72.2883 1130.8 Q72.2883 1123.67 70.4596 1120.12 Q68.6541 1116.56 65.0198 1116.56 M65.0198 1112.86 Q70.83 1112.86 73.8855 1117.46 Q76.9642 1122.05 76.9642 1130.8 Q76.9642 1139.52 73.8855 1144.13 Q70.83 1148.71 65.0198 1148.71 Q59.2097 1148.71 56.131 1144.13 Q53.0754 1139.52 53.0754 1130.8 Q53.0754 1122.05 56.131 1117.46 Q59.2097 1112.86 65.0198 1112.86 Z\" fill=\"#000000\" fill-rule=\"nonzero\" fill-opacity=\"1\" /><path clip-path=\"url(#clip780)\" d=\"M85.1818 1142.16 L90.066 1142.16 L90.066 1148.04 L85.1818 1148.04 L85.1818 1142.16 Z\" fill=\"#000000\" fill-rule=\"nonzero\" fill-opacity=\"1\" /><path clip-path=\"url(#clip780)\" d=\"M104.279 1144.11 L120.598 1144.11 L120.598 1148.04 L98.6539 1148.04 L98.6539 1144.11 Q101.316 1141.35 105.899 1136.72 Q110.506 1132.07 111.686 1130.73 Q113.932 1128.2 114.811 1126.47 Q115.714 1124.71 115.714 1123.02 Q115.714 1120.26 113.77 1118.53 Q111.848 1116.79 108.746 1116.79 Q106.547 1116.79 104.094 1117.55 Q101.663 1118.32 98.8854 1119.87 L98.8854 1115.15 Q101.709 1114.01 104.163 1113.43 Q106.617 1112.86 108.654 1112.86 Q114.024 1112.86 117.219 1115.54 Q120.413 1118.23 120.413 1122.72 Q120.413 1124.85 119.603 1126.77 Q118.816 1128.67 116.709 1131.26 Q116.131 1131.93 113.029 1135.15 Q109.927 1138.34 104.279 1144.11 Z\" fill=\"#000000\" fill-rule=\"nonzero\" fill-opacity=\"1\" /><path clip-path=\"url(#clip780)\" d=\"M62.9365 801.604 Q59.3254 801.604 57.4967 805.168 Q55.6912 808.71 55.6912 815.84 Q55.6912 822.946 57.4967 826.511 Q59.3254 830.053 62.9365 830.053 Q66.5707 830.053 68.3763 826.511 Q70.205 822.946 70.205 815.84 Q70.205 808.71 68.3763 805.168 Q66.5707 801.604 62.9365 801.604 M62.9365 797.9 Q68.7467 797.9 71.8022 802.506 Q74.8809 807.09 74.8809 815.84 Q74.8809 824.566 71.8022 829.173 Q68.7467 833.756 62.9365 833.756 Q57.1264 833.756 54.0477 829.173 Q50.9921 824.566 50.9921 815.84 Q50.9921 807.09 54.0477 802.506 Q57.1264 797.9 62.9365 797.9 Z\" fill=\"#000000\" fill-rule=\"nonzero\" fill-opacity=\"1\" /><path clip-path=\"url(#clip780)\" d=\"M83.0984 827.205 L87.9827 827.205 L87.9827 833.085 L83.0984 833.085 L83.0984 827.205 Z\" fill=\"#000000\" fill-rule=\"nonzero\" fill-opacity=\"1\" /><path clip-path=\"url(#clip780)\" d=\"M111.015 802.599 L99.2095 821.048 L111.015 821.048 L111.015 802.599 M109.788 798.525 L115.668 798.525 L115.668 821.048 L120.598 821.048 L120.598 824.937 L115.668 824.937 L115.668 833.085 L111.015 833.085 L111.015 824.937 L95.4132 824.937 L95.4132 820.423 L109.788 798.525 Z\" fill=\"#000000\" fill-rule=\"nonzero\" fill-opacity=\"1\" /><path clip-path=\"url(#clip780)\" d=\"M63.2606 486.648 Q59.6495 486.648 57.8208 490.213 Q56.0152 493.755 56.0152 500.884 Q56.0152 507.991 57.8208 511.556 Q59.6495 515.097 63.2606 515.097 Q66.8948 515.097 68.7004 511.556 Q70.5291 507.991 70.5291 500.884 Q70.5291 493.755 68.7004 490.213 Q66.8948 486.648 63.2606 486.648 M63.2606 482.945 Q69.0707 482.945 72.1263 487.551 Q75.205 492.134 75.205 500.884 Q75.205 509.611 72.1263 514.218 Q69.0707 518.801 63.2606 518.801 Q57.4504 518.801 54.3717 514.218 Q51.3162 509.611 51.3162 500.884 Q51.3162 492.134 54.3717 487.551 Q57.4504 482.945 63.2606 482.945 Z\" fill=\"#000000\" fill-rule=\"nonzero\" fill-opacity=\"1\" /><path clip-path=\"url(#clip780)\" d=\"M83.4225 512.25 L88.3067 512.25 L88.3067 518.13 L83.4225 518.13 L83.4225 512.25 Z\" fill=\"#000000\" fill-rule=\"nonzero\" fill-opacity=\"1\" /><path clip-path=\"url(#clip780)\" d=\"M109.071 498.986 Q105.922 498.986 104.071 501.139 Q102.242 503.292 102.242 507.042 Q102.242 510.768 104.071 512.944 Q105.922 515.097 109.071 515.097 Q112.219 515.097 114.047 512.944 Q115.899 510.768 115.899 507.042 Q115.899 503.292 114.047 501.139 Q112.219 498.986 109.071 498.986 M118.353 484.333 L118.353 488.593 Q116.594 487.759 114.788 487.32 Q113.006 486.88 111.246 486.88 Q106.617 486.88 104.163 490.005 Q101.733 493.13 101.385 499.449 Q102.751 497.435 104.811 496.37 Q106.871 495.282 109.348 495.282 Q114.557 495.282 117.566 498.454 Q120.598 501.602 120.598 507.042 Q120.598 512.366 117.45 515.583 Q114.302 518.801 109.071 518.801 Q103.075 518.801 99.9039 514.218 Q96.7326 509.611 96.7326 500.884 Q96.7326 492.69 100.621 487.829 Q104.51 482.945 111.061 482.945 Q112.82 482.945 114.603 483.292 Q116.408 483.639 118.353 484.333 Z\" fill=\"#000000\" fill-rule=\"nonzero\" fill-opacity=\"1\" /><path clip-path=\"url(#clip780)\" d=\"M63.5152 171.693 Q59.9041 171.693 58.0754 175.258 Q56.2699 178.799 56.2699 185.929 Q56.2699 193.035 58.0754 196.6 Q59.9041 200.142 63.5152 200.142 Q67.1494 200.142 68.955 196.6 Q70.7837 193.035 70.7837 185.929 Q70.7837 178.799 68.955 175.258 Q67.1494 171.693 63.5152 171.693 M63.5152 167.989 Q69.3254 167.989 72.3809 172.596 Q75.4596 177.179 75.4596 185.929 Q75.4596 194.656 72.3809 199.262 Q69.3254 203.845 63.5152 203.845 Q57.7051 203.845 54.6264 199.262 Q51.5708 194.656 51.5708 185.929 Q51.5708 177.179 54.6264 172.596 Q57.7051 167.989 63.5152 167.989 Z\" fill=\"#000000\" fill-rule=\"nonzero\" fill-opacity=\"1\" /><path clip-path=\"url(#clip780)\" d=\"M83.6771 197.295 L88.5614 197.295 L88.5614 203.174 L83.6771 203.174 L83.6771 197.295 Z\" fill=\"#000000\" fill-rule=\"nonzero\" fill-opacity=\"1\" /><path clip-path=\"url(#clip780)\" d=\"M108.746 186.762 Q105.413 186.762 103.492 188.545 Q101.594 190.327 101.594 193.452 Q101.594 196.577 103.492 198.359 Q105.413 200.142 108.746 200.142 Q112.08 200.142 114.001 198.359 Q115.922 196.554 115.922 193.452 Q115.922 190.327 114.001 188.545 Q112.103 186.762 108.746 186.762 M104.071 184.771 Q101.061 184.031 99.3715 181.971 Q97.7048 179.91 97.7048 176.947 Q97.7048 172.804 100.645 170.397 Q103.608 167.989 108.746 167.989 Q113.908 167.989 116.848 170.397 Q119.788 172.804 119.788 176.947 Q119.788 179.91 118.098 181.971 Q116.432 184.031 113.445 184.771 Q116.825 185.559 118.7 187.85 Q120.598 190.142 120.598 193.452 Q120.598 198.475 117.52 201.16 Q114.464 203.845 108.746 203.845 Q103.029 203.845 99.9502 201.16 Q96.8947 198.475 96.8947 193.452 Q96.8947 190.142 98.7928 187.85 Q100.691 185.559 104.071 184.771 M102.358 177.387 Q102.358 180.072 104.024 181.577 Q105.714 183.082 108.746 183.082 Q111.756 183.082 113.445 181.577 Q115.158 180.072 115.158 177.387 Q115.158 174.702 113.445 173.197 Q111.756 171.693 108.746 171.693 Q105.714 171.693 104.024 173.197 Q102.358 174.702 102.358 177.387 Z\" fill=\"#000000\" fill-rule=\"nonzero\" fill-opacity=\"1\" /><polyline clip-path=\"url(#clip782)\" style=\"stroke:#009af9; stroke-linecap:round; stroke-linejoin:round; stroke-width:4; stroke-opacity:1; fill:none\" points=\"218.754,87.9763 305.081,1261.96 391.408,1420.85 477.734,1442.35 564.061,1445.24 650.388,1441.76 736.715,1445.18 823.042,1445.64 909.369,1445.71 995.696,1445.71 1082.02,1445.72 1168.35,1445.72 1254.68,1445.72 1341,1445.72 1427.33,1445.72 1513.66,1445.72 1599.98,1445.72 1686.31,1445.72 1772.64,1445.72 1858.97,1445.72 1945.29,1445.72 2031.62,1445.72 2117.95,1445.72 2204.27,1445.72 2290.6,1445.72 \"/>\n",
       "<path clip-path=\"url(#clip780)\" d=\"M2007.5 198.898 L2279.55 198.898 L2279.55 95.2176 L2007.5 95.2176  Z\" fill=\"#ffffff\" fill-rule=\"evenodd\" fill-opacity=\"1\"/>\n",
       "<polyline clip-path=\"url(#clip780)\" style=\"stroke:#000000; stroke-linecap:round; stroke-linejoin:round; stroke-width:4; stroke-opacity:1; fill:none\" points=\"2007.5,198.898 2279.55,198.898 2279.55,95.2176 2007.5,95.2176 2007.5,198.898 \"/>\n",
       "<polyline clip-path=\"url(#clip780)\" style=\"stroke:#009af9; stroke-linecap:round; stroke-linejoin:round; stroke-width:4; stroke-opacity:1; fill:none\" points=\"2031.91,147.058 2178.32,147.058 \"/>\n",
       "<path clip-path=\"url(#clip780)\" d=\"M2216.56 166.745 Q2214.76 171.375 2213.04 172.787 Q2211.33 174.199 2208.46 174.199 L2205.06 174.199 L2205.06 170.634 L2207.56 170.634 Q2209.32 170.634 2210.29 169.8 Q2211.26 168.967 2212.44 165.865 L2213.2 163.921 L2202.72 138.412 L2207.23 138.412 L2215.33 158.689 L2223.44 138.412 L2227.95 138.412 L2216.56 166.745 Z\" fill=\"#000000\" fill-rule=\"nonzero\" fill-opacity=\"1\" /><path clip-path=\"url(#clip780)\" d=\"M2235.24 160.402 L2242.88 160.402 L2242.88 134.037 L2234.57 135.703 L2234.57 131.444 L2242.83 129.778 L2247.51 129.778 L2247.51 160.402 L2255.15 160.402 L2255.15 164.338 L2235.24 164.338 L2235.24 160.402 Z\" fill=\"#000000\" fill-rule=\"nonzero\" fill-opacity=\"1\" /></svg>\n"
      ]
     },
     "execution_count": 33,
     "metadata": {},
     "output_type": "execute_result"
    }
   ],
   "source": [
    "ρ00 = diag(ρ1)[1]\n",
    "ρ11 = diag(ρ1)[2]\n",
    "Tstable = - 1 / log(ρ11 / ρ00)\n",
    "display(Tstable)\n",
    "plot(diag(ρ2))"
   ]
  },
  {
   "cell_type": "code",
   "execution_count": null,
   "id": "44c322b7-4955-4f93-ac84-74813d5431ef",
   "metadata": {},
   "outputs": [],
   "source": []
  }
 ],
 "metadata": {
  "kernelspec": {
   "display_name": "Julia 1.9.4",
   "language": "julia",
   "name": "julia-1.9"
  },
  "language_info": {
   "file_extension": ".jl",
   "mimetype": "application/julia",
   "name": "julia",
   "version": "1.9.4"
  }
 },
 "nbformat": 4,
 "nbformat_minor": 5
}
