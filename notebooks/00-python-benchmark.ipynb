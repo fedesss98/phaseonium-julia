{
 "cells": [
  {
   "cell_type": "code",
   "execution_count": 51,
   "id": "bc99e9ad-92a0-491d-a5b9-a0370a06c0ed",
   "metadata": {},
   "outputs": [],
   "source": [
    "%matplotlib inline\n",
    "import copy\n",
    "import qutip\n",
    "from qutip import Qobj\n",
    "import numpy as np\n",
    "import math, cmath\n",
    "import matplotlib.pyplot as plt\n",
    "\n",
    "from IPython.display import Markdown, display"
   ]
  },
  {
   "cell_type": "markdown",
   "id": "4af2225d-9336-4e41-a503-6e6360a2201e",
   "metadata": {},
   "source": [
    "## 1) Create a thermal state"
   ]
  },
  {
   "cell_type": "code",
   "execution_count": 52,
   "id": "23a3b119-5f6e-45e2-91c8-5bea7533c038",
   "metadata": {},
   "outputs": [],
   "source": [
    "def thermal_state(ndims, omega, T, plotdiag=False):\n",
    "    diagonal = np.arange(ndims)\n",
    "    exponents = np.exp(- omega * diagonal / T)\n",
    "    return np.diag(exponents) / np.sum(exponents)"
   ]
  },
  {
   "cell_type": "code",
   "execution_count": 67,
   "id": "06c81e74-b700-42f5-80fd-590344172f0c",
   "metadata": {},
   "outputs": [],
   "source": [
    "# Define the dimensions of the system's Hilbert space\n",
    "ndims = 25\n",
    "\n",
    "# Define the energy of the system and its temperature\n",
    "omega = 1.\n",
    "T = 1.\n",
    "\n",
    "rho1 = thermal_state(ndims, omega, T);\n",
    "rho2 = thermal_state(ndims, omega, T);\n",
    "\n",
    "rho = Qobj(np.kron(rho1, rho2), dims=[[ndims, ndims], [ndims, ndims]])"
   ]
  },
  {
   "cell_type": "code",
   "execution_count": 68,
   "id": "fcae01af-ad6b-46bb-ae09-8995e9cba64e",
   "metadata": {
    "tags": []
   },
   "outputs": [
    {
     "data": {
      "text/latex": [
       "Quantum object: dims = [[25, 25], [25, 25]], shape = (625, 625), type = oper, isherm = True $ \\\\ \\left(\\begin{matrix}0.400 & 0.0 & 0.0 & 0.0 & 0.0 & \\cdots & 0.0 & 0.0 & 0.0 & 0.0 & 0.0\\\\0.0 & 0.147 & 0.0 & 0.0 & 0.0 & \\cdots & 0.0 & 0.0 & 0.0 & 0.0 & 0.0\\\\0.0 & 0.0 & 0.054 & 0.0 & 0.0 & \\cdots & 0.0 & 0.0 & 0.0 & 0.0 & 0.0\\\\0.0 & 0.0 & 0.0 & 0.020 & 0.0 & \\cdots & 0.0 & 0.0 & 0.0 & 0.0 & 0.0\\\\0.0 & 0.0 & 0.0 & 0.0 & 0.007 & \\cdots & 0.0 & 0.0 & 0.0 & 0.0 & 0.0\\\\\\vdots & \\vdots & \\vdots & \\vdots & \\vdots & \\ddots & \\vdots & \\vdots & \\vdots & \\vdots & \\vdots\\\\0.0 & 0.0 & 0.0 & 0.0 & 0.0 & \\cdots & 3.109\\times10^{-20} & 0.0 & 0.0 & 0.0 & 0.0\\\\0.0 & 0.0 & 0.0 & 0.0 & 0.0 & \\cdots & 0.0 & 1.144\\times10^{-20} & 0.0 & 0.0 & 0.0\\\\0.0 & 0.0 & 0.0 & 0.0 & 0.0 & \\cdots & 0.0 & 0.0 & 4.208\\times10^{-21} & 0.0 & 0.0\\\\0.0 & 0.0 & 0.0 & 0.0 & 0.0 & \\cdots & 0.0 & 0.0 & 0.0 & 1.548\\times10^{-21} & 0.0\\\\0.0 & 0.0 & 0.0 & 0.0 & 0.0 & \\cdots & 0.0 & 0.0 & 0.0 & 0.0 & 5.695\\times10^{-22}\\\\\\end{matrix}\\right)$"
      ],
      "text/plain": [
       "Quantum object: dims = [[25, 25], [25, 25]], shape = (625, 625), type = oper, isherm = True\n",
       "Qobj data =\n",
       "[[3.99576401e-01 0.00000000e+00 0.00000000e+00 ... 0.00000000e+00\n",
       "  0.00000000e+00 0.00000000e+00]\n",
       " [0.00000000e+00 1.46995943e-01 0.00000000e+00 ... 0.00000000e+00\n",
       "  0.00000000e+00 0.00000000e+00]\n",
       " [0.00000000e+00 0.00000000e+00 5.40767854e-02 ... 0.00000000e+00\n",
       "  0.00000000e+00 0.00000000e+00]\n",
       " ...\n",
       " [0.00000000e+00 0.00000000e+00 0.00000000e+00 ... 4.20778618e-21\n",
       "  0.00000000e+00 0.00000000e+00]\n",
       " [0.00000000e+00 0.00000000e+00 0.00000000e+00 ... 0.00000000e+00\n",
       "  1.54795803e-21 0.00000000e+00]\n",
       " [0.00000000e+00 0.00000000e+00 0.00000000e+00 ... 0.00000000e+00\n",
       "  0.00000000e+00 5.69461935e-22]]"
      ]
     },
     "metadata": {},
     "output_type": "display_data"
    },
    {
     "data": {
      "text/plain": [
       "[<matplotlib.lines.Line2D at 0x1a488bce450>]"
      ]
     },
     "execution_count": 68,
     "metadata": {},
     "output_type": "execute_result"
    },
    {
     "data": {
      "image/png": "[encoded data removed]",
      "text/plain": [
       "<Figure size 640x480 with 1 Axes>"
      ]
     },
     "metadata": {},
     "output_type": "display_data"
    }
   ],
   "source": [
    "display(rho)\n",
    "plt.plot(rho.diag())"
   ]
  },
  {
   "cell_type": "markdown",
   "id": "51638e08-f1a1-4318-8236-f151ee99a6cf",
   "metadata": {},
   "source": [
    "## 2) Create Phaseonium Ancillas"
   ]
  },
  {
   "cell_type": "code",
   "execution_count": 55,
   "id": "f87e5542-2cf6-4260-935a-e5115dde356d",
   "metadata": {},
   "outputs": [],
   "source": [
    "def phaseonium(alpha, phi):\n",
    "    return np.array([[alpha**2, 0, 0],\n",
    "                     [0, (1 - alpha**2)/2, (1 - alpha**2)/2 * np.exp(phi*1j)],\n",
    "                     [0, (1 - alpha**2)/2 * np.exp(-phi*1j), (1 - alpha**2)/2]])\n",
    "\n",
    "def dissipation_rates(alpha, phi):\n",
    "    ga = 2*alpha**2\n",
    "    gb = (1 + np.cos(phi))*(1 - alpha**2)\n",
    "    return np.real(ga), np.real(gb)\n",
    "\n",
    "def final_temperature(ga, gb):\n",
    "    return - 1 / np.log(ga/gb)"
   ]
  },
  {
   "cell_type": "code",
   "execution_count": 56,
   "id": "24d62537-3e03-4218-8aac-e8890a20862f",
   "metadata": {},
   "outputs": [
    {
     "name": "stdout",
     "output_type": "stream",
     "text": [
      "Prepared Phaseonium has:\n",
      "γα = 0.125,\n",
      "γβ = 0.9236320128073691.\n",
      "\n",
      "It will thermalize at temperature T = 0.49999999988062405\n"
     ]
    }
   ],
   "source": [
    "# Define excited-state population of phaseonium atoms\n",
    "alpha = 1 / 4\n",
    "phi = 1.585589386\n",
    "\n",
    "# Define the interaction strength\n",
    "strength = 1\n",
    "\n",
    "# Create phaseonium density matrices\n",
    "eta = Qobj(phaseonium(alpha, phi))\n",
    "\n",
    "# And get dissipation rates\n",
    "ga, gb = dissipation_rates(alpha, phi)\n",
    "\n",
    "Tf = final_temperature(ga, gb)\n",
    "\n",
    "print(f\"Prepared Phaseonium has:\\nγα = {ga},\\nγβ = {gb}.\\n\\nIt will thermalize at temperature T = {Tf}\")"
   ]
  },
  {
   "cell_type": "markdown",
   "id": "22d94f5c-c7fd-44de-85c2-168a8eb1c343",
   "metadata": {},
   "source": [
    "## 3) Create Bosonic Operators"
   ]
  },
  {
   "cell_type": "markdown",
   "id": "c568a0d0-02e0-448d-a81e-4be8ebae3d58",
   "metadata": {},
   "source": [
    "Creation and Annihilation operators are already defined in qutip, **but** the aad must be corrected (or written as ada + 1), else it results singular and not-invertible"
   ]
  },
  {
   "cell_type": "code",
   "execution_count": 57,
   "id": "ed7c5ec7-ea3b-44f1-8f56-856f55482bf8",
   "metadata": {},
   "outputs": [
    {
     "data": {
      "text/plain": [
       "True"
      ]
     },
     "execution_count": 57,
     "metadata": {},
     "output_type": "execute_result"
    }
   ],
   "source": [
    "def create(ndims):\n",
    "    \"\"\"Bosonic Creation Operator\"\"\"\n",
    "    elements = np.sqrt(np.arange(1, ndims))\n",
    "    return np.diag(elements, -1)\n",
    "\n",
    "def destroy(ndims):\n",
    "    \"\"\"Bosonic Annihilation Operator\"\"\"\n",
    "    elements = np.sqrt(np.arange(1, ndims))\n",
    "    return np.diag(elements, 1)\n",
    "\n",
    "def dag(matrix):\n",
    "    \"\"\"Conjugate Adjoint of a matrix\"\"\"\n",
    "    return np.conj(matrix.T)\n",
    "    \n",
    "np.all(create(ndims) == dag(destroy(ndims)))"
   ]
  },
  {
   "cell_type": "code",
   "execution_count": 58,
   "id": "f265e53e-b2f5-4f3e-bcd3-6445916150a7",
   "metadata": {},
   "outputs": [],
   "source": [
    "def C(theta, ndims):\n",
    "    a = qutip.destroy(ndims)\n",
    "    argument = 2 * (a.dag() * a + 1)\n",
    "    return (theta * (argument).sqrtm()).cosm()\n",
    "\n",
    "def Cp(theta, ndims):\n",
    "    a = qutip.destroy(ndims)\n",
    "    argument = 2 * a.dag() * a\n",
    "    return (theta * (argument).sqrtm()).cosm()\n",
    "\n",
    "def S(theta, ndims):\n",
    "    a = qutip.destroy(ndims)\n",
    "    argument = 2 * (a.dag() * a + 1)\n",
    "    sineop = (theta * (argument).sqrtm()).sinm()\n",
    "    dividend = (argument.sqrtm()).inv()  # pseudoinverse\n",
    "    return a.dag() * sineop * dividend\n",
    "\n",
    "def Sd(theta, ndims):\n",
    "    return S(theta, ndims).dag()"
   ]
  },
  {
   "cell_type": "markdown",
   "id": "14f2a048-0859-41f2-af4d-f87c1f2a2669",
   "metadata": {},
   "source": [
    "## 4) System Evolution"
   ]
  },
  {
   "cell_type": "markdown",
   "id": "42b202b1-b6c3-4d4d-9869-6ac800750902",
   "metadata": {},
   "source": [
    "### 4.1) Define Evolution Parameters"
   ]
  },
  {
   "cell_type": "code",
   "execution_count": 59,
   "id": "60821c26-d19b-41e4-bad7-4a7942eba3af",
   "metadata": {},
   "outputs": [],
   "source": [
    "dt = 1.0  # Interaction time\n",
    "theta = strength * dt  # Rabi phase\n",
    "\n",
    "timesteps = 100;"
   ]
  },
  {
   "cell_type": "markdown",
   "id": "03d26786-b3c0-45aa-9e40-fe2a9c785a56",
   "metadata": {},
   "source": [
    "### 4.2) Define Kraus Operators"
   ]
  },
  {
   "cell_type": "code",
   "execution_count": 60,
   "id": "a24f259e-23f0-4b3e-823d-ddbd8c9a9bbc",
   "metadata": {},
   "outputs": [],
   "source": [
    "E0 = np.sqrt(1 - ga/2 - gb/2) * qutip.tensor(qutip.qeye(ndims), qutip.qeye(ndims))\n",
    "E1 = np.sqrt(ga/2) * ( qutip.tensor(C(theta, ndims), C(theta, ndims)) -2 * qutip.tensor(S(theta, ndims), Sd(theta, ndims)) )\n",
    "E2 = np.sqrt(ga) * ( qutip.tensor(S(theta, ndims), Cp(theta, ndims)) + qutip.tensor(C(theta, ndims), S(theta, ndims)) )\n",
    "E3 = np.sqrt(gb) * ( qutip.tensor(Sd(theta, ndims), C(theta, ndims)) + qutip.tensor(Cp(theta, ndims), Sd(theta, ndims)) )\n",
    "E4 = np.sqrt(gb/2) * ( qutip.tensor(Cp(theta, ndims), Cp(theta, ndims)) -2 * qutip.tensor(Sd(theta, ndims), S(theta, ndims)) )\n",
    "kraus = (E0, E1, E2, E3, E4);"
   ]
  },
  {
   "cell_type": "markdown",
   "id": "eb31aeb8-298d-41be-94ce-55b3c8aac7e9",
   "metadata": {},
   "source": [
    "### 4.3) Write Equations of Motion"
   ]
  },
  {
   "cell_type": "code",
   "execution_count": 61,
   "id": "241a2e07-ccfa-4076-a46f-8595895de1b7",
   "metadata": {},
   "outputs": [],
   "source": [
    "def D(M, rho):\n",
    "    \"\"\"Dissipator Operator appearing in the Master Equation\"\"\"\n",
    "    sandwich = M * rho * M.dag()\n",
    "    return sandwich - 1/2 * qutip.commutator(M, rho)\n",
    "\n",
    "def meq_evolve(rho, timesteps):\n",
    "    drho = Qobj(np.zeros(rho.shape), dims=rho.dims)\n",
    "    for t in range(1, timesteps):\n",
    "        for Ek in kraus[1:-1]:\n",
    "            drho = drho + D(Ek, rho)\n",
    "        rho += drho\n",
    "    return rho\n",
    "\n",
    "\n",
    "def kraus_evolve(rho, timesteps):\n",
    "    rho_old = rho\n",
    "    for t in range(1, timesteps):\n",
    "        rho_new = sum([Ek * rho_old * Ek.dag() for Ek in kraus])\n",
    "        rho_old = rho_new\n",
    "    return rho_new"
   ]
  },
  {
   "cell_type": "code",
   "execution_count": 62,
   "id": "5a677708-dc3a-476f-830f-158d002bb7a3",
   "metadata": {},
   "outputs": [
    {
     "data": {
      "text/latex": [
       "Quantum object: dims = [[25, 25], [25, 25]], shape = (625, 625), type = oper, isherm = False $ \\\\ \\left(\\begin{matrix}0.739 & 0.0 & 0.0 & 0.0 & 0.0 & \\cdots & 0.0 & 0.0 & 0.0 & 0.0 & 0.0\\\\0.0 & 0.100 & 0.0 & 0.0 & 0.0 & \\cdots & 0.0 & 0.0 & 0.0 & 0.0 & 0.0\\\\0.0 & 0.0 & 0.014 & 0.0 & 0.0 & \\cdots & 0.0 & 0.0 & 0.0 & 0.0 & 0.0\\\\0.0 & 0.0 & 0.0 & 0.002 & 0.0 & \\cdots & 0.0 & 0.0 & 0.0 & 0.0 & 0.0\\\\0.0 & 0.0 & 0.0 & 0.0 & 2.750\\times10^{-04} & \\cdots & 0.0 & 0.0 & 0.0 & 0.0 & 0.0\\\\\\vdots & \\vdots & \\vdots & \\vdots & \\vdots & \\ddots & \\vdots & \\vdots & \\vdots & \\vdots & \\vdots\\\\0.0 & 0.0 & 0.0 & 0.0 & 0.0 & \\cdots & 0.0 & 0.0 & 0.0 & 0.0 & 0.0\\\\0.0 & 0.0 & 0.0 & 0.0 & 0.0 & \\cdots & 0.0 & 0.0 & 0.0 & 0.0 & 0.0\\\\0.0 & 0.0 & 0.0 & 0.0 & 0.0 & \\cdots & 0.0 & 0.0 & 0.0 & 0.0 & 0.0\\\\0.0 & 0.0 & 0.0 & 0.0 & 0.0 & \\cdots & 0.0 & 0.0 & 0.0 & 0.0 & 0.0\\\\0.0 & 0.0 & 0.0 & 0.0 & 0.0 & \\cdots & 0.0 & 0.0 & 0.0 & 0.0 & 0.0\\\\\\end{matrix}\\right)$"
      ],
      "text/plain": [
       "Quantum object: dims = [[25, 25], [25, 25]], shape = (625, 625), type = oper, isherm = False\n",
       "Qobj data =\n",
       "[[0.7391389  0.         0.         ... 0.         0.         0.        ]\n",
       " [0.         0.10003478 0.         ... 0.         0.         0.        ]\n",
       " [0.         0.         0.01354262 ... 0.         0.         0.        ]\n",
       " ...\n",
       " [0.         0.         0.         ... 0.         0.         0.        ]\n",
       " [0.         0.         0.         ... 0.         0.         0.        ]\n",
       " [0.         0.         0.         ... 0.         0.         0.        ]]"
      ]
     },
     "execution_count": 62,
     "metadata": {},
     "output_type": "execute_result"
    }
   ],
   "source": [
    "rhot = rho\n",
    "rhot = kraus_evolve(rhot, 1000)\n",
    "rhot"
   ]
  },
  {
   "cell_type": "markdown",
   "id": "7cd9d3d1-a61f-45d3-b22f-31974af5b761",
   "metadata": {},
   "source": [
    "### 4.4) Do some benchmark"
   ]
  },
  {
   "cell_type": "code",
   "execution_count": 64,
   "id": "b64da47c-43d6-4e5b-a741-cb3b85eda213",
   "metadata": {},
   "outputs": [],
   "source": [
    "import cProfile\n",
    "import pstats"
   ]
  },
  {
   "cell_type": "code",
   "execution_count": 65,
   "id": "315b8de2-1f20-40bd-ae96-6175a7de1d57",
   "metadata": {},
   "outputs": [],
   "source": [
    "import timeit\n",
    "\n",
    "rhot = rho\n",
    "\n",
    "def time_function(num_runs, func, *args):\n",
    "    num_runs = num_runs\n",
    "    duration = timeit.Timer(lambda: func(*args)).timeit(number=num_runs)\n",
    "    avg_duration = duration/num_runs\n",
    "    print(f'On average it took {avg_duration} seconds')\n",
    "    return duration"
   ]
  },
  {
   "cell_type": "code",
   "execution_count": 69,
   "id": "8137e6c3-822c-49b3-a172-b98525f54c17",
   "metadata": {
    "tags": []
   },
   "outputs": [
    {
     "name": "stdout",
     "output_type": "stream",
     "text": [
      "Tue Dec 19 08:20:09 2023    profile_stats\n",
      "\n",
      "         35608005 function calls (34848081 primitive calls) in 42.865 seconds\n",
      "\n",
      "   Ordered by: cumulative time\n",
      "\n",
      "   ncalls  tottime  percall  cumtime  percall filename:lineno(function)\n",
      "        1    0.000    0.000   42.865   42.865 {built-in method builtins.exec}\n",
      "        1    0.000    0.000   42.865   42.865 <string>:1(<module>)\n",
      "        1    0.000    0.000   42.865   42.865 C:\\Users\\fedes\\AppData\\Local\\Temp\\ipykernel_18084\\2797067713.py:1(profile_func)\n",
      "        1    0.092    0.092   42.865   42.865 C:\\Users\\fedes\\AppData\\Local\\Temp\\ipykernel_18084\\3159037405.py:15(kraus_evolve)\n",
      "     9999    0.225    0.000   26.160    0.003 C:\\Users\\fedes\\AppData\\Local\\Temp\\ipykernel_18084\\3159037405.py:18(<listcomp>)\n",
      "   199980    1.938    0.000   20.904    0.000 C:\\Users\\fedes\\anaconda3\\envs\\julia\\Lib\\site-packages\\qutip\\qobj.py:189(__init__)\n",
      "    99990    1.007    0.000   20.198    0.000 C:\\Users\\fedes\\anaconda3\\envs\\julia\\Lib\\site-packages\\qutip\\qobj.py:482(__mul__)\n",
      "489951/309969    0.396    0.000   16.946    0.000 {built-in method builtins.sum}\n",
      "    49995    0.508    0.000   16.510    0.000 C:\\Users\\fedes\\anaconda3\\envs\\julia\\Lib\\site-packages\\qutip\\qobj.py:360(__add__)\n",
      "   999900    1.232    0.000    9.637    0.000 C:\\Users\\fedes\\anaconda3\\envs\\julia\\Lib\\site-packages\\numpy\\core\\fromnumeric.py:2979(prod)\n",
      "   239976    0.181    0.000    8.583    0.000 C:\\Users\\fedes\\anaconda3\\envs\\julia\\Lib\\site-packages\\qutip\\qobj.py:2038(type)\n",
      "   999900    2.316    0.000    8.406    0.000 C:\\Users\\fedes\\anaconda3\\envs\\julia\\Lib\\site-packages\\numpy\\core\\fromnumeric.py:71(_wrapreduction)\n",
      "   239976    0.563    0.000    8.401    0.000 C:\\Users\\fedes\\anaconda3\\envs\\julia\\Lib\\site-packages\\qutip\\dimensions.py:32(type_from_dims)\n",
      "   479952    0.809    0.000    7.556    0.000 C:\\Users\\fedes\\anaconda3\\envs\\julia\\Lib\\site-packages\\qutip\\dimensions.py:12(is_scalar)\n",
      "    99990    0.055    0.000    6.780    0.000 C:\\Users\\fedes\\anaconda3\\envs\\julia\\Lib\\site-packages\\scipy\\sparse\\_matrix.py:47(__mul__)\n",
      "    99990    0.280    0.000    6.725    0.000 C:\\Users\\fedes\\anaconda3\\envs\\julia\\Lib\\site-packages\\scipy\\sparse\\_base.py:505(_mul_dispatch)\n",
      "    99990    0.190    0.000    5.882    0.000 C:\\Users\\fedes\\anaconda3\\envs\\julia\\Lib\\site-packages\\qutip\\fastsparse.py:165(_mul_sparse_matrix)\n",
      "    49995    0.143    0.000    5.736    0.000 C:\\Users\\fedes\\anaconda3\\envs\\julia\\Lib\\site-packages\\qutip\\qobj.py:920(dag)\n",
      "    99990    4.513    0.000    5.653    0.000 {qutip.cy.spmath.zcsr_mult}\n",
      "     9999    0.018    0.000    5.237    0.001 C:\\Users\\fedes\\anaconda3\\envs\\julia\\Lib\\site-packages\\qutip\\qobj.py:464(__radd__)\n",
      "  1009899    4.421    0.000    4.421    0.000 {method 'reduce' of 'numpy.ufunc' objects}\n",
      "   139986    0.479    0.000    4.201    0.000 C:\\Users\\fedes\\anaconda3\\envs\\julia\\Lib\\site-packages\\qutip\\qobj.py:1384(tidyup)\n",
      "   399960    1.791    0.000    3.562    0.000 C:\\Users\\fedes\\anaconda3\\envs\\julia\\Lib\\site-packages\\numpy\\core\\shape_base.py:292(hstack)\n",
      "   389961    2.117    0.000    3.430    0.000 C:\\Users\\fedes\\anaconda3\\envs\\julia\\Lib\\site-packages\\qutip\\fastsparse.py:30(__init__)\n",
      "    39996    0.081    0.000    3.177    0.000 C:\\Users\\fedes\\anaconda3\\envs\\julia\\Lib\\site-packages\\scipy\\sparse\\_base.py:457(__add__)\n",
      "29997/9999    0.218    0.000    3.135    0.000 C:\\Users\\fedes\\anaconda3\\envs\\julia\\Lib\\site-packages\\scipy\\sparse\\_compressed.py:25(__init__)\n",
      "    39996    0.032    0.000    2.864    0.000 C:\\Users\\fedes\\anaconda3\\envs\\julia\\Lib\\site-packages\\scipy\\sparse\\_compressed.py:358(_add_sparse)\n",
      "    39996    0.574    0.000    2.832    0.000 C:\\Users\\fedes\\anaconda3\\envs\\julia\\Lib\\site-packages\\qutip\\fastsparse.py:61(_binopt)\n",
      "   132041    0.258    0.000    2.626    0.000 C:\\Users\\fedes\\anaconda3\\envs\\julia\\Lib\\site-packages\\scipy\\sparse\\_compressed.py:1070(eliminate_zeros)\n",
      "    99990    1.297    0.000    1.933    0.000 C:\\Users\\fedes\\anaconda3\\envs\\julia\\Lib\\site-packages\\scipy\\sparse\\_sputils.py:147(get_index_dtype)\n",
      "   162038    0.786    0.000    1.667    0.000 C:\\Users\\fedes\\anaconda3\\envs\\julia\\Lib\\site-packages\\scipy\\sparse\\_compressed.py:1167(prune)\n",
      "   399960    0.777    0.000    1.583    0.000 C:\\Users\\fedes\\anaconda3\\envs\\julia\\Lib\\site-packages\\numpy\\core\\shape_base.py:23(atleast_1d)\n",
      "    59994    0.219    0.000    1.268    0.000 C:\\Users\\fedes\\anaconda3\\envs\\julia\\Lib\\site-packages\\scipy\\sparse\\_base.py:1269(_get_index_dtype)\n",
      "  1228094    0.423    0.000    1.205    0.000 C:\\Users\\fedes\\anaconda3\\envs\\julia\\Lib\\site-packages\\scipy\\sparse\\_base.py:286(nnz)\n",
      "    29997    0.201    0.000    1.150    0.000 C:\\Users\\fedes\\anaconda3\\envs\\julia\\Lib\\site-packages\\scipy\\sparse\\_compressed.py:135(check_format)\n",
      "1039896/479952    0.619    0.000    1.082    0.000 C:\\Users\\fedes\\anaconda3\\envs\\julia\\Lib\\site-packages\\qutip\\dimensions.py:64(flatten)\n",
      "    49995    0.608    0.000    1.045    0.000 {qutip.cy.spmath.zcsr_adjoint}\n",
      "     9999    0.020    0.000    1.022    0.000 C:\\Users\\fedes\\anaconda3\\envs\\julia\\Lib\\site-packages\\scipy\\sparse\\_base.py:343(asformat)\n",
      "     9999    0.030    0.000    0.994    0.000 C:\\Users\\fedes\\anaconda3\\envs\\julia\\Lib\\site-packages\\scipy\\sparse\\_coo.py:380(tocsr)\n",
      "   132041    0.952    0.000    0.952    0.000 {built-in method scipy.sparse._sparsetools.csr_eliminate_zeros}\n",
      "     9999    0.148    0.000    0.923    0.000 C:\\Users\\fedes\\anaconda3\\envs\\julia\\Lib\\site-packages\\scipy\\sparse\\_coo.py:132(__init__)\n",
      "   999900    0.832    0.000    0.832    0.000 C:\\Users\\fedes\\anaconda3\\envs\\julia\\Lib\\site-packages\\numpy\\core\\fromnumeric.py:72(<dictcomp>)\n",
      "  3749625    0.640    0.000    0.780    0.000 {built-in method builtins.isinstance}\n",
      "   649935    0.766    0.000    0.766    0.000 {built-in method builtins.getattr}\n",
      "  1208096    0.745    0.000    0.745    0.000 C:\\Users\\fedes\\anaconda3\\envs\\julia\\Lib\\site-packages\\scipy\\sparse\\_compressed.py:107(_getnnz)\n",
      "   139986    0.709    0.000    0.709    0.000 {built-in method qutip.cy.sparse_utils.cy_tidyup}\n",
      "   139986    0.132    0.000    0.687    0.000 C:\\Users\\fedes\\anaconda3\\envs\\julia\\Lib\\site-packages\\scipy\\sparse\\_sputils.py:211(isscalarlike)\n",
      "    39996    0.582    0.000    0.582    0.000 {built-in method scipy.sparse._sparsetools.csr_plus_csr}\n",
      "   979902    0.550    0.000    0.550    0.000 {built-in method numpy.array}\n",
      "   179982    0.251    0.000    0.546    0.000 C:\\Users\\fedes\\anaconda3\\envs\\julia\\Lib\\site-packages\\qutip\\qobj.py:2045(shape)\n",
      "     9999    0.022    0.000    0.517    0.000 C:\\Users\\fedes\\anaconda3\\envs\\julia\\Lib\\site-packages\\scipy\\sparse\\_index.py:43(__getitem__)\n",
      "   139986    0.213    0.000    0.482    0.000 C:\\Users\\fedes\\anaconda3\\envs\\julia\\Lib\\site-packages\\numpy\\core\\numeric.py:1855(isscalar)\n",
      "   399960    0.160    0.000    0.469    0.000 C:\\Users\\fedes\\anaconda3\\envs\\julia\\Lib\\site-packages\\numpy\\core\\shape_base.py:215(_vhstack_dispatcher)\n",
      "   199980    0.431    0.000    0.431    0.000 C:\\Users\\fedes\\anaconda3\\envs\\julia\\Lib\\site-packages\\numpy\\core\\getlimits.py:685(__init__)\n",
      "    39996    0.047    0.000    0.353    0.000 C:\\Users\\fedes\\anaconda3\\envs\\julia\\Lib\\site-packages\\qutip\\qobj.py:1990(isherm)\n",
      "   399960    0.339    0.000    0.339    0.000 {method 'reshape' of 'numpy.ndarray' objects}\n",
      "   409959    0.338    0.000    0.338    0.000 {built-in method numpy.asanyarray}\n",
      "     9999    0.046    0.000    0.334    0.000 C:\\Users\\fedes\\anaconda3\\envs\\julia\\Lib\\site-packages\\scipy\\sparse\\_coo.py:273(_check)\n",
      "   399960    0.198    0.000    0.309    0.000 C:\\Users\\fedes\\anaconda3\\envs\\julia\\Lib\\site-packages\\numpy\\core\\shape_base.py:207(_arrays_for_stack_dispatcher)\n",
      "  2263882    0.306    0.000    0.306    0.000 C:\\Users\\fedes\\anaconda3\\envs\\julia\\Lib\\site-packages\\scipy\\sparse\\_matrix.py:90(get_shape)\n",
      "     9999    0.034    0.000    0.303    0.000 C:\\Users\\fedes\\anaconda3\\envs\\julia\\Lib\\site-packages\\scipy\\sparse\\_index.py:145(_validate_indices)\n",
      "    39996    0.289    0.000    0.300    0.000 {qutip.cy.spmath.zcsr_isherm}\n",
      "   239976    0.223    0.000    0.282    0.000 C:\\Users\\fedes\\anaconda3\\envs\\julia\\Lib\\site-packages\\qutip\\dimensions.py:19(is_vector)\n",
      "    39996    0.130    0.000    0.246    0.000 C:\\Users\\fedes\\anaconda3\\envs\\julia\\Lib\\site-packages\\scipy\\sparse\\_sputils.py:294(check_shape)\n",
      "   324076    0.215    0.000    0.233    0.000 C:\\Users\\fedes\\anaconda3\\envs\\julia\\Lib\\site-packages\\scipy\\_lib\\_util.py:144(_prune_array)\n",
      "   809919    0.223    0.000    0.223    0.000 {built-in method builtins.hasattr}\n",
      "   189981    0.196    0.000    0.219    0.000 C:\\Users\\fedes\\anaconda3\\envs\\julia\\Lib\\site-packages\\qutip\\qobj.py:353(set_data)\n",
      "     9999    0.034    0.000    0.189    0.000 C:\\Users\\fedes\\anaconda3\\envs\\julia\\Lib\\site-packages\\scipy\\sparse\\_compressed.py:653(_get_intXint)\n",
      "    39996    0.059    0.000    0.187    0.000 C:\\Users\\fedes\\anaconda3\\envs\\julia\\Lib\\site-packages\\scipy\\sparse\\_sputils.py:216(isintlike)\n",
      "     9999    0.070    0.000    0.177    0.000 C:\\Users\\fedes\\anaconda3\\envs\\julia\\Lib\\site-packages\\scipy\\sparse\\_index.py:264(_unpack_index)\n",
      "   599940    0.175    0.000    0.175    0.000 C:\\Users\\fedes\\anaconda3\\envs\\julia\\Lib\\site-packages\\qutip\\fastsparse.py:52(<genexpr>)\n",
      "   219978    0.172    0.000    0.172    0.000 {built-in method numpy.zeros}\n",
      "  1281926    0.172    0.000    0.172    0.000 C:\\Users\\fedes\\anaconda3\\envs\\julia\\Lib\\site-packages\\qutip\\qobj.py:349(get_data)\n",
      "   999900    0.165    0.000    0.165    0.000 C:\\Users\\fedes\\anaconda3\\envs\\julia\\Lib\\site-packages\\numpy\\core\\fromnumeric.py:2974(_prod_dispatcher)\n",
      "   389961    0.163    0.000    0.163    0.000 C:\\Users\\fedes\\anaconda3\\envs\\julia\\Lib\\site-packages\\scipy\\sparse\\_data.py:26(_set_dtype)\n",
      "   569943    0.162    0.000    0.162    0.000 C:\\Users\\fedes\\anaconda3\\envs\\julia\\Lib\\site-packages\\qutip\\fastsparse.py:37(<genexpr>)\n",
      "  1256037    0.158    0.000    0.158    0.000 {built-in method builtins.len}\n",
      "   539946    0.148    0.000    0.148    0.000 {built-in method numpy.asarray}\n",
      "   999900    0.147    0.000    0.147    0.000 {method 'items' of 'dict' objects}\n",
      "    19998    0.026    0.000    0.146    0.000 C:\\Users\\fedes\\anaconda3\\envs\\julia\\Lib\\site-packages\\scipy\\sparse\\_compressed.py:124(_set_self)\n",
      "   139986    0.049    0.000    0.140    0.000 <frozen abc>:117(__instancecheck__)\n",
      "   119988    0.125    0.000    0.125    0.000 {built-in method numpy.empty}\n",
      "    39996    0.081    0.000    0.116    0.000 C:\\Users\\fedes\\anaconda3\\envs\\julia\\Lib\\site-packages\\numpy\\core\\fromnumeric.py:3176(ndim)\n",
      "     9999    0.017    0.000    0.114    0.000 C:\\Users\\fedes\\anaconda3\\envs\\julia\\Lib\\site-packages\\scipy\\sparse\\_sputils.py:238(isshape)\n",
      "    99990    0.114    0.000    0.114    0.000 C:\\Users\\fedes\\anaconda3\\envs\\julia\\Lib\\site-packages\\qutip\\qobj.py:506(<listcomp>)\n",
      "    89991    0.070    0.000    0.106    0.000 <frozen importlib._bootstrap>:405(parent)\n",
      "   229977    0.103    0.000    0.103    0.000 {built-in method builtins.max}\n",
      "   139986    0.091    0.000    0.091    0.000 {built-in method _abc._abc_instancecheck}\n",
      "   209979    0.063    0.000    0.086    0.000 C:\\Users\\fedes\\anaconda3\\envs\\julia\\Lib\\site-packages\\scipy\\sparse\\_base.py:1461(issparse)\n",
      "     9999    0.083    0.000    0.083    0.000 {built-in method scipy.sparse._sparsetools.get_csr_submatrix}\n",
      "   409959    0.079    0.000    0.079    0.000 {method 'append' of 'list' objects}\n",
      "     9999    0.055    0.000    0.074    0.000 C:\\Users\\fedes\\anaconda3\\envs\\julia\\Lib\\site-packages\\scipy\\sparse\\_matrix.py:16(_coo_container)\n",
      "   139986    0.056    0.000    0.073    0.000 C:\\Users\\fedes\\anaconda3\\envs\\julia\\Lib\\site-packages\\scipy\\sparse\\_sputils.py:267(isdense)\n",
      "    39996    0.037    0.000    0.066    0.000 C:\\Users\\fedes\\anaconda3\\envs\\julia\\Lib\\site-packages\\scipy\\sparse\\_sputils.py:22(upcast)\n",
      "     9999    0.014    0.000    0.065    0.000 {method 'sum' of 'numpy.ndarray' objects}\n",
      "    99990    0.065    0.000    0.065    0.000 C:\\Users\\fedes\\anaconda3\\envs\\julia\\Lib\\site-packages\\numpy\\core\\getlimits.py:696(min)\n",
      "   399960    0.063    0.000    0.063    0.000 C:\\Users\\fedes\\anaconda3\\envs\\julia\\Lib\\site-packages\\numpy\\core\\multiarray.py:153(concatenate)\n",
      "    49995    0.063    0.000    0.063    0.000 {method 'astype' of 'numpy.ndarray' objects}\n",
      "    39996    0.024    0.000    0.062    0.000 C:\\Users\\fedes\\anaconda3\\envs\\julia\\Lib\\site-packages\\scipy\\sparse\\_data.py:20(__init__)\n",
      "    99990    0.059    0.000    0.059    0.000 C:\\Users\\fedes\\anaconda3\\envs\\julia\\Lib\\site-packages\\qutip\\qobj.py:513(<listcomp>)\n",
      "     9999    0.006    0.000    0.052    0.000 C:\\Users\\fedes\\anaconda3\\envs\\julia\\Lib\\site-packages\\numpy\\core\\_methods.py:47(_sum)\n",
      "    39996    0.030    0.000    0.052    0.000 {built-in method builtins.any}\n",
      "    19998    0.016    0.000    0.052    0.000 C:\\Users\\fedes\\anaconda3\\envs\\julia\\Lib\\site-packages\\scipy\\sparse\\_index.py:371(_compatible_boolean_index)\n",
      "   119988    0.041    0.000    0.050    0.000 C:\\Users\\fedes\\anaconda3\\envs\\julia\\Lib\\site-packages\\scipy\\sparse\\_sputils.py:307(<genexpr>)\n",
      "   484060    0.050    0.000    0.050    0.000 C:\\Users\\fedes\\anaconda3\\envs\\julia\\Lib\\site-packages\\scipy\\sparse\\_csr.py:236(_swap)\n",
      "    99990    0.048    0.000    0.048    0.000 C:\\Users\\fedes\\anaconda3\\envs\\julia\\Lib\\site-packages\\numpy\\core\\getlimits.py:709(max)\n",
      "    99990    0.044    0.000    0.044    0.000 C:\\Users\\fedes\\anaconda3\\envs\\julia\\Lib\\site-packages\\qutip\\qobj.py:516(<listcomp>)\n",
      "   399960    0.044    0.000    0.044    0.000 C:\\Users\\fedes\\anaconda3\\envs\\julia\\Lib\\site-packages\\numpy\\core\\shape_base.py:19(_atleast_1d_dispatcher)\n",
      "     9999    0.032    0.000    0.043    0.000 C:\\Users\\fedes\\anaconda3\\envs\\julia\\Lib\\site-packages\\scipy\\sparse\\_matrix.py:26(_csr_container)\n",
      "   139986    0.039    0.000    0.039    0.000 C:\\Users\\fedes\\anaconda3\\envs\\julia\\Lib\\site-packages\\qutip\\cy\\openmp\\utilities.py:28(use_openmp)\n",
      "    39996    0.038    0.000    0.038    0.000 C:\\Users\\fedes\\anaconda3\\envs\\julia\\Lib\\site-packages\\scipy\\sparse\\_base.py:108(__init__)\n",
      "    19998    0.031    0.000    0.037    0.000 C:\\Users\\fedes\\anaconda3\\envs\\julia\\Lib\\site-packages\\scipy\\sparse\\_coo.py:247(_getnnz)\n",
      "    89991    0.037    0.000    0.037    0.000 {method 'rpartition' of 'str' objects}\n",
      "     9999    0.034    0.000    0.034    0.000 {method 'nonzero' of 'numpy.ndarray' objects}\n",
      "    19998    0.022    0.000    0.032    0.000 C:\\Users\\fedes\\anaconda3\\envs\\julia\\Lib\\site-packages\\scipy\\sparse\\_index.py:356(_first_element_bool)\n",
      "   239976    0.032    0.000    0.032    0.000 C:\\Users\\fedes\\anaconda3\\envs\\julia\\Lib\\site-packages\\numpy\\core\\multiarray.py:503(can_cast)\n",
      "     9999    0.020    0.000    0.029    0.000 C:\\Users\\fedes\\anaconda3\\envs\\julia\\Lib\\site-packages\\scipy\\sparse\\_index.py:310(_check_ellipsis)\n",
      "    99990    0.025    0.000    0.025    0.000 C:\\Users\\fedes\\anaconda3\\envs\\julia\\Lib\\site-packages\\scipy\\sparse\\_data.py:23(_get_dtype)\n",
      "     9999    0.018    0.000    0.023    0.000 C:\\Users\\fedes\\anaconda3\\envs\\julia\\Lib\\site-packages\\numpy\\core\\shape_base.py:81(atleast_2d)\n",
      "   119988    0.021    0.000    0.021    0.000 C:\\Users\\fedes\\anaconda3\\envs\\julia\\Lib\\site-packages\\scipy\\sparse\\_sputils.py:312(<genexpr>)\n",
      "   119988    0.020    0.000    0.020    0.000 C:\\Users\\fedes\\anaconda3\\envs\\julia\\Lib\\site-packages\\scipy\\sparse\\_base.py:296(format)\n",
      "     8422    0.018    0.000    0.018    0.000 {method 'copy' of 'numpy.ndarray' objects}\n",
      "    39996    0.017    0.000    0.017    0.000 C:\\Users\\fedes\\anaconda3\\envs\\julia\\Lib\\site-packages\\scipy\\sparse\\_sputils.py:93(to_native)\n",
      "   119988    0.015    0.000    0.015    0.000 {built-in method _operator.index}\n",
      "    39996    0.015    0.000    0.015    0.000 {built-in method builtins.hash}\n",
      "    39996    0.014    0.000    0.014    0.000 {method 'get' of 'dict' objects}\n",
      "     9999    0.013    0.000    0.013    0.000 C:\\Users\\fedes\\anaconda3\\envs\\julia\\Lib\\site-packages\\scipy\\sparse\\_sputils.py:109(getdtype)\n",
      "    19998    0.010    0.000    0.010    0.000 {built-in method builtins.iter}\n",
      "     9999    0.008    0.000    0.008    0.000 C:\\Users\\fedes\\anaconda3\\envs\\julia\\Lib\\site-packages\\scipy\\sparse\\_index.py:319(<listcomp>)\n",
      "    39996    0.006    0.000    0.006    0.000 C:\\Users\\fedes\\anaconda3\\envs\\julia\\Lib\\site-packages\\numpy\\core\\fromnumeric.py:3172(_ndim_dispatcher)\n",
      "     9999    0.001    0.000    0.001    0.000 C:\\Users\\fedes\\anaconda3\\envs\\julia\\Lib\\site-packages\\numpy\\core\\shape_base.py:77(_atleast_2d_dispatcher)\n",
      "        1    0.000    0.000    0.000    0.000 {method 'disable' of '_lsprof.Profiler' objects}\n",
      "\n",
      "\n"
     ]
    },
    {
     "data": {
      "text/plain": [
       "<pstats.Stats at 0x1a485286450>"
      ]
     },
     "execution_count": 69,
     "metadata": {},
     "output_type": "execute_result"
    }
   ],
   "source": [
    "def profile_func():\n",
    "    rho_new = kraus_evolve(rho, 10000)\n",
    "    return rho_new\n",
    "\n",
    "# Profile the code\n",
    "cProfile.run('profile_func()', 'profile_stats')\n",
    "\n",
    "# Display the profiling results\n",
    "stats = pstats.Stats('profile_stats')\n",
    "stats.sort_stats('cumulative')  # You can change the sorting method\n",
    "stats.print_stats()"
   ]
  },
  {
   "cell_type": "code",
   "execution_count": 16,
   "id": "3cbc9865-5fad-419f-9b75-40d4cf771ad8",
   "metadata": {},
   "outputs": [
    {
     "name": "stdout",
     "output_type": "stream",
     "text": [
      "On average it took 108.20184549999999 seconds\n"
     ]
    }
   ],
   "source": [
    "b1 = time_function(2, meq_evolve, rhot, 1000)"
   ]
  },
  {
   "cell_type": "code",
   "execution_count": 46,
   "id": "463dcd67-a635-4171-bcba-30093f9ac81a",
   "metadata": {},
   "outputs": [
    {
     "name": "stdout",
     "output_type": "stream",
     "text": [
      "On average it took 2.9272455833342974 seconds\n"
     ]
    }
   ],
   "source": [
    "b2 = time_function(6, kraus_evolve, rhot, 1000)"
   ]
  },
  {
   "cell_type": "code",
   "execution_count": 72,
   "id": "7e76cf80-9e29-493b-acab-cf7b45075c69",
   "metadata": {},
   "outputs": [],
   "source": [
    "from tqdm import trange\n",
    "def kraus_evolve(rho, timesteps):\n",
    "    rho_old = rho\n",
    "    for t in trange(1, timesteps):\n",
    "        rho_new = sum([Ek * rho_old * Ek.dag() for Ek in kraus])\n",
    "        rho_old = rho_new\n",
    "    return rho_new"
   ]
  },
  {
   "cell_type": "code",
   "execution_count": 73,
   "id": "7c00db47-0509-40b2-af3a-a18d6b4d1353",
   "metadata": {},
   "outputs": [
    {
     "name": "stderr",
     "output_type": "stream",
     "text": [
      "100%|█████████████████████████████████████████████████████████| 4999/4999 [00:13<00:00, 375.29it/s]\n"
     ]
    }
   ],
   "source": [
    "rhot = rho\n",
    "rhot = kraus_evolve(rhot, 5000)"
   ]
  },
  {
   "cell_type": "code",
   "execution_count": 74,
   "id": "ddefa5c4-89f9-491e-a01b-15b777d377c9",
   "metadata": {},
   "outputs": [
    {
     "name": "stdout",
     "output_type": "stream",
     "text": [
      "0.5000020170217216\n"
     ]
    },
    {
     "data": {
      "text/plain": [
       "[<matplotlib.lines.Line2D at 0x1a48934e910>]"
      ]
     },
     "execution_count": 74,
     "metadata": {},
     "output_type": "execute_result"
    },
    {
     "data": {
      "image/png": "[encoded data removed]",
      "text/plain": [
       "<Figure size 640x480 with 1 Axes>"
      ]
     },
     "metadata": {},
     "output_type": "display_data"
    }
   ],
   "source": [
    "rho1 = rhot.ptrace(0)\n",
    "rho00 = rho1.diag()[0]\n",
    "rho11 = rho1.diag()[1]\n",
    "Tstable = - 1 / np.log(rho11 / rho00)\n",
    "print(Tstable)\n",
    "plt.plot(rho1.diag())"
   ]
  },
  {
   "cell_type": "code",
   "execution_count": null,
   "id": "9bc1c548-7c39-4b39-ae54-ca78dc30c34c",
   "metadata": {},
   "outputs": [],
   "source": []
  },
  {
   "cell_type": "code",
   "execution_count": null,
   "id": "7d8baf8a-3f26-4430-aedd-2d5fb9dfbc4c",
   "metadata": {},
   "outputs": [],
   "source": []
  }
 ],
 "metadata": {
  "kernelspec": {
   "display_name": "Python 3 (ipykernel)",
   "language": "python",
   "name": "python3"
  },
  "language_info": {
   "codemirror_mode": {
    "name": "ipython",
    "version": 3
   },
   "file_extension": ".py",
   "mimetype": "text/x-python",
   "name": "python",
   "nbconvert_exporter": "python",
   "pygments_lexer": "ipython3",
   "version": "3.11.5"
  }
 },
 "nbformat": 4,
 "nbformat_minor": 5
}
